{
 "cells": [
  {
   "cell_type": "code",
   "execution_count": 1,
   "outputs": [],
   "source": [
    "import numpy as np\n",
    "import sympy as sp\n",
    "from IPython.display import display\n",
    "from sympy.abc import L, z, M, alpha, beta, n"
   ],
   "metadata": {
    "collapsed": false,
    "pycharm": {
     "name": "#%%\n"
    }
   }
  },
  {
   "cell_type": "code",
   "execution_count": 2,
   "outputs": [
    {
     "data": {
      "text/plain": "Eq(Phi(L, z), Phi_*(z)/(((L/L_*(z))**(-beta) + (L/L_*(z))**(-alpha))*L_*(z)))",
      "text/latex": "$\\displaystyle \\Phi{\\left(L,z \\right)} = \\frac{\\Phi_{*}{\\left(z \\right)}}{\\left(\\left(\\frac{L}{\\operatorname{L_{*}}{\\left(z \\right)}}\\right)^{- \\beta} + \\left(\\frac{L}{\\operatorname{L_{*}}{\\left(z \\right)}}\\right)^{- \\alpha}\\right) \\operatorname{L_{*}}{\\left(z \\right)}}$"
     },
     "execution_count": 2,
     "metadata": {},
     "output_type": "execute_result"
    }
   ],
   "source": [
    "Phi_star, M_star, L_star, Phi = sp.symbols('Phi_*, M_*, L_*, Phi', cls=sp.Function)\n",
    "QLF = sp.Eq(Phi(L, z), (Phi_star(z) / L_star(z)) * ((L / L_star(z))**-alpha + (L / L_star(z))**-beta)**-1)\n",
    "QLF"
   ],
   "metadata": {
    "collapsed": false,
    "pycharm": {
     "name": "#%%\n"
    }
   }
  },
  {
   "cell_type": "code",
   "execution_count": 3,
   "outputs": [
    {
     "data": {
      "text/plain": "Eq(L/L_*(z), 10**(-0.4*M + 0.4*M_*(z)))",
      "text/latex": "$\\displaystyle \\frac{L}{\\operatorname{L_{*}}{\\left(z \\right)}} = 10^{- 0.4 M + 0.4 \\operatorname{M_{*}}{\\left(z \\right)}}$"
     },
     "execution_count": 3,
     "metadata": {},
     "output_type": "execute_result"
    }
   ],
   "source": [
    "sp.Eq(L/L_star(z), 10**(0.4 * (M_star(z) - M)))"
   ],
   "metadata": {
    "collapsed": false,
    "pycharm": {
     "name": "#%%\n"
    }
   }
  },
  {
   "cell_type": "code",
   "execution_count": 4,
   "outputs": [
    {
     "data": {
      "text/plain": "Eq(Phi(M, z), 0.4*10**(-0.4*M + 0.4*M_*(z))*Phi_*(z)*log(10)/((10**(-0.4*M + 0.4*M_*(z)))**(-beta) + (10**(-0.4*M + 0.4*M_*(z)))**(-alpha)))",
      "text/latex": "$\\displaystyle \\Phi{\\left(M,z \\right)} = \\frac{0.4 \\cdot 10^{- 0.4 M + 0.4 \\operatorname{M_{*}}{\\left(z \\right)}} \\Phi_{*}{\\left(z \\right)} \\log{\\left(10 \\right)}}{\\left(10^{- 0.4 M + 0.4 \\operatorname{M_{*}}{\\left(z \\right)}}\\right)^{- \\beta} + \\left(10^{- 0.4 M + 0.4 \\operatorname{M_{*}}{\\left(z \\right)}}\\right)^{- \\alpha}}$"
     },
     "execution_count": 4,
     "metadata": {},
     "output_type": "execute_result"
    }
   ],
   "source": [
    "QLF_M = sp.Eq(Phi(M, z), Phi(L, z) * 0.4 * sp.log(10) * L)\n",
    "QLF_M = QLF_M.subs({Phi(L, z): QLF.rhs}).subs({L/L_star(z): 10**(0.4 * (M_star(z) - M))})\n",
    "QLF_M"
   ],
   "metadata": {
    "collapsed": false,
    "pycharm": {
     "name": "#%%\n"
    }
   }
  },
  {
   "cell_type": "code",
   "execution_count": 5,
   "outputs": [
    {
     "data": {
      "text/plain": "Eq(M_*(z), Sum(M_*[i]*Product((-z[k] + z)/(z[i] - z[k]), (k, 1, n)), (i, 1, n)))",
      "text/latex": "$\\displaystyle \\operatorname{M_{*}}{\\left(z \\right)} = \\sum_{i=1}^{n} {M_{*}}_{i} \\prod_{k=1}^{n} \\frac{- {z}_{k} + z}{{z}_{i} - {z}_{k}}$"
     },
     "execution_count": 5,
     "metadata": {},
     "output_type": "execute_result"
    }
   ],
   "source": [
    "i, k = sp.symbols('i, k')\n",
    "a = sp.IndexedBase('M_*')\n",
    "z = sp.IndexedBase('z')\n",
    "LumEvol = sp.Eq(M_star(z), sp.Sum(a[i] * sp.Product((z - z[k]) / (z[i] - z[k]), (k, 1, n)), (i, 1, n)))\n",
    "LumEvol"
   ],
   "metadata": {
    "collapsed": false,
    "pycharm": {
     "name": "#%%\n"
    }
   }
  },
  {
   "cell_type": "code",
   "execution_count": 6,
   "outputs": [
    {
     "data": {
      "text/plain": "Eq(log(Phi_*(z))/log(10), Sum(log(Phi_*(z[i]))*Product((-z[k] + z)/(z[i] - z[k]), (k, 1, n))/log(10), (i, 1, n)))",
      "text/latex": "$\\displaystyle \\frac{\\log{\\left(\\Phi_{*}{\\left(z \\right)} \\right)}}{\\log{\\left(10 \\right)}} = \\sum_{i=1}^{n} \\frac{\\log{\\left(\\Phi_{*}{\\left({z}_{i} \\right)} \\right)} \\prod_{k=1}^{n} \\frac{- {z}_{k} + z}{{z}_{i} - {z}_{k}}}{\\log{\\left(10 \\right)}}$"
     },
     "metadata": {},
     "output_type": "display_data"
    },
    {
     "data": {
      "text/plain": "Eq(Phi_*(z), Product(exp(log(Phi_*(z[i]))*Product((-z[k] + z)/(z[i] - z[k]), (k, 1, n))), (i, 1, n)))",
      "text/latex": "$\\displaystyle \\Phi_{*}{\\left(z \\right)} = \\prod_{i=1}^{n} e^{\\log{\\left(\\Phi_{*}{\\left({z}_{i} \\right)} \\right)} \\prod_{k=1}^{n} \\frac{- {z}_{k} + z}{{z}_{i} - {z}_{k}}}$"
     },
     "execution_count": 6,
     "metadata": {},
     "output_type": "execute_result"
    }
   ],
   "source": [
    "DenEvol = sp.Eq(sp.log(Phi_star(z), 10), sp.Sum(sp.log(Phi_star(z[i]), 10) * sp.Product((z - z[k]) / (z[i] - z[k]), (k, 1, n)), (i, 1, n)))\n",
    "display(DenEvol)\n",
    "sp.Eq(Phi_star(z), sp.solve(DenEvol, Phi_star(z))[0])"
   ],
   "metadata": {
    "collapsed": false,
    "pycharm": {
     "name": "#%%\n"
    }
   }
  },
  {
   "cell_type": "code",
   "execution_count": 7,
   "outputs": [
    {
     "data": {
      "text/plain": "Eq(Phi(M, z), 0.4*10**(-0.4*M + 0.4*M_*(z))*Phi_*(z)*log(10)/((10**(-0.4*M + 0.4*M_*(z)))**(-beta) + (10**(-0.4*M + 0.4*M_*(z)))**(-alpha)))",
      "text/latex": "$\\displaystyle \\Phi{\\left(M,z \\right)} = \\frac{0.4 \\cdot 10^{- 0.4 M + 0.4 \\operatorname{M_{*}}{\\left(z \\right)}} \\Phi_{*}{\\left(z \\right)} \\log{\\left(10 \\right)}}{\\left(10^{- 0.4 M + 0.4 \\operatorname{M_{*}}{\\left(z \\right)}}\\right)^{- \\beta} + \\left(10^{- 0.4 M + 0.4 \\operatorname{M_{*}}{\\left(z \\right)}}\\right)^{- \\alpha}}$"
     },
     "execution_count": 7,
     "metadata": {},
     "output_type": "execute_result"
    }
   ],
   "source": [
    "QLF_M.subs({M_star(z): LumEvol.rhs})"
   ],
   "metadata": {
    "collapsed": false,
    "pycharm": {
     "name": "#%%\n"
    }
   }
  },
  {
   "cell_type": "code",
   "execution_count": 8,
   "outputs": [
    {
     "data": {
      "text/plain": "Sum(M_*[i]*Product((-z[k] + z)/(z[i] - z[k]), (k, 1, n)), (i, 1, n))",
      "text/latex": "$\\displaystyle \\sum_{i=1}^{n} {M_{*}}_{i} \\prod_{k=1}^{n} \\frac{- {z}_{k} + z}{{z}_{i} - {z}_{k}}$"
     },
     "execution_count": 8,
     "metadata": {},
     "output_type": "execute_result"
    }
   ],
   "source": [
    "LumEvol.rhs.evalf(2)"
   ],
   "metadata": {
    "collapsed": false,
    "pycharm": {
     "name": "#%%\n"
    }
   }
  },
  {
   "cell_type": "code",
   "execution_count": 9,
   "outputs": [
    {
     "data": {
      "text/plain": "-24.113020833333334"
     },
     "execution_count": 9,
     "metadata": {},
     "output_type": "execute_result"
    }
   ],
   "source": [
    "from scipy.interpolate import lagrange\n",
    "from numpy.polynomial import Polynomial\n",
    "z_m_star = [0.5, 1., 2., 4.]\n",
    "m_star = [-23.51, -24.64, -26.10, -27.08]\n",
    "\n",
    "f = lagrange(z_m_star, m_star)\n",
    "f.coef\n",
    "f(0.75)"
   ],
   "metadata": {
    "collapsed": false,
    "pycharm": {
     "name": "#%%\n"
    }
   }
  },
  {
   "cell_type": "code",
   "execution_count": 10,
   "outputs": [],
   "source": [
    "def LagrangePoly(x, order, j, xi=None):\n",
    "    if xi is None:\n",
    "        xi = sp.symbols(f'z:{order + 1:d}')\n",
    "\n",
    "    idx = np.arange(order + 1)\n",
    "    idx = np.delete(idx, j)\n",
    "    return sp.prod([(x - xi[l]) / (xi[j] - xi[l]) for l in idx])"
   ],
   "metadata": {
    "collapsed": false,
    "pycharm": {
     "name": "#%%\n"
    }
   }
  },
  {
   "cell_type": "code",
   "execution_count": 11,
   "outputs": [
    {
     "data": {
      "text/plain": "-0.380952380952381*z**3 + 2.66666666666667*z**2 - 5.33333333333333*z + 3.04761904761905",
      "text/latex": "$\\displaystyle - 0.380952380952381 z^{3} + 2.66666666666667 z^{2} - 5.33333333333333 z + 3.04761904761905$"
     },
     "metadata": {},
     "output_type": "display_data"
    },
    {
     "data": {
      "text/plain": "0.666666666666667*z**3 - 4.33333333333333*z**2 + 7.33333333333333*z - 2.66666666666667",
      "text/latex": "$\\displaystyle 0.666666666666667 z^{3} - 4.33333333333333 z^{2} + 7.33333333333333 z - 2.66666666666667$"
     },
     "metadata": {},
     "output_type": "display_data"
    },
    {
     "data": {
      "text/plain": "-0.333333333333333*z**3 + 1.83333333333333*z**2 - 2.16666666666667*z + 0.666666666666667",
      "text/latex": "$\\displaystyle - 0.333333333333333 z^{3} + 1.83333333333333 z^{2} - 2.16666666666667 z + 0.666666666666667$"
     },
     "metadata": {},
     "output_type": "display_data"
    },
    {
     "data": {
      "text/plain": "0.0476190476190476*z**3 - 0.166666666666667*z**2 + 0.166666666666667*z - 0.0476190476190476",
      "text/latex": "$\\displaystyle 0.0476190476190476 z^{3} - 0.166666666666667 z^{2} + 0.166666666666667 z - 0.0476190476190476$"
     },
     "metadata": {},
     "output_type": "display_data"
    }
   ],
   "source": [
    "L = [LagrangePoly(sp.symbols('z'), order=3, j=i, xi=z_m_star) for i in range(len(z_m_star))]\n",
    "for basis in L:\n",
    "    display(basis.expand())"
   ],
   "metadata": {
    "collapsed": false,
    "pycharm": {
     "name": "#%%\n"
    }
   }
  },
  {
   "cell_type": "code",
   "execution_count": 12,
   "outputs": [
    {
     "data": {
      "text/plain": "-0.0600000000000009*z**3 + 0.743333333333322*z**2 - 3.26999999999999*z - 22.0533333333333",
      "text/latex": "$\\displaystyle - 0.0600000000000009 z^{3} + 0.743333333333322 z^{2} - 3.26999999999999 z - 22.0533333333333$"
     },
     "metadata": {},
     "output_type": "display_data"
    }
   ],
   "source": [
    "lp = sp.Add(*[m_star[m] * L[m] for m in range(len(L))])\n",
    "display(lp.simplify())\n",
    "lp_f = sp.lambdify(sp.symbols('z'), lp)"
   ],
   "metadata": {
    "collapsed": false,
    "pycharm": {
     "name": "#%%\n"
    }
   }
  },
  {
   "cell_type": "code",
   "execution_count": 13,
   "outputs": [
    {
     "data": {
      "text/plain": "True"
     },
     "execution_count": 13,
     "metadata": {},
     "output_type": "execute_result"
    }
   ],
   "source": [
    "np.isclose(lp_f(0.75), f(0.75))"
   ],
   "metadata": {
    "collapsed": false,
    "pycharm": {
     "name": "#%%\n"
    }
   }
  },
  {
   "cell_type": "code",
   "execution_count": 14,
   "outputs": [
    {
     "data": {
      "text/plain": "array([ -0.06      ,   0.74333333,  -3.27      , -22.05333333])"
     },
     "execution_count": 14,
     "metadata": {},
     "output_type": "execute_result"
    }
   ],
   "source": [
    "f.coef"
   ],
   "metadata": {
    "collapsed": false,
    "pycharm": {
     "name": "#%%\n"
    }
   }
  },
  {
   "cell_type": "code",
   "execution_count": 15,
   "outputs": [
    {
     "data": {
      "text/plain": "C + r*theta*(1.0e-15*m)**zeta*(z + 1)**eta*(r**2/r_c**2 + 1)**(0.5 - 1.5*beta)*D_A(z)**2*Phi(J, z)",
      "text/latex": "$\\displaystyle C + r \\theta \\left(1.0 \\cdot 10^{-15} m\\right)^{\\zeta} \\left(z + 1\\right)^{\\eta} \\left(\\frac{r^{2}}{r_{c}^{2}} + 1\\right)^{0.5 - 1.5 \\beta} \\operatorname{D_{A}}^{2}{\\left(z \\right)} \\Phi{\\left(J,z \\right)}$"
     },
     "execution_count": 15,
     "metadata": {},
     "output_type": "execute_result"
    }
   ],
   "source": [
    "r, m, z, J = sp.symbols('r,m,z,J')\n",
    "theta, eta, zeta, beta, rc, C = sp.symbols('theta, eta, zeta, beta, r_c, C')\n",
    "N = sp.symbols('N', cls=sp.Function)(z, m, r, J)\n",
    "DA = sp.symbols('D_A', cls=sp.Function)(z)\n",
    "LF = sp.symbols('Phi', cls=sp.Function)(J, z)\n",
    "\n",
    "\n",
    "model = theta * (1 + z)**eta * (m / 1e15)**zeta * (1 + (r / rc)**2)**(-1.5 * beta + 0.5) * DA**2 * r * LF + C\n",
    "model"
   ],
   "metadata": {
    "collapsed": false,
    "pycharm": {
     "name": "#%%\n"
    }
   }
  },
  {
   "cell_type": "code",
   "execution_count": 16,
   "outputs": [
    {
     "data": {
      "text/plain": "C*J*r + theta*(1.0e-15*m)**zeta*(z + 1)**eta*D_A(z)**2*Integral(r*(r**2/r_c**2 + 1)**0.5/(r**2/r_c**2 + 1)**(1.5*beta), r)*Integral(Phi(J, z), J)",
      "text/latex": "$\\displaystyle C J r + \\theta \\left(1.0 \\cdot 10^{-15} m\\right)^{\\zeta} \\left(z + 1\\right)^{\\eta} \\operatorname{D_{A}}^{2}{\\left(z \\right)} \\left(\\int r \\left(\\frac{r^{2}}{r_{c}^{2}} + 1\\right)^{0.5} \\left(\\frac{r^{2}}{r_{c}^{2}} + 1\\right)^{- 1.5 \\beta}\\, dr\\right) \\int \\Phi{\\left(J,z \\right)}\\, dJ$"
     },
     "execution_count": 16,
     "metadata": {},
     "output_type": "execute_result"
    }
   ],
   "source": [
    "sp.Integral(model, r, J).simplify()"
   ],
   "metadata": {
    "collapsed": false,
    "pycharm": {
     "name": "#%%\n"
    }
   }
  },
  {
   "cell_type": "code",
   "execution_count": 17,
   "outputs": [
    {
     "data": {
      "text/plain": "Eq(Integral(N(z, m, r, J), r, J), Integral(C + r*theta*(1.0e-15*m)**zeta*(z + 1)**eta*(r**2/r_c**2 + 1)**(0.5 - 1.5*beta)*D_A(z)**2*Phi(J, z), r, J))",
      "text/latex": "$\\displaystyle \\iint N{\\left(z,m,r,J \\right)}\\, dr\\, dJ = \\iint \\left(C + r \\theta \\left(1.0 \\cdot 10^{-15} m\\right)^{\\zeta} \\left(z + 1\\right)^{\\eta} \\left(\\frac{r^{2}}{r_{c}^{2}} + 1\\right)^{0.5 - 1.5 \\beta} \\operatorname{D_{A}}^{2}{\\left(z \\right)} \\Phi{\\left(J,z \\right)}\\right)\\, dr\\, dJ$"
     },
     "execution_count": 17,
     "metadata": {},
     "output_type": "execute_result"
    }
   ],
   "source": [
    "sp.Eq(sp.Integral(N, r, J), sp.Integral(model, r, J))"
   ],
   "metadata": {
    "collapsed": false,
    "pycharm": {
     "name": "#%%\n"
    }
   }
  },
  {
   "cell_type": "code",
   "execution_count": null,
   "outputs": [],
   "source": [
    "R, Jmin, Jmax = sp.symbols('R, J_min, J_max')\n",
    "sp.integrate(model, (r, 0, R), (J, Jmin, Jmax))"
   ],
   "metadata": {
    "collapsed": false,
    "pycharm": {
     "name": "#%%\n"
    }
   }
  },
  {
   "cell_type": "code",
   "execution_count": null,
   "outputs": [],
   "source": [
    "R, Jmin, Jmax = sp.symbols('R, J_min, J_max')\n",
    "sp.Integral(C, (r, 0, R), (J, Jmin, Jmax)).doit()"
   ],
   "metadata": {
    "collapsed": false,
    "pycharm": {
     "name": "#%%\n"
    }
   }
  },
  {
   "cell_type": "code",
   "execution_count": null,
   "outputs": [],
   "source": [
    "# Set up the luminosity and density evolution using the fits from Assef+11 Table 2\n",
    "z_i = [0.25, 0.5, 1., 2., 4.]\n",
    "m_star_z_i = [-23.51, -24.64, -26.10, -27.08]\n",
    "phi_star_z_i = [-3.41, -3.73, -4.17, -4.65, -5.77]\n",
    "m_star = lagrange(z_i[1:], m_star_z_i)\n",
    "log_phi_star = lagrange(z_i, phi_star_z_i)"
   ],
   "metadata": {
    "collapsed": false,
    "pycharm": {
     "name": "#%%\n"
    }
   }
  },
  {
   "cell_type": "code",
   "execution_count": null,
   "outputs": [],
   "source": [
    "sp.__version__"
   ],
   "metadata": {
    "collapsed": false,
    "pycharm": {
     "name": "#%%\n"
    }
   }
  },
  {
   "cell_type": "code",
   "execution_count": null,
   "outputs": [],
   "source": [
    "R, Jmin, Jmax = sp.symbols('R, J_min, J_max')\n",
    "sp.Integral(C, (r, 0, R), (J, Jmin, Jmax)).doit()"
   ],
   "metadata": {
    "collapsed": false,
    "pycharm": {
     "name": "#%%\n"
    }
   }
  },
  {
   "cell_type": "code",
   "execution_count": null,
   "outputs": [],
   "source": [
    "# Set up the luminosity and density evolution using the fits from Assef+11 Table 2\n",
    "z_i = [0.25, 0.5, 1., 2., 4.]\n",
    "m_star_z_i = [-23.51, -24.64, -26.10, -27.08]\n",
    "phi_star_z_i = [-3.41, -3.73, -4.17, -4.65, -5.77]\n",
    "m_star = lagrange(z_i[1:], m_star_z_i)\n",
    "log_phi_star = lagrange(z_i, phi_star_z_i)"
   ],
   "metadata": {
    "collapsed": false,
    "pycharm": {
     "name": "#%%\n"
    }
   }
  },
  {
   "cell_type": "code",
   "execution_count": null,
   "outputs": [],
   "source": [
    "sp.__version__"
   ],
   "metadata": {
    "collapsed": false,
    "pycharm": {
     "name": "#%%\n"
    }
   }
  },
  {
   "cell_type": "code",
   "execution_count": 19,
   "outputs": [
    {
     "data": {
      "text/plain": "C*J_max*R - C*J_min*R",
      "text/latex": "$\\displaystyle C J_{max} R - C J_{min} R$"
     },
     "execution_count": 19,
     "metadata": {},
     "output_type": "execute_result"
    }
   ],
   "source": [
    "R, Jmin, Jmax = sp.symbols('R, J_min, J_max')\n",
    "sp.Integral(C, (r, 0, R), (J, Jmin, Jmax)).doit()"
   ],
   "metadata": {
    "collapsed": false,
    "pycharm": {
     "name": "#%%\n"
    }
   }
  },
  {
   "cell_type": "code",
   "execution_count": 24,
   "outputs": [],
   "source": [
    "# Set up the luminosity and density evolution using the fits from Assef+11 Table 2\n",
    "z_i = [0.25, 0.5, 1., 2., 4.]\n",
    "m_star_z_i = [-23.51, -24.64, -26.10, -27.08]\n",
    "phi_star_z_i = [-3.41, -3.73, -4.17, -4.65, -5.77]\n",
    "m_star = lagrange(z_i[1:], m_star_z_i)\n",
    "log_phi_star = lagrange(z_i, phi_star_z_i)"
   ],
   "metadata": {
    "collapsed": false,
    "pycharm": {
     "name": "#%%\n"
    }
   }
  },
  {
   "cell_type": "code",
   "execution_count": 25,
   "outputs": [
    {
     "data": {
      "text/plain": "'1.9'"
     },
     "execution_count": 25,
     "metadata": {},
     "output_type": "execute_result"
    }
   ],
   "source": [
    "sp.__version__"
   ],
   "metadata": {
    "collapsed": false,
    "pycharm": {
     "name": "#%%\n"
    }
   }
  }
 ],
 "metadata": {
  "kernelspec": {
   "display_name": "Python 3",
   "language": "python",
   "name": "python3"
  },
  "language_info": {
   "codemirror_mode": {
    "name": "ipython",
    "version": 2
   },
   "file_extension": ".py",
   "mimetype": "text/x-python",
   "name": "python",
   "nbconvert_exporter": "python",
   "pygments_lexer": "ipython2",
   "version": "2.7.6"
  }
 },
 "nbformat": 4,
 "nbformat_minor": 0
}
