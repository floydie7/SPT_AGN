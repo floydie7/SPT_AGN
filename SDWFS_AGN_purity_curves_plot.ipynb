{
 "cells": [
  {
   "cell_type": "markdown",
   "source": [
    "# SDWFS AGN Purity Curves Plot\n",
    "## Author: Benjamin Floyd\n",
    "\n",
    "Generates a publication plot of how the AGN purities change as a function of color across multiple redshift bins."
   ],
   "metadata": {
    "collapsed": false,
    "pycharm": {
     "name": "#%% md\n"
    }
   }
  },
  {
   "cell_type": "code",
   "execution_count": null,
   "outputs": [],
   "source": [
    "import json\n",
    "import numpy as np\n",
    "import matplotlib.pyplot as plt\n",
    "from scipy.interpolate import interp1d\n",
    "\n",
    "%matplotlib inline\n",
    "plt.style.use('seaborn-colorblind')"
   ],
   "metadata": {
    "collapsed": false,
    "pycharm": {
     "name": "#%%\n"
    }
   }
  },
  {
   "cell_type": "code",
   "execution_count": null,
   "outputs": [],
   "source": [
    "# Read in the file with stored curve data\n",
    "with open('Data_Repository/Project_Data/SPT-IRAGN/SDWFS_background/SDWFS_purity_color.json', 'r') as f:\n",
    "    purity_data = json.load(f)\n",
    "z_bins = purity_data['z_bins']\n",
    "color_bins = purity_data['color_bins']\n",
    "contamination_ratios = np.asarray(purity_data['contamination_ratios'])"
   ],
   "metadata": {
    "collapsed": false,
    "pycharm": {
     "name": "#%%\n"
    }
   }
  },
  {
   "cell_type": "code",
   "execution_count": null,
   "outputs": [],
   "source": [
    "# Rebuild interpolation\n",
    "contam_interp = interp1d(color_bins[:-1], contamination_ratios, kind='linear', axis=1)"
   ],
   "metadata": {
    "collapsed": false,
    "pycharm": {
     "name": "#%%\n"
    }
   }
  },
  {
   "cell_type": "code",
   "execution_count": null,
   "outputs": [],
   "source": [
    "# Make plot\n",
    "color_range = np.linspace(color_bins[0], color_bins[-2], num=100)\n",
    "fig, ax = plt.subplots()\n",
    "for i, z in enumerate(z_bins[:-1]):\n",
    "    # ax.step(color_bins[:-1], contamination_ratios[i, :], label=fr'${z:.1f} < z < {z_bins[i+1]:.1f}$')\n",
    "    ax.plot(color_range, contam_interp(color_range)[i], label=fr'${z:.1f} < z < {z_bins[i+1]:.1f}$')\n",
    "ax.axhline(0.1, ls='--', c='k')\n",
    "ax.axhline(0.05, ls=':')\n",
    "ax.legend(frameon=False)\n",
    "ax.set(xlabel='[3.6] - [4.5] (Vega)', ylabel='Contamination')\n",
    "fig.savefig('Data_Repository/Project_Data/SPT-IRAGN/Publication_Plots/SDWFS_AGN_contamination_curves_publication.pdf')\n",
    "plt.show()"
   ],
   "metadata": {
    "collapsed": false,
    "pycharm": {
     "name": "#%%\n"
    }
   }
  }
 ],
 "metadata": {
  "kernelspec": {
   "display_name": "Python 3",
   "language": "python",
   "name": "python3"
  },
  "language_info": {
   "codemirror_mode": {
    "name": "ipython",
    "version": 2
   },
   "file_extension": ".py",
   "mimetype": "text/x-python",
   "name": "python",
   "nbconvert_exporter": "python",
   "pygments_lexer": "ipython2",
   "version": "2.7.6"
  }
 },
 "nbformat": 4,
 "nbformat_minor": 0
}