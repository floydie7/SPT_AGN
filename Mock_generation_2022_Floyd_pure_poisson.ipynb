{
 "cells": [
  {
   "cell_type": "markdown",
   "source": [
    "# Mock Generation Summer 2022\n",
    "Author: Benjamin Floyd\n",
    "This version creates pure Poissonian point processes only."
   ],
   "metadata": {
    "collapsed": false,
    "pycharm": {
     "name": "#%% md\n"
    }
   }
  },
  {
   "cell_type": "code",
   "execution_count": 1,
   "outputs": [
    {
     "name": "stdout",
     "output_type": "stream",
     "text": [
      "Using RNG seed: 3775\n"
     ]
    }
   ],
   "source": [
    "import glob\n",
    "import json\n",
    "import re\n",
    "\n",
    "import astropy.units as u\n",
    "import corner\n",
    "import emcee\n",
    "import matplotlib.pyplot as plt\n",
    "import numpy as np\n",
    "from astro_compendium.utils.custom_math import trap_weight\n",
    "from astropy.coordinates import SkyCoord\n",
    "from astropy.cosmology import FlatLambdaCDM\n",
    "from astropy.io import fits\n",
    "from astropy.table import Table, vstack, join, unique\n",
    "from astropy.wcs import WCS\n",
    "from schwimmbad import MultiPool\n",
    "from scipy import stats\n",
    "from scipy.interpolate import interp1d\n",
    "from scipy.spatial.distance import cdist\n",
    "\n",
    "%matplotlib inline\n",
    "\n",
    "cosmo = FlatLambdaCDM(H0=70, Om0=0.3)\n",
    "\n",
    "# Set up rng\n",
    "seed = 3775\n",
    "rng = np.random.default_rng(seed)\n",
    "print(f'Using RNG seed: {seed}')"
   ],
   "metadata": {
    "collapsed": false,
    "pycharm": {
     "name": "#%%\n"
    }
   }
  },
  {
   "cell_type": "markdown",
   "source": [
    "### Mock generation functions"
   ],
   "metadata": {
    "collapsed": false,
    "pycharm": {
     "name": "#%% md\n"
    }
   }
  },
  {
   "cell_type": "code",
   "execution_count": 2,
   "outputs": [],
   "source": [
    "def poisson_point_process(rate, dx, dy=None, lower_dx=0, lower_dy=0):\n",
    "    \"\"\"\n",
    "    Uses a spatial Poisson point process to generate AGN candidate coordinates.\n",
    "\n",
    "    Parameters\n",
    "    ----------\n",
    "    rate : float\n",
    "        The model rate used in the Poisson distribution to determine the number of points being placed.\n",
    "    dx, dy : int, Optional\n",
    "        Upper bound on x- and y-axes respectively. If only `dx` is provided then `dy` = `dx`.\n",
    "    lower_dx, lower_dy : int, Optional\n",
    "        Lower bound on x- and y-axes respectively. If not provided, a default of 0 will be used\n",
    "\n",
    "    Returns\n",
    "    -------\n",
    "    coord : np.ndarray\n",
    "        Numpy array of (x, y) coordinates of AGN candidates\n",
    "    \"\"\"\n",
    "\n",
    "    if dy is None:\n",
    "        dy = dx\n",
    "\n",
    "    # Draw from Poisson distribution to determine how many points we will place.\n",
    "    p = stats.poisson(rate * np.abs(dx - lower_dx) * np.abs(dy - lower_dy)).rvs(random_state=rng)\n",
    "\n",
    "    # Drop `p` points with uniform x and y coordinates\n",
    "    x = rng.uniform(lower_dx, dx, size=p)\n",
    "    y = rng.uniform(lower_dy, dy, size=p)\n",
    "\n",
    "    # Combine the x and y coordinates.\n",
    "    coord = np.vstack((x, y))\n",
    "\n",
    "    return coord"
   ],
   "metadata": {
    "collapsed": false,
    "pycharm": {
     "name": "#%%\n"
    }
   }
  },
  {
   "cell_type": "code",
   "execution_count": 3,
   "outputs": [],
   "source": [
    "def generate_mock_cluster(cluster_catalog: Table, color_threshold: float, c_true: float) -> Table:\n",
    "    cluster_z = cluster_catalog['REDSHIFT']\n",
    "    cluster_m500 = cluster_catalog['M500']\n",
    "    cluster_r500 = cluster_catalog['R500'] * u.Mpc\n",
    "    SZ_center = cluster_catalog['SZ_RA', 'SZ_DEC']\n",
    "    mask_name = cluster_catalog['MASK_NAME']\n",
    "\n",
    "    # Background Catalog\n",
    "    # Read in the mask's WCS for the pixel scale and making SkyCoords\n",
    "    mask_data, mask_hdr = fits.getdata(mask_name, header=True)\n",
    "    w = WCS(mask_hdr)\n",
    "    mask_pixel_scale = w.proj_plane_pixel_scales()[0]\n",
    "\n",
    "    # Also get the mask's image size (- 1 to account for the shift between index and length)\n",
    "    mask_size_x = w.pixel_shape[0] - 1\n",
    "    mask_size_y = w.pixel_shape[1] - 1\n",
    "    mask_radius_pix = (\n",
    "                max_radius * cluster_r500 * cosmo.arcsec_per_kpc_proper(cluster_z).to(mask_pixel_scale.unit / u.Mpc)\n",
    "                / mask_pixel_scale).value\n",
    "\n",
    "    # Find the SZ Center for the cluster we are mimicking\n",
    "    SZ_center_skycoord = SkyCoord(SZ_center['SZ_RA'], SZ_center['SZ_DEC'], unit='deg')\n",
    "\n",
    "    # Set the bounding box for the object placement\n",
    "    SZ_center_pix = SZ_center_skycoord.to_pixel(wcs=w, origin=0, mode='wcs')\n",
    "    upper_x = SZ_center_pix[0] + mask_radius_pix\n",
    "    upper_y = SZ_center_pix[1] + mask_radius_pix\n",
    "    lower_x = SZ_center_pix[0] - mask_radius_pix\n",
    "    lower_y = SZ_center_pix[1] - mask_radius_pix\n",
    "\n",
    "    # As we aren't using real masks yet, we will crop our data to fit within the image bounds using the image center as reference\n",
    "    image_center = SkyCoord.from_pixel(mask_size_x / 2, mask_size_y / 2, wcs=w, origin=0, mode='wcs')\n",
    "\n",
    "    # Scale the true background rate from arcmin^-2 units to pixel units\n",
    "    background_rate = c_true / u.arcmin ** 2 * mask_pixel_scale.to(u.arcmin) ** 2\n",
    "    bkg_coords_pix = poisson_point_process(background_rate, dx=upper_x, dy=upper_y, lower_dx=lower_x, lower_dy=lower_y)\n",
    "    bkg_cat_df = sdwfs_agn.to_pandas().sample(n=bkg_coords_pix.shape[-1], replace=True, random_state=rng)\n",
    "    bkg_cat = Table.from_pandas(bkg_cat_df)\n",
    "    bkg_cat['x'] = bkg_coords_pix[0]\n",
    "    bkg_cat['y'] = bkg_coords_pix[1]\n",
    "\n",
    "    bkg_cat = bkg_cat['x', 'y', 'REDSHIFT', 'COMPLETENESS_CORRECTION', f'SELECTION_MEMBERSHIP_{color_threshold:.2f}']\n",
    "    bkg_cat.rename_columns(['REDSHIFT', f'SELECTION_MEMBERSHIP_{color_threshold:.2f}'],\n",
    "                           ['galaxy_redshift', 'SELECTION_MEMBERSHIP'])\n",
    "\n",
    "    # Add flag to background objects\n",
    "    bkg_cat['CLUSTER_AGN'] = np.full_like(bkg_cat['x'], False)\n",
    "\n",
    "    # Cluster Catalog\n",
    "    # Set an array of radii to generate model rates upon\n",
    "    r_grid = np.linspace(0., max_radius, num=100)\n",
    "\n",
    "    # Find the maximum rate of our model to use to for homogeneous Poisson process (Using c = 0.0 for a cluster-only model)\n",
    "    max_rate = np.max(\n",
    "        model_rate(params=(theta_true, eta_true, zeta_true, beta_true, rc_true, 0.0), z=cluster_z, m=cluster_m500,\n",
    "                   r500=cluster_r500, radial_dist=r_grid, cluster_id=-1))\n",
    "\n",
    "    # Convert the max rate from [R_500^-2] units to [pix^-2] units\n",
    "    max_rate_inv_pix2 = (\n",
    "                (max_rate / cluster_r500 ** 2) * cosmo.kpc_proper_per_arcmin(cluster_z).to(u.Mpc / u.arcmin) ** 2\n",
    "                * mask_pixel_scale.to(u.arcmin) ** 2)\n",
    "\n",
    "    # For the cluster, we need to select only objects within a redshift range of the cluster redshift.\n",
    "    sdwfs_agn_at_z = sdwfs_agn[np.abs(sdwfs_agn['REDSHIFT'] - cluster_catalog['REDSHIFT']) <= 0.1]\n",
    "\n",
    "    # Generate the homogenous Poisson process (Again, this will need to be done on pixel units in the future.)\n",
    "    cl_coords = poisson_point_process(max_rate_inv_pix2, dx=upper_x, dy=upper_y, lower_dx=lower_x, lower_dy=lower_y)\n",
    "    cl_cat_df = sdwfs_agn_at_z.to_pandas().sample(n=cl_coords.shape[-1], replace=True, random_state=rng)\n",
    "    cl_cat = Table.from_pandas(cl_cat_df)\n",
    "    cl_cat['x'] = cl_coords[0]\n",
    "    cl_cat['y'] = cl_coords[1]\n",
    "\n",
    "    cl_cat = cl_cat['x', 'y', 'REDSHIFT', 'COMPLETENESS_CORRECTION', f'SELECTION_MEMBERSHIP_{color_threshold:.2f}']\n",
    "    cl_cat.rename_columns(['REDSHIFT', f'SELECTION_MEMBERSHIP_{color_threshold:.2f}'],\n",
    "                          ['galaxy_redshift', 'SELECTION_MEMBERSHIP'])\n",
    "\n",
    "    # Find the separations in r500 units\n",
    "    cluster_agn_skycoord = SkyCoord.from_pixel(cl_cat['x'], cl_cat['y'], wcs=w, origin=0, mode='wcs')\n",
    "    radii_arcmin = SZ_center_skycoord.separation(cluster_agn_skycoord).to(u.arcmin)\n",
    "    radii_r500 = radii_arcmin * cosmo.kpc_proper_per_arcmin(cluster_z).to(u.Mpc / u.arcmin) / cluster_r500\n",
    "\n",
    "    # Compute model rates at each candidate position\n",
    "    rate_at_radius = model_rate(params=(theta_true, eta_true, zeta_true, beta_true, rc_true, 0.), z=cluster_z,\n",
    "                                m=cluster_m500, r500=cluster_r500, radial_dist=radii_r500.value, cluster_id=-1)\n",
    "\n",
    "    # Perform rejection sampling\n",
    "    prob_reject = rate_at_radius / max_rate\n",
    "    alpha = rng.uniform(0., 1., size=len(rate_at_radius))\n",
    "    cl_cat = cl_cat[prob_reject >= alpha]\n",
    "\n",
    "    # Add flag to cluster objects\n",
    "    cl_cat['CLUSTER_AGN'] = np.full_like(cl_cat['x'], True)\n",
    "\n",
    "    # Merge the catalogs\n",
    "    los_cat = vstack([cl_cat, bkg_cat])\n",
    "\n",
    "    # Add cluster information\n",
    "    los_cat['SPT_ID'] = cluster_catalog['SPT_ID']\n",
    "    los_cat['SZ_RA'] = SZ_center_skycoord.ra\n",
    "    los_cat['SZ_DEC'] = SZ_center_skycoord.dec\n",
    "    los_cat['REDSHIFT'] = cluster_z\n",
    "    los_cat['M500'] = cluster_m500\n",
    "    los_cat['R500'] = cluster_r500\n",
    "    los_cat['MASK_NAME'] = mask_name\n",
    "\n",
    "    # Convert the coordinates to RA/Dec\n",
    "    los_coords_skycoord = SkyCoord.from_pixel(los_cat['x'], los_cat['y'], wcs=w, origin=0, mode='wcs')\n",
    "    los_cat['RA'] = los_coords_skycoord.ra\n",
    "    los_cat['DEC'] = los_coords_skycoord.dec\n",
    "\n",
    "    # Record the separations of all the objects in angular units and r500 units\n",
    "    los_cat['RADIAL_SEP_ARCMIN'] = SZ_center_skycoord.separation(los_coords_skycoord).to(u.arcmin)\n",
    "    los_cat['RADIAL_SEP_R500'] = los_cat['RADIAL_SEP_ARCMIN'] * cosmo.kpc_proper_per_arcmin(cluster_z).to(\n",
    "        u.Mpc / u.arcmin) / cluster_r500\n",
    "\n",
    "    # Filter all objects that are off-images\n",
    "    los_cat = los_cat[np.all([0 <= los_cat['x'], los_cat['x'] <= mask_size_x, 0 <= los_cat['y'], los_cat['y'] <= mask_size_y], axis=0)]\n",
    "\n",
    "    # Filter the catalog through the mask\n",
    "    mask_data = mask_data.astype(bool)\n",
    "    los_cat = los_cat[mask_data[np.floor(los_cat['y']).astype(int), np.floor(los_cat['x']).astype(int)]]\n",
    "\n",
    "    # Crop the data to be within 2.5 arcmin of the image center\n",
    "    # los_coords_skycoord = SkyCoord.from_pixel(los_cat['x'], los_cat['y'], wcs=w, origin=0, mode='wcs')\n",
    "    # image_center_sep = image_center.separation(los_coords_skycoord).to(u.arcmin)\n",
    "    # los_cat = los_cat[image_center_sep <= 2.5 * u.arcmin]\n",
    "\n",
    "    return los_cat"
   ],
   "metadata": {
    "collapsed": false,
    "pycharm": {
     "name": "#%%\n"
    }
   }
  },
  {
   "cell_type": "markdown",
   "source": [
    "### Good Pixel Fraction Functions"
   ],
   "metadata": {
    "collapsed": false,
    "pycharm": {
     "name": "#%% md\n"
    }
   }
  },
  {
   "cell_type": "code",
   "execution_count": 4,
   "outputs": [],
   "source": [
    "def rebin(a, rebin_factor, wcs=None):\n",
    "    \"\"\"\n",
    "    Rebin an image to the new shape and adjust the WCS.\n",
    "\n",
    "    Parameters\n",
    "    ----------\n",
    "    a: array-like\n",
    "        Original image.\n",
    "    rebin_factor: float\n",
    "        Rebinning scale factor.\n",
    "    wcs: WCS, optional\n",
    "        Original image world coordinate system (WCS) object.\n",
    "\n",
    "    Returns\n",
    "    -------\n",
    "    new_image: np.ndarray\n",
    "        The rebinned image.\n",
    "    new_wcs: WCS\n",
    "        The updated WCS for the rebinned object.\n",
    "    \"\"\"\n",
    "\n",
    "    newshape = tuple(rebin_factor * x for x in a.shape)\n",
    "\n",
    "    assert len(a.shape) == len(newshape)\n",
    "\n",
    "    slices = [slice(0, old, float(old) / new) for old, new in zip(a.shape, newshape)]\n",
    "    coordinates = np.mgrid[slices]\n",
    "    indices = coordinates.astype('i')  # recast the coordinates to int32\n",
    "    new_image = a[tuple(indices)]\n",
    "\n",
    "    if wcs is not None:\n",
    "        new_wcs = wcs.deepcopy()\n",
    "        new_wcs.pixel_shape = new_image.shape  # Update the NAXIS1/2 values\n",
    "        new_wcs.wcs.cd /= rebin_factor  # Update the pixel scale\n",
    "\n",
    "        # Check if the WCS has a PC matrix which is what AstroPy generates. If it exists, just delete it and stick with\n",
    "        # the CD matrix as the majority of the images have that natively.\n",
    "        if new_wcs.wcs.has_pc():\n",
    "            del new_wcs.wcs.pc\n",
    "\n",
    "        # Transform the reference pixel coordinate\n",
    "        old_crpix = wcs.wcs.crpix\n",
    "        new_crpix = np.floor(old_crpix) / a.shape * new_image.shape + old_crpix - np.floor(old_crpix)\n",
    "        new_wcs.wcs.crpix = new_crpix\n",
    "\n",
    "        return new_image, new_wcs\n",
    "\n",
    "    return new_image"
   ],
   "metadata": {
    "collapsed": false,
    "pycharm": {
     "name": "#%%\n"
    }
   }
  },
  {
   "cell_type": "code",
   "execution_count": 5,
   "outputs": [],
   "source": [
    "def good_pixel_fraction(r, z, r500, center, cluster_id, rescale_factor=None):\n",
    "    \"\"\"\n",
    "    Computes the fraction of unmasked pixels within an annulus.\n",
    "\n",
    "    Parameters\n",
    "    ----------\n",
    "    r: array-like\n",
    "        Radial axis on which we will form our annuli.\n",
    "    z: float\n",
    "        Redshift of the cluster.\n",
    "    r500: u.Quantity\n",
    "        R500 radius of the cluster.\n",
    "    center: Table\n",
    "        Center of the cluster.\n",
    "    cluster_id: str\n",
    "        Cluster name/ID.\n",
    "    rescale_factor: float, optional\n",
    "        Factor by which to rescale the original image. This rebins the pixels of the image into pixels of size\n",
    "        `old_pix / rescale_factor`.\n",
    "\n",
    "    Returns\n",
    "    -------\n",
    "    good_pix_frac: list of float\n",
    "        A list of the fractional area within each annulus that is unmasked.\n",
    "    \"\"\"\n",
    "    # Read in the mask file and the mask file's WCS\n",
    "    image, header = mask_dict[cluster_id]  # This is provided by the global variable mask_dict\n",
    "    image_wcs = WCS(header)\n",
    "\n",
    "    if rescale_factor is not None:\n",
    "        image, image_wcs = rebin(image, rescale_factor, wcs=image_wcs)\n",
    "\n",
    "    # From the WCS get the pixel scale\n",
    "    pix_scale = image_wcs.proj_plane_pixel_scales()[0]\n",
    "\n",
    "    # Convert our center into pixel units\n",
    "    center_pix = image_wcs.wcs_world2pix(center['SZ_RA'], center['SZ_DEC'], 0)\n",
    "\n",
    "    # Convert our radius to pixels\n",
    "    r_pix = r * r500 * cosmo.arcsec_per_kpc_proper(z).to(pix_scale.unit / u.Mpc) / pix_scale\n",
    "    r_pix = r_pix.value\n",
    "\n",
    "    # Because we potentially integrate to larger radii than can be fit on the image we will need to increase the size of\n",
    "    # our mask. To do this, we will pad the mask with a zeros out to the radius we need.\n",
    "    # Find the width needed to pad the image to include the largest radius inside the image.\n",
    "    width = ((int(round(np.max(r_pix) - center_pix[1])),\n",
    "              int(round(np.max(r_pix) - (image.shape[0] - center_pix[1])))),\n",
    "             (int(round(np.max(r_pix) - center_pix[0])),\n",
    "              int(round(np.max(r_pix) - (image.shape[1] - center_pix[0])))))\n",
    "\n",
    "    # Ensure that we are adding a non-negative padding width.\n",
    "    width = tuple(tuple([i if i >= 0 else 0 for i in axis]) for axis in width)\n",
    "\n",
    "    large_image = np.pad(image, pad_width=width, mode='constant', constant_values=0)\n",
    "\n",
    "    # Generate a list of all pixel coordinates in the padded image\n",
    "    image_coords = np.dstack(np.mgrid[0:large_image.shape[0], 0:large_image.shape[1]]).reshape(-1, 2)\n",
    "\n",
    "    # The center pixel's coordinate needs to be transformed into the large image system\n",
    "    center_coord = np.array(center_pix) + np.array([width[1][0], width[0][0]])\n",
    "    center_coord = center_coord.reshape((1, 2))\n",
    "\n",
    "    # Compute the distance matrix. The entries are a_ij = sqrt((x_j - cent_x)^2 + (y_i - cent_y)^2)\n",
    "    image_dists = cdist(image_coords, np.flip(center_coord)).reshape(large_image.shape)\n",
    "\n",
    "    # select all pixels that are within the annulus\n",
    "    good_pix_frac = []\n",
    "    for j in np.arange(len(r_pix) - 1):\n",
    "        pix_ring = large_image[np.where((r_pix[j] <= image_dists) & (image_dists < r_pix[j + 1]))]\n",
    "\n",
    "        # Calculate the fraction\n",
    "        good_pix_frac.append(np.sum(pix_ring) / len(pix_ring))\n",
    "\n",
    "    return good_pix_frac"
   ],
   "metadata": {
    "collapsed": false,
    "pycharm": {
     "name": "#%%\n"
    }
   }
  },
  {
   "cell_type": "markdown",
   "source": [
    "### Generating Model"
   ],
   "metadata": {
    "collapsed": false,
    "pycharm": {
     "name": "#%% md\n"
    }
   }
  },
  {
   "cell_type": "code",
   "execution_count": 6,
   "outputs": [],
   "source": [
    "def model_rate(params, z, m, r500, radial_dist, cluster_id):\n",
    "    \"\"\"\n",
    "    Our generating model.\n",
    "\n",
    "    Parameters\n",
    "    ----------\n",
    "    params : tuple of floats\n",
    "        Tuple of parameters.\n",
    "    radial_dist : array-like\n",
    "        A vector of radii of objects relative to the cluster center\n",
    "    cluster_id : int or str\n",
    "        Used to select correct background prior\n",
    "\n",
    "    Returns\n",
    "    -------\n",
    "    model : np.ndarray\n",
    "        A surface density profile of objects as a function of radius.\n",
    "    \"\"\"\n",
    "\n",
    "    # Unpack the parameters\n",
    "    if cluster_id == -1:\n",
    "        theta, eta, zeta, beta, rc, c0 = params\n",
    "    else:\n",
    "        # theta, beta, c0 = (0., 0., *params)\n",
    "        theta, eta, zeta, beta, rc, c0 = params\n",
    "    # rc = rc_true\n",
    "\n",
    "    # In mock generation, we need to be able to skip adding the background surface density redshift relation.\n",
    "    if cluster_id == -1:\n",
    "        cz = 0.\n",
    "    else:\n",
    "        cz = ((c0 + delta_c(z) * num_clusters) / u.arcmin ** 2)\\\n",
    "             * cosmo.arcsec_per_kpc_proper(z).to(u.arcmin / u.Mpc)**2 * r500**2\n",
    "\n",
    "    # Our amplitude will eventually be more complicated\n",
    "    a = theta * (1 + z) ** eta * (m / 1e15) ** zeta\n",
    "\n",
    "    # Our model rate is an amplitude of cluster-specific trends with a radial dependence with a constant background rate.\n",
    "    model = a * (1 + (radial_dist / rc) ** 2) ** (-1.5 * beta + 0.5) + cz\n",
    "\n",
    "    return model"
   ],
   "metadata": {
    "collapsed": false,
    "pycharm": {
     "name": "#%%\n"
    }
   }
  },
  {
   "cell_type": "markdown",
   "source": [
    "### Bayesian model functions"
   ],
   "metadata": {
    "collapsed": false,
    "pycharm": {
     "name": "#%% md\n"
    }
   }
  },
  {
   "cell_type": "code",
   "execution_count": 7,
   "outputs": [],
   "source": [
    "def lnlike(params: tuple[float, ...]):\n",
    "    # Compute the likelihood value for each cluster\n",
    "    cluster_like = []\n",
    "    for cluster in catalog.group_by('SPT_ID').groups:\n",
    "        cluster_id = cluster['SPT_ID'][0]\n",
    "        cluster_z = cluster['REDSHIFT'][0]\n",
    "        cluster_m500 = cluster['M500'][0]\n",
    "        cluster_r500 = cluster['R500'][0] * u.Mpc\n",
    "        ri = cluster['RADIAL_SEP_R500'].value\n",
    "\n",
    "        # Get the gpf for the cluster_z\n",
    "        gpf = gpf_dict[cluster_id]\n",
    "\n",
    "        # Get the selection membership of each object\n",
    "        # mu_agn = cluster['SELECTION_MEMBERSHIP']\n",
    "        mu_agn = 1.\n",
    "\n",
    "        # Compute the model rate at locations of the AGN.\n",
    "        ni = model_rate(params, cluster_z, cluster_m500, cluster_r500, ri, cluster_id)\n",
    "\n",
    "        # Compute the ideal model rate at continuous locations\n",
    "        max_r = 2.5 * u.arcmin * cosmo.kpc_proper_per_arcmin(cluster_z).to(u.Mpc / u.arcmin) / cluster_r500\n",
    "        rall = np.linspace(0., max_r.value, num=10_000)\n",
    "        nall = model_rate(params, cluster_z, cluster_m500, cluster_r500, rall, cluster_id)\n",
    "\n",
    "        # We use a Poisson likelihood function\n",
    "        ln_like_func = np.sum(np.log(ni * ri * mu_agn)) - trap_weight(nall * 2 * np.pi * rall, rall, weight=gpf)\n",
    "        cluster_like.append(ln_like_func)\n",
    "\n",
    "    # Compute the total likelihood value\n",
    "    total_ln_like = np.sum(cluster_like)\n",
    "    return total_ln_like"
   ],
   "metadata": {
    "collapsed": false,
    "pycharm": {
     "name": "#%%\n"
    }
   }
  },
  {
   "cell_type": "code",
   "execution_count": 8,
   "outputs": [],
   "source": [
    "def lnprior(params: tuple[float, ...]):\n",
    "    # Extract the parameters\n",
    "    # theta, beta, c0 = (0., 0., *params)\n",
    "    theta, eta, zeta, beta, rc, c0 = params\n",
    "    # rc = rc_true\n",
    "\n",
    "    cluster_prior = []\n",
    "    for cluster in catalog.group_by('SPT_ID').groups:\n",
    "        # Get the cluster redshift to set the background hyperparameters\n",
    "        z = cluster['REDSHIFT'][0]\n",
    "        h_c = agn_prior_surf_den(z) * num_clusters\n",
    "        h_c_err = agn_prior_surf_den_err(z) * num_clusters\n",
    "\n",
    "        # Shift background parameter to redshift-dependent value.\n",
    "        cz = c0 + delta_c(z) * num_clusters\n",
    "\n",
    "        # Define parameter ranges\n",
    "        if (0. <= theta <= np.inf and\n",
    "            -6. <= eta <= 6. and\n",
    "            -3. <= zeta <= 3. and\n",
    "            -3. <= beta <= 3. and\n",
    "            0.05 <= rc <= 0.5 and\n",
    "            0. <= cz <= np.inf):\n",
    "            theta_lnprior = 0.\n",
    "            eta_lnprior = 0.\n",
    "            zeta_lnprior = 0.\n",
    "            beta_lnprior = 0.\n",
    "            rc_lnprior = 0.\n",
    "            c_lnprior = -0.5 * np.sum((cz - h_c) ** 2 / h_c_err ** 2)\n",
    "            # c_lnprior = 0.\n",
    "        else:\n",
    "            theta_lnprior = -np.inf\n",
    "            eta_lnprior = -np.inf\n",
    "            zeta_lnprior = -np.inf\n",
    "            beta_lnprior = -np.inf\n",
    "            rc_lnprior = -np.inf\n",
    "            c_lnprior = -np.inf\n",
    "        ln_prior_prob = theta_lnprior + eta_lnprior + zeta_lnprior + beta_lnprior + rc_lnprior + c_lnprior\n",
    "        cluster_prior.append(ln_prior_prob)\n",
    "\n",
    "    total_lnprior = np.sum(cluster_prior)\n",
    "    return total_lnprior"
   ],
   "metadata": {
    "collapsed": false,
    "pycharm": {
     "name": "#%%\n"
    }
   }
  },
  {
   "cell_type": "code",
   "execution_count": 9,
   "outputs": [],
   "source": [
    "def lnprob(params: tuple[float, ...]):\n",
    "    # Evaluate log-prior and test if we are within bounds\n",
    "    lp = lnprior(params)\n",
    "\n",
    "    if not np.isfinite(lp):\n",
    "        return -np.inf\n",
    "\n",
    "    return lnlike(params) + lp"
   ],
   "metadata": {
    "collapsed": false,
    "pycharm": {
     "name": "#%%\n"
    }
   }
  },
  {
   "cell_type": "markdown",
   "source": [
    "## Generate mock catalog"
   ],
   "metadata": {
    "collapsed": false,
    "pycharm": {
     "name": "#%% md\n"
    }
   }
  },
  {
   "cell_type": "code",
   "execution_count": 10,
   "outputs": [],
   "source": [
    "# Select out a number of clusters to use as examples\n",
    "n_cl = 6\n",
    "\n",
    "# Read in the SDWFS IRAGN catalog for use later\n",
    "sdwfs_agn = Table.read('Data_Repository/Project_Data/SPT-IRAGN/Output/SDWFS_cutout_IRAGN.fits')\n",
    "\n",
    "# Read in the SPT cluster catalog. We will use real data to source our mock cluster properties.\n",
    "Bocquet = Table.read(f'Data_Repository/Catalogs/SPT/SPT_catalogs/2500d_cluster_sample_Bocquet18.fits')\n",
    "\n",
    "# For the 20 common clusters between SPT-SZ 2500d and SPTpol 100d surveys we want to update the cluster information from\n",
    "# the more recent survey. Thus, we will merge the SPT-SZ and SPTpol catalogs together.\n",
    "Huang = Table.read(f'Data_Repository/Catalogs/SPT/SPT_catalogs/sptpol100d_catalog_huang19.fits')\n",
    "\n",
    "# First we need to rename several columns in the SPTpol 100d catalog to match the format of the SPT-SZ catalog\n",
    "Huang.rename_columns(['Dec', 'xi', 'theta_core', 'redshift', 'redshift_unc'],\n",
    "                     ['DEC', 'XI', 'THETA_CORE', 'REDSHIFT', 'REDSHIFT_UNC'])\n",
    "\n",
    "# Now, merge the two catalogs\n",
    "SPTcl = join(Bocquet, Huang, join_type='outer')\n",
    "SPTcl.sort(keys=['SPT_ID', 'field'])  # Sub-sorting by 'field' puts Huang entries first\n",
    "SPTcl = unique(SPTcl, keys='SPT_ID', keep='first')  # Keeping Huang entries over Bocquet\n",
    "SPTcl.sort(keys='SPT_ID')  # Resort by ID.\n",
    "\n",
    "# Convert masses to [Msun] rather than [Msun/1e14]\n",
    "SPTcl['M500'] *= 1e14\n",
    "SPTcl['M500_uerr'] *= 1e14\n",
    "SPTcl['M500_lerr'] *= 1e14\n",
    "\n",
    "# Remove any unconfirmed clusters\n",
    "SPTcl = SPTcl[SPTcl['M500'] > 0.0]\n",
    "\n",
    "# For our masks, we will co-op the masks for the real clusters.\n",
    "masks_files = [*glob.glob(f'Data_Repository/Project_Data/SPT-IRAGN/Masks/SPT-SZ_2500d/quarter_masks/*.fits'),\n",
    "               *glob.glob(f'Data_Repository/Project_Data/SPT-IRAGN/Masks/SPTpol_100d/quarter_masks/*.fits')]\n",
    "\n",
    "# Make sure all the masks have matches in the catalog\n",
    "masks_files = [f for f in masks_files if re.search(r'SPT-CLJ\\d+-\\d+', f).group(0) in SPTcl['SPT_ID']]\n",
    "\n",
    "# Select a number of masks at random, sorted to match the order in `full_spt_catalog`.\n",
    "masks_bank = sorted([masks_files[i] for i in rng.choice(n_cl, size=n_cl, replace=False)],\n",
    "                    key=lambda x: re.search(r'SPT-CLJ\\d+-\\d+', x).group(0))\n",
    "\n",
    "# Find the corresponding cluster IDs in the SPT catalog that match the masks we chose\n",
    "spt_catalog_ids = [re.search(r'SPT-CLJ\\d+-\\d+', mask_name).group(0) for mask_name in masks_bank]\n",
    "spt_catalog_mask = [np.where(SPTcl['SPT_ID'] == spt_id)[0][0] for spt_id in spt_catalog_ids]\n",
    "selected_clusters = SPTcl['SPT_ID', 'RA', 'DEC', 'M500', 'REDSHIFT', 'REDSHIFT_UNC', 'THETA_CORE', 'XI', 'field'][spt_catalog_mask]\n",
    "\n",
    "# We'll need the r500 radius for each cluster too.\n",
    "selected_clusters['R500'] = (3 * selected_clusters['M500'] * u.Msun /\n",
    "                             (4 * np.pi * 500 *\n",
    "                              cosmo.critical_density(selected_clusters['REDSHIFT']).to(u.Msun / u.Mpc ** 3))) ** (1 / 3)\n",
    "\n",
    "# Create cluster names\n",
    "name_bank = [f'SPT_Mock_{i:03d}' for i in range(n_cl)]\n",
    "\n",
    "# Combine our data into a catalog\n",
    "SPT_data = selected_clusters.copy()\n",
    "SPT_data.rename_columns(['SPT_ID', 'RA', 'DEC'], ['orig_SPT_ID', 'SZ_RA', 'SZ_DEC'])\n",
    "SPT_data['SPT_ID'] = name_bank\n",
    "SPT_data['MASK_NAME'] = masks_bank\n",
    "\n",
    "# Read in the mask files for each cluster\n",
    "sptcl_catalog_grp = SPT_data.group_by('SPT_ID')\n",
    "mask_dict = {cluster_id: fits.getdata(f'{mask_file}', header=True) for cluster_id, mask_file\n",
    "             in zip(sptcl_catalog_grp.groups.keys['SPT_ID'],\n",
    "                    sptcl_catalog_grp['MASK_NAME'][sptcl_catalog_grp.groups.indices[:-1]])}"
   ],
   "metadata": {
    "collapsed": false,
    "pycharm": {
     "name": "#%%\n"
    }
   }
  },
  {
   "cell_type": "code",
   "execution_count": 11,
   "outputs": [],
   "source": [
    "# Read in the purity and surface density files\n",
    "with (open('Data_Repository/Project_Data/SPT-IRAGN/SDWFS_background/SDWFS_purity_color.json', 'r') as f,\n",
    "      open('Data_Repository/Project_Data/SPT-IRAGN/SDWFS_background/SDWFS_background_prior_distributions.json', 'r') as g):\n",
    "    sdwfs_purity_data = json.load(f)\n",
    "    sdwfs_prior_data = json.load(g)\n",
    "z_bins = sdwfs_purity_data['redshift_bins'][:-1]\n",
    "threshold_bins = sdwfs_prior_data['color_thresholds'][:-1]"
   ],
   "metadata": {
    "collapsed": false,
    "pycharm": {
     "name": "#%%\n"
    }
   }
  },
  {
   "cell_type": "code",
   "execution_count": 12,
   "outputs": [],
   "source": [
    "# Set up interpolators\n",
    "agn_purity_color = interp1d(z_bins, sdwfs_purity_data['purity_90_colors'], kind='previous')\n",
    "agn_surf_den = interp1d(threshold_bins, sdwfs_prior_data['agn_surf_den'], kind='previous')\n",
    "agn_surf_den_err = interp1d(threshold_bins, sdwfs_prior_data['agn_surf_den_err'], kind='previous')\n",
    "\n",
    "# For convenience, set up the function compositions\n",
    "def agn_prior_surf_den(redshift: float) -> float:\n",
    "    return agn_surf_den(agn_purity_color(redshift))\n",
    "\n",
    "def agn_prior_surf_den_err(redshift: float) -> float:\n",
    "    return agn_surf_den_err(agn_purity_color(redshift))\n",
    "\n",
    "# Set up an interpolation for the AGN surface density relative to the reference surface density at z = 0\n",
    "delta_c = interp1d(z_bins, agn_prior_surf_den(z_bins) - agn_prior_surf_den(0.), kind='previous')"
   ],
   "metadata": {
    "collapsed": false,
    "pycharm": {
     "name": "#%%\n"
    }
   }
  },
  {
   "cell_type": "code",
   "execution_count": 13,
   "outputs": [
    {
     "name": "stdout",
     "output_type": "stream",
     "text": [
      "Input parameters: theta_true = 250.0, eta_true = 4.0, zeta_true = -1.0 beta_true = 1.0, rc_true = 0.1, c0_true = 7.905\n"
     ]
    }
   ],
   "source": [
    "cluster_redshifts = SPT_data['REDSHIFT']\n",
    "redshift_uncert = SPT_data['REDSHIFT_UNC']\n",
    "\n",
    "# For a cluster at z = 0.6, the color threshold will be [3.6] - [4.5] = 0.61\n",
    "color_thresholds = [agn_purity_color(z) for z in cluster_redshifts]\n",
    "\n",
    "# Set the maximum radius (in r500 units) that we will generate out to.\n",
    "max_radius = 5.  # [R_500]\n",
    "\n",
    "# Set the rescaling factor for rebinning\n",
    "rescale_fact = 6  # Factor by which we will rescale the mask images to gain higher resoluti\n",
    "\n",
    "# We'll boost the number of objects in our sample by duplicating this cluster by a factor.\n",
    "num_clusters = 50\n",
    "\n",
    "# We will set our input (true) parameters to be an arbitrary value for cluster and using an approximation of the expected background surface density using our color threshold.\n",
    "theta_true = 5.0\n",
    "eta_true = 4.0\n",
    "zeta_true = -1.0\n",
    "beta_true = 1.0\n",
    "rc_true = 0.1\n",
    "c0_true = agn_prior_surf_den(0.)\n",
    "c_truths = np.array([agn_prior_surf_den(z) for z in cluster_redshifts])\n",
    "c_err_truths = np.array([agn_prior_surf_den_err(z) for z in cluster_redshifts])\n",
    "\n",
    "# We will amplify the true parameters by the number of clusters in the sample.\n",
    "theta_true *= num_clusters\n",
    "c0_true *= num_clusters\n",
    "c_truths *= num_clusters\n",
    "c_err_truths *= num_clusters\n",
    "print(f'Input parameters: {theta_true = }, {eta_true = }, {zeta_true = } {beta_true = }, {rc_true = }, {c0_true = :.3f}')"
   ],
   "metadata": {
    "collapsed": false,
    "pycharm": {
     "name": "#%%\n"
    }
   }
  },
  {
   "cell_type": "markdown",
   "source": [
    "### Run cluster realization pipeline"
   ],
   "metadata": {
    "collapsed": false,
    "pycharm": {
     "name": "#%% md\n"
    }
   }
  },
  {
   "cell_type": "code",
   "execution_count": 14,
   "outputs": [
    {
     "data": {
      "text/plain": "<Figure size 432x288 with 1 Axes>",
      "image/png": "[encoded data removed]"
     },
     "metadata": {
      "needs_background": "light"
     },
     "output_type": "display_data"
    },
    {
     "data": {
      "text/plain": "<Figure size 432x288 with 1 Axes>",
      "image/png": "[encoded data removed]"
     },
     "metadata": {
      "needs_background": "light"
     },
     "output_type": "display_data"
    },
    {
     "data": {
      "text/plain": "<Figure size 432x288 with 1 Axes>",
      "image/png": "[encoded data removed]"
     },
     "metadata": {
      "needs_background": "light"
     },
     "output_type": "display_data"
    },
    {
     "data": {
      "text/plain": "<Figure size 432x288 with 1 Axes>",
      "image/png": "[encoded data removed]"
     },
     "metadata": {
      "needs_background": "light"
     },
     "output_type": "display_data"
    },
    {
     "data": {
      "text/plain": "<Figure size 432x288 with 1 Axes>",
      "image/png": "[encoded data removed]"
     },
     "metadata": {
      "needs_background": "light"
     },
     "output_type": "display_data"
    },
    {
     "data": {
      "text/plain": "<Figure size 432x288 with 1 Axes>",
      "image/png": "[encoded data removed]"
     },
     "metadata": {
      "needs_background": "light"
     },
     "output_type": "display_data"
    }
   ],
   "source": [
    "cluster_cats = []\n",
    "gpf_dict = {}\n",
    "for cluster_catalog, cluster_color_threshold, bkg_rate_true, bkg_rate_err_true in zip(SPT_data, color_thresholds, c_truths, c_err_truths):\n",
    "    cat = generate_mock_cluster(cluster_catalog, cluster_color_threshold, bkg_rate_true)\n",
    "    cluster_cats.append(cat)\n",
    "\n",
    "    # Compute GPFs\n",
    "    cluster_id = cat['SPT_ID'][0]\n",
    "    cluster_z = cat['REDSHIFT'][0]\n",
    "    cluster_r500 = cat['R500'][0] * u.Mpc\n",
    "    cluster_sz_cent = cat['SZ_RA', 'SZ_DEC'][0]\n",
    "\n",
    "    # Determine the maximum integration radius for the cluster in terms of r500 units.\n",
    "    max_radius_r500 = max_radius\n",
    "\n",
    "    # Find the appropriate mesh step size. Since we work in r500 units we convert the pixel scale from angle/pix to\n",
    "    # r500/pix.\n",
    "    mask_wcs = WCS(mask_dict[cluster_id][1])\n",
    "    pix_scale = mask_wcs.proj_plane_pixel_scales()[0]\n",
    "    pix_scale_r500 = pix_scale * cosmo.kpc_proper_per_arcmin(cluster_z).to(u.Mpc / pix_scale.unit) / cluster_r500\n",
    "\n",
    "    # Generate a radial integration mesh.\n",
    "    rall = np.arange(0., max_radius_r500, pix_scale_r500 / rescale_fact)\n",
    "\n",
    "    # Compute the good pixel fractions\n",
    "    cluster_gpf_all = good_pixel_fraction(rall, cluster_z, cluster_r500, cluster_sz_cent, cluster_id,\n",
    "                                          rescale_factor=rescale_fact)\n",
    "    gpf_dict[cluster_id] = cluster_gpf_all\n",
    "\n",
    "    # Show plot of combined line-of-sight positions\n",
    "    cluster_objects = cat[cat['CLUSTER_AGN'].astype(bool)]\n",
    "    background_objects = cat[~cat['CLUSTER_AGN'].astype(bool)]\n",
    "    mask_img, mask_hdr = fits.getdata(cluster_catalog['MASK_NAME'], header=True)\n",
    "    wcs = WCS(mask_hdr)\n",
    "    _, ax = plt.subplots(subplot_kw=dict(projection=wcs))\n",
    "    ax.imshow(mask_img, origin='lower', cmap='Greys')\n",
    "    ax.scatter(background_objects['RA'], background_objects['DEC'], edgecolors='blue', facecolors='none', alpha=0.4, label='Background', transform=ax.get_transform('world'))\n",
    "    ax.scatter(cluster_objects['RA'], cluster_objects['DEC'], edgecolors='red', facecolors='red', alpha=0.6, label='Cluster', transform=ax.get_transform('world'))\n",
    "    ax.scatter(cluster_catalog['SZ_RA'], cluster_catalog['SZ_DEC'], marker='+', c='k', s=50, label='Cluster Center', transform=ax.get_transform('world'))\n",
    "    ax.legend()\n",
    "    ax.set(title=f'{cluster_catalog[\"SPT_ID\"]} at z = {cluster_catalog[\"REDSHIFT\"]:.2f}', xlabel='Right Ascension', ylabel='Declination', aspect=1)\n",
    "    plt.show()\n",
    "\n",
    "# Combine all catalogs\n",
    "master_catalog = vstack(cluster_cats)"
   ],
   "metadata": {
    "collapsed": false,
    "pycharm": {
     "name": "#%%\n"
    }
   }
  },
  {
   "cell_type": "code",
   "execution_count": 15,
   "outputs": [
    {
     "data": {
      "text/plain": "(2467, 2011)"
     },
     "execution_count": 15,
     "metadata": {},
     "output_type": "execute_result"
    }
   ],
   "source": [
    "cluster_only = master_catalog[master_catalog['CLUSTER_AGN'].astype(bool)]\n",
    "background_only = master_catalog[~master_catalog['CLUSTER_AGN'].astype(bool)]\n",
    "len(cluster_only), len(background_only)"
   ],
   "metadata": {
    "collapsed": false,
    "pycharm": {
     "name": "#%%\n"
    }
   }
  },
  {
   "cell_type": "code",
   "execution_count": 16,
   "outputs": [],
   "source": [
    "catalog = master_catalog"
   ],
   "metadata": {
    "collapsed": false,
    "pycharm": {
     "name": "#%%\n"
    }
   }
  },
  {
   "cell_type": "markdown",
   "source": [
    "## Apply Bayesian model to refit data"
   ],
   "metadata": {
    "collapsed": false,
    "pycharm": {
     "name": "#%% md\n"
    }
   }
  },
  {
   "cell_type": "code",
   "execution_count": 17,
   "outputs": [
    {
     "name": "stdout",
     "output_type": "stream",
     "text": [
      "emcee: Exception while calling your likelihood function:emcee: Exception while calling your likelihood function:emcee: Exception while calling your likelihood function:emcee: Exception while calling your likelihood function:emcee: Exception while calling your likelihood function:\n",
      "emcee: Exception while calling your likelihood function:emcee: Exception while calling your likelihood function:emcee: Exception while calling your likelihood function:emcee: Exception while calling your likelihood function:\n",
      "emcee: Exception while calling your likelihood function:\n",
      "\n",
      "emcee: Exception while calling your likelihood function:emcee: Exception while calling your likelihood function:\n",
      "emcee: Exception while calling your likelihood function:\n",
      "emcee: Exception while calling your likelihood function:emcee: Exception while calling your likelihood function:  params:emcee: Exception while calling your likelihood function:\n",
      "\n",
      "  params:\n",
      "  params:\n",
      "  params:  params:emcee: Exception while calling your likelihood function:\n",
      "\n",
      " \n",
      "  params:\n",
      "  params: \n",
      "  params:  params:\n",
      "   params:  \n",
      "  params:  params:[ 2.50000132e+02  3.99999458e+00 -9.99965191e-01  1.00023932e+00\n",
      "  1.00110384e-01  7.90463570e+00]  params:  emcee: Exception while calling your likelihood function:    params:\n",
      "[ 2.50000132e+02  3.99984259e+00 -1.00008265e+00  1.00018918e+00\n",
      "  9.99940974e-02  7.90459626e+00]  params:emcee: Exception while calling your likelihood function:[ 2.49999950e+02  3.99990560e+00 -1.00011183e+00  9.99842587e-01\n",
      "  1.00033828e-01  7.90469822e+00][ 2.50000069e+02  4.00001127e+00 -9.99986122e-01  9.99900164e-01\n",
      "  9.98984230e-02  7.90451283e+00]  \n",
      "\n",
      "[ 2.49999880e+02  4.00017407e+00 -1.00000529e+00  1.00004956e+00\n",
      "  9.99790516e-02  7.90467194e+00]     args:[ 2.50000184e+02  4.00003323e+00 -1.00011048e+00  9.99852340e-01\n",
      "  1.00018350e-01  7.90459377e+00][ 2.49999881e+02  4.00005332e+00 -1.00004001e+00  1.00001647e+00\n",
      "  1.00034821e-01  7.90450288e+00]emcee: Exception while calling your likelihood function:\n",
      "\n",
      "[ 2.49999921e+02  3.99987365e+00 -9.99864110e-01  9.99771653e-01\n",
      "  9.99782370e-02  7.90477015e+00]\n",
      "  params:  params:[ 2.49999953e+02  4.00000161e+00 -9.99993389e-01  1.00004615e+00\n",
      "  1.00063042e-01  7.90476199e+00][ 2.50000015e+02  4.00002634e+00 -1.00003142e+00  9.99977398e-01\n",
      "  9.99745387e-02  7.90466443e+00]  args:\n",
      " \n",
      "[ 2.50000067e+02  3.99972388e+00 -9.99853777e-01  1.00002857e+00\n",
      "  1.00031963e-01  7.90454752e+00]\n",
      "[ 2.49999840e+02  3.99992203e+00 -1.00010281e+00  1.00001366e+00\n",
      "  1.00046227e-01  7.90445176e+00][ 2.49999947e+02  3.99985171e+00 -9.99919217e-01  9.99949994e-01\n",
      "  1.00019497e-01  7.90453914e+00]\n",
      "  args:\n",
      "  params:  args:  \n",
      "\n",
      "  args: \n",
      "[]  args:  args:\n",
      "\n",
      "   args:     args:  args:[ 2.49999962e+02  4.00003118e+00 -9.99987159e-01  9.99991305e-01\n",
      "  9.99297452e-02  7.90481254e+00] [ 2.50000048e+02  3.99986713e+00 -9.99934692e-01  9.99991907e-01\n",
      "  1.00027818e-01  7.90477782e+00][]\n",
      "  args:   params:  args:[][] \n",
      "[ 2.50000190e+02  4.00008350e+00 -9.99884924e-01  9.99913673e-01\n",
      "  1.00042353e-01  7.90473873e+00]\n",
      "\n",
      "    kwargs: [][]  params:\n",
      "  []\n",
      "\n",
      "  args:  args:  kwargs:[] []  args: \n",
      "\n",
      "  kwargs:[ 2.50000065e+02  3.99995146e+00 -9.99986013e-01  9.99884970e-01\n",
      "  1.00117617e-01  7.90457528e+00][]\n",
      "  kwargs:  args: [ 2.50000013e+02  4.00004301e+00 -1.00009762e+00  1.00010509e+00\n",
      "  9.99605316e-02  7.90479506e+00]  \n",
      " {}[]\n",
      "   kwargs:  kwargs: [ 2.50000127e+02  4.00010327e+00 -1.00000087e+00  1.00002472e+00\n",
      "  9.99380040e-02  7.90447510e+00]\n",
      "\n",
      "  kwargs:  []\n",
      "  kwargs:[]{}[]\n",
      "  kwargs:[][ 2.50000140e+02  3.99998352e+00 -9.99955342e-01  1.00006361e+00\n",
      "  9.99479823e-02  7.90473021e+00]   args:\n",
      "  kwargs: \n",
      "[]  args: {}\n",
      "   exception:\n",
      " \n",
      "\n",
      "{}\n",
      "  args: {}  kwargs:\n",
      "{} {}\n",
      "{}\n",
      "  kwargs:\n",
      "  kwargs:  args:  kwargs:{}  exception: [] \n",
      "  kwargs:\n",
      "[]\n",
      "  exception:\n",
      "    kwargs:   \n",
      "\n",
      "[]\n",
      "  exception:{} \n",
      "  exception:  exception:\n",
      "  exception:{} {}[]{}{}  exception:"
     ]
    },
    {
     "name": "stderr",
     "output_type": "stream",
     "text": [
      "Traceback (most recent call last):\n"
     ]
    },
    {
     "name": "stdout",
     "output_type": "stream",
     "text": [
      "  kwargs:\n",
      "{}\n",
      "\n",
      "\n",
      "\n"
     ]
    },
    {
     "name": "stderr",
     "output_type": "stream",
     "text": [
      "Traceback (most recent call last):\n"
     ]
    },
    {
     "name": "stdout",
     "output_type": "stream",
     "text": [
      "\n",
      "\n",
      "\n"
     ]
    },
    {
     "name": "stderr",
     "output_type": "stream",
     "text": [
      "  File \"/home/ben-work/PycharmProjects/astro-compendium/astro_compendium/utils/custom_math.py\", line 83, in trap_weight\n",
      "    integral = np.sum(sub_integral * weight, axis)\n"
     ]
    },
    {
     "name": "stdout",
     "output_type": "stream",
     "text": [
      "\n"
     ]
    },
    {
     "name": "stderr",
     "output_type": "stream",
     "text": [
      "Traceback (most recent call last):\n"
     ]
    },
    {
     "name": "stdout",
     "output_type": "stream",
     "text": [
      "{}\n",
      "   exception:\n",
      "  kwargs:\n"
     ]
    },
    {
     "name": "stderr",
     "output_type": "stream",
     "text": [
      "  File \"/home/ben-work/PycharmProjects/astro-compendium/astro_compendium/utils/custom_math.py\", line 83, in trap_weight\n",
      "    integral = np.sum(sub_integral * weight, axis)\n"
     ]
    },
    {
     "name": "stdout",
     "output_type": "stream",
     "text": [
      "\n",
      "  exception:"
     ]
    },
    {
     "name": "stderr",
     "output_type": "stream",
     "text": [
      "  File \"/home/ben-work/.conda/envs/astro/lib/python3.10/site-packages/astropy/units/quantity.py\", line 1121, in __mul__\n",
      "    return super().__mul__(other)\n"
     ]
    },
    {
     "name": "stdout",
     "output_type": "stream",
     "text": [
      "  kwargs:  exception:  exception:"
     ]
    },
    {
     "name": "stderr",
     "output_type": "stream",
     "text": [
      "  File \"/home/ben-work/PycharmProjects/astro-compendium/astro_compendium/utils/custom_math.py\", line 83, in trap_weight\n",
      "    integral = np.sum(sub_integral * weight, axis)\n"
     ]
    },
    {
     "name": "stdout",
     "output_type": "stream",
     "text": [
      "{}\n",
      "\n",
      "\n",
      "   exception:  exception:"
     ]
    },
    {
     "name": "stderr",
     "output_type": "stream",
     "text": [
      "Traceback (most recent call last):\n",
      "Traceback (most recent call last):\n"
     ]
    },
    {
     "name": "stdout",
     "output_type": "stream",
     "text": [
      "  exception:"
     ]
    },
    {
     "name": "stderr",
     "output_type": "stream",
     "text": [
      "  File \"/home/ben-work/.conda/envs/astro/lib/python3.10/site-packages/astropy/units/quantity.py\", line 1121, in __mul__\n",
      "    return super().__mul__(other)\n",
      "Traceback (most recent call last):\n",
      "  File \"/home/ben-work/.conda/envs/astro/lib/python3.10/site-packages/astropy/units/quantity.py\", line 611, in __array_ufunc__\n",
      "    result = super().__array_ufunc__(function, method, *arrays, **kwargs)\n"
     ]
    },
    {
     "name": "stdout",
     "output_type": "stream",
     "text": [
      "\n",
      "\n",
      "\n"
     ]
    },
    {
     "name": "stderr",
     "output_type": "stream",
     "text": [
      "  File \"/home/ben-work/.conda/envs/astro/lib/python3.10/site-packages/astropy/units/quantity.py\", line 1121, in __mul__\n",
      "    return super().__mul__(other)\n",
      "Traceback (most recent call last):\n"
     ]
    },
    {
     "name": "stdout",
     "output_type": "stream",
     "text": [
      "\n",
      "  exception:\n",
      "{}  kwargs:\n"
     ]
    },
    {
     "name": "stderr",
     "output_type": "stream",
     "text": [
      "  File \"/home/ben-work/PycharmProjects/astro-compendium/astro_compendium/utils/custom_math.py\", line 83, in trap_weight\n",
      "    integral = np.sum(sub_integral * weight, axis)\n",
      "  File \"/home/ben-work/PycharmProjects/astro-compendium/astro_compendium/utils/custom_math.py\", line 83, in trap_weight\n",
      "    integral = np.sum(sub_integral * weight, axis)\n",
      "  File \"/home/ben-work/.conda/envs/astro/lib/python3.10/site-packages/astropy/units/quantity.py\", line 611, in __array_ufunc__\n",
      "    result = super().__array_ufunc__(function, method, *arrays, **kwargs)\n"
     ]
    },
    {
     "name": "stdout",
     "output_type": "stream",
     "text": [
      "\n"
     ]
    },
    {
     "name": "stderr",
     "output_type": "stream",
     "text": [
      "ValueError: operands could not be broadcast together with shapes (9999,) (4076,) \n"
     ]
    },
    {
     "name": "stdout",
     "output_type": "stream",
     "text": [
      " "
     ]
    },
    {
     "name": "stderr",
     "output_type": "stream",
     "text": [
      "  File \"/home/ben-work/PycharmProjects/astro-compendium/astro_compendium/utils/custom_math.py\", line 83, in trap_weight\n",
      "    integral = np.sum(sub_integral * weight, axis)\n",
      "  File \"/home/ben-work/PycharmProjects/astro-compendium/astro_compendium/utils/custom_math.py\", line 83, in trap_weight\n",
      "    integral = np.sum(sub_integral * weight, axis)\n"
     ]
    },
    {
     "name": "stdout",
     "output_type": "stream",
     "text": [
      "  exception:"
     ]
    },
    {
     "name": "stderr",
     "output_type": "stream",
     "text": [
      "Traceback (most recent call last):\n"
     ]
    },
    {
     "name": "stdout",
     "output_type": "stream",
     "text": [
      "\n",
      " "
     ]
    },
    {
     "name": "stderr",
     "output_type": "stream",
     "text": [
      "  File \"/home/ben-work/.conda/envs/astro/lib/python3.10/site-packages/astropy/units/quantity.py\", line 611, in __array_ufunc__\n",
      "    result = super().__array_ufunc__(function, method, *arrays, **kwargs)\n",
      "Traceback (most recent call last):\n",
      "Traceback (most recent call last):\n",
      "  File \"/home/ben-work/.conda/envs/astro/lib/python3.10/site-packages/astropy/units/quantity.py\", line 1121, in __mul__\n",
      "    return super().__mul__(other)\n",
      "  File \"/home/ben-work/.conda/envs/astro/lib/python3.10/site-packages/astropy/units/quantity.py\", line 1121, in __mul__\n",
      "    return super().__mul__(other)\n",
      "ValueError: operands could not be broadcast together with shapes (9999,) (4076,) \n",
      "Traceback (most recent call last):\n"
     ]
    },
    {
     "name": "stdout",
     "output_type": "stream",
     "text": [
      "{}"
     ]
    },
    {
     "name": "stderr",
     "output_type": "stream",
     "text": [
      "\n",
      "During handling of the above exception, another exception occurred:\n",
      "\n",
      "Traceback (most recent call last):\n",
      "  File \"/home/ben-work/.conda/envs/astro/lib/python3.10/site-packages/astropy/units/quantity.py\", line 1121, in __mul__\n",
      "    return super().__mul__(other)\n",
      "Traceback (most recent call last):\n"
     ]
    },
    {
     "name": "stdout",
     "output_type": "stream",
     "text": [
      "\n"
     ]
    },
    {
     "name": "stderr",
     "output_type": "stream",
     "text": [
      "  File \"/home/ben-work/.conda/envs/astro/lib/python3.10/site-packages/astropy/units/quantity.py\", line 1121, in __mul__\n",
      "    return super().__mul__(other)\n",
      "  File \"/home/ben-work/PycharmProjects/astro-compendium/astro_compendium/utils/custom_math.py\", line 83, in trap_weight\n",
      "    integral = np.sum(sub_integral * weight, axis)\n"
     ]
    },
    {
     "name": "stdout",
     "output_type": "stream",
     "text": [
      "{}"
     ]
    },
    {
     "name": "stderr",
     "output_type": "stream",
     "text": [
      "ValueError: operands could not be broadcast together with shapes (9999,) (4076,) \n",
      "Traceback (most recent call last):\n",
      "  File \"/home/ben-work/PycharmProjects/astro-compendium/astro_compendium/utils/custom_math.py\", line 83, in trap_weight\n",
      "    integral = np.sum(sub_integral * weight, axis)\n",
      "  File \"/home/ben-work/PycharmProjects/astro-compendium/astro_compendium/utils/custom_math.py\", line 83, in trap_weight\n",
      "    integral = np.sum(sub_integral * weight, axis)\n",
      "  File \"/home/ben-work/.conda/envs/astro/lib/python3.10/site-packages/astropy/units/quantity.py\", line 611, in __array_ufunc__\n",
      "    result = super().__array_ufunc__(function, method, *arrays, **kwargs)\n",
      "  File \"/home/ben-work/.conda/envs/astro/lib/python3.10/site-packages/astropy/units/quantity.py\", line 611, in __array_ufunc__\n",
      "    result = super().__array_ufunc__(function, method, *arrays, **kwargs)\n",
      "\n",
      "During handling of the above exception, another exception occurred:\n",
      "\n",
      "  File \"/home/ben-work/PycharmProjects/astro-compendium/astro_compendium/utils/custom_math.py\", line 83, in trap_weight\n",
      "    integral = np.sum(sub_integral * weight, axis)\n"
     ]
    },
    {
     "name": "stdout",
     "output_type": "stream",
     "text": [
      "\n"
     ]
    },
    {
     "name": "stderr",
     "output_type": "stream",
     "text": [
      "Traceback (most recent call last):\n",
      "Traceback (most recent call last):\n",
      "  File \"/home/ben-work/PycharmProjects/astro-compendium/astro_compendium/utils/custom_math.py\", line 83, in trap_weight\n",
      "    integral = np.sum(sub_integral * weight, axis)\n",
      "  File \"/home/ben-work/.conda/envs/astro/lib/python3.10/site-packages/astropy/units/quantity.py\", line 611, in __array_ufunc__\n",
      "    result = super().__array_ufunc__(function, method, *arrays, **kwargs)\n",
      "  File \"/home/ben-work/.conda/envs/astro/lib/python3.10/site-packages/astropy/units/quantity.py\", line 611, in __array_ufunc__\n",
      "    result = super().__array_ufunc__(function, method, *arrays, **kwargs)\n",
      "  File \"/home/ben-work/PycharmProjects/astro-compendium/astro_compendium/utils/custom_math.py\", line 83, in trap_weight\n",
      "    integral = np.sum(sub_integral * weight, axis)\n",
      "  File \"/home/ben-work/.conda/envs/astro/lib/python3.10/site-packages/astropy/units/quantity.py\", line 1121, in __mul__\n",
      "    return super().__mul__(other)\n"
     ]
    },
    {
     "name": "stdout",
     "output_type": "stream",
     "text": [
      "\n"
     ]
    },
    {
     "name": "stderr",
     "output_type": "stream",
     "text": [
      "\n",
      "During handling of the above exception, another exception occurred:\n",
      "\n",
      "  File \"/home/ben-work/.conda/envs/astro/lib/python3.10/site-packages/astropy/units/quantity.py\", line 1121, in __mul__\n",
      "    return super().__mul__(other)\n",
      "  File \"/home/ben-work/PycharmProjects/astro-compendium/astro_compendium/utils/custom_math.py\", line 83, in trap_weight\n",
      "    integral = np.sum(sub_integral * weight, axis)\n",
      "  File \"/home/ben-work/.conda/envs/astro/lib/python3.10/site-packages/astropy/units/quantity.py\", line 1121, in __mul__\n",
      "    return super().__mul__(other)\n",
      "ValueError: operands could not be broadcast together with shapes (9999,) (4076,) \n",
      "Traceback (most recent call last):\n",
      "ValueError: operands could not be broadcast together with shapes (9999,) (4076,) \n",
      "Traceback (most recent call last):\n"
     ]
    },
    {
     "name": "stdout",
     "output_type": "stream",
     "text": [
      "\n",
      "  exception:"
     ]
    },
    {
     "name": "stderr",
     "output_type": "stream",
     "text": [
      "  File \"/home/ben-work/.conda/envs/astro/lib/python3.10/site-packages/emcee/ensemble.py\", line 624, in __call__\n",
      "    return self.f(x, *self.args, **self.kwargs)\n",
      "Traceback (most recent call last):\n",
      "  File \"/home/ben-work/PycharmProjects/astro-compendium/astro_compendium/utils/custom_math.py\", line 83, in trap_weight\n",
      "    integral = np.sum(sub_integral * weight, axis)\n",
      "  File \"/home/ben-work/.conda/envs/astro/lib/python3.10/site-packages/astropy/units/quantity.py\", line 1121, in __mul__\n",
      "    return super().__mul__(other)\n",
      "  File \"/home/ben-work/.conda/envs/astro/lib/python3.10/site-packages/astropy/units/quantity.py\", line 1121, in __mul__\n",
      "    return super().__mul__(other)\n",
      "  File \"/home/ben-work/.conda/envs/astro/lib/python3.10/site-packages/astropy/units/quantity.py\", line 1121, in __mul__\n",
      "    return super().__mul__(other)\n",
      "ValueError: operands could not be broadcast together with shapes (9999,) (4076,) \n",
      "  File \"/home/ben-work/.conda/envs/astro/lib/python3.10/site-packages/astropy/units/quantity.py\", line 611, in __array_ufunc__\n",
      "    result = super().__array_ufunc__(function, method, *arrays, **kwargs)\n",
      "ValueError: operands could not be broadcast together with shapes (9999,) (4076,) \n"
     ]
    },
    {
     "name": "stdout",
     "output_type": "stream",
     "text": [
      "  exception:"
     ]
    },
    {
     "name": "stderr",
     "output_type": "stream",
     "text": [
      "Traceback (most recent call last):\n",
      "  File \"/home/ben-work/.conda/envs/astro/lib/python3.10/site-packages/astropy/units/quantity.py\", line 611, in __array_ufunc__\n",
      "    result = super().__array_ufunc__(function, method, *arrays, **kwargs)\n",
      "  File \"/home/ben-work/.conda/envs/astro/lib/python3.10/site-packages/astropy/units/quantity.py\", line 1121, in __mul__\n",
      "    return super().__mul__(other)\n",
      "  File \"/home/ben-work/.conda/envs/astro/lib/python3.10/site-packages/astropy/units/quantity.py\", line 611, in __array_ufunc__\n",
      "    result = super().__array_ufunc__(function, method, *arrays, **kwargs)\n",
      "\n",
      "During handling of the above exception, another exception occurred:\n",
      "\n",
      "  File \"/home/ben-work/PycharmProjects/astro-compendium/astro_compendium/utils/custom_math.py\", line 83, in trap_weight\n",
      "    integral = np.sum(sub_integral * weight, axis)\n",
      "\n",
      "During handling of the above exception, another exception occurred:\n",
      "\n",
      "  File \"/home/ben-work/PycharmProjects/astro-compendium/astro_compendium/utils/custom_math.py\", line 83, in trap_weight\n",
      "    integral = np.sum(sub_integral * weight, axis)\n"
     ]
    },
    {
     "name": "stdout",
     "output_type": "stream",
     "text": [
      "  exception:"
     ]
    },
    {
     "name": "stderr",
     "output_type": "stream",
     "text": [
      "  File \"/home/ben-work/.conda/envs/astro/lib/python3.10/site-packages/emcee/ensemble.py\", line 624, in __call__\n",
      "    return self.f(x, *self.args, **self.kwargs)\n"
     ]
    },
    {
     "name": "stdout",
     "output_type": "stream",
     "text": [
      "\n"
     ]
    },
    {
     "name": "stderr",
     "output_type": "stream",
     "text": [
      "  File \"/tmp/ipykernel_436/1752279991.py\", line 8, in lnprob\n",
      "    return lnlike(params) + lp\n",
      "  File \"/home/ben-work/.conda/envs/astro/lib/python3.10/site-packages/astropy/units/quantity.py\", line 611, in __array_ufunc__\n",
      "    result = super().__array_ufunc__(function, method, *arrays, **kwargs)\n",
      "  File \"/home/ben-work/.conda/envs/astro/lib/python3.10/site-packages/astropy/units/quantity.py\", line 1121, in __mul__\n",
      "    return super().__mul__(other)\n",
      "  File \"/home/ben-work/.conda/envs/astro/lib/python3.10/site-packages/astropy/units/quantity.py\", line 611, in __array_ufunc__\n",
      "    result = super().__array_ufunc__(function, method, *arrays, **kwargs)\n",
      "  File \"/home/ben-work/.conda/envs/astro/lib/python3.10/site-packages/astropy/units/quantity.py\", line 611, in __array_ufunc__\n",
      "    result = super().__array_ufunc__(function, method, *arrays, **kwargs)\n",
      "ValueError: operands could not be broadcast together with shapes (9999,) (4076,) \n",
      "\n",
      "During handling of the above exception, another exception occurred:\n",
      "\n",
      "\n",
      "During handling of the above exception, another exception occurred:\n",
      "\n"
     ]
    },
    {
     "name": "stdout",
     "output_type": "stream",
     "text": [
      "\n"
     ]
    },
    {
     "name": "stderr",
     "output_type": "stream",
     "text": [
      "  File \"/home/ben-work/.conda/envs/astro/lib/python3.10/site-packages/emcee/ensemble.py\", line 624, in __call__\n",
      "    return self.f(x, *self.args, **self.kwargs)\n",
      "ValueError: operands could not be broadcast together with shapes (9999,) (4076,) \n",
      "ValueError: operands could not be broadcast together with shapes (9999,) (4076,) \n",
      "  File \"/home/ben-work/.conda/envs/astro/lib/python3.10/site-packages/astropy/units/quantity.py\", line 611, in __array_ufunc__\n",
      "    result = super().__array_ufunc__(function, method, *arrays, **kwargs)\n",
      "Traceback (most recent call last):\n",
      "  File \"/home/ben-work/.conda/envs/astro/lib/python3.10/site-packages/astropy/units/quantity.py\", line 1121, in __mul__\n",
      "    return super().__mul__(other)\n",
      "Traceback (most recent call last):\n",
      "  File \"/home/ben-work/.conda/envs/astro/lib/python3.10/site-packages/astropy/units/quantity.py\", line 1121, in __mul__\n",
      "    return super().__mul__(other)\n"
     ]
    },
    {
     "name": "stdout",
     "output_type": "stream",
     "text": [
      "\n"
     ]
    },
    {
     "name": "stderr",
     "output_type": "stream",
     "text": [
      "  File \"/tmp/ipykernel_436/1752279991.py\", line 8, in lnprob\n",
      "    return lnlike(params) + lp\n",
      "  File \"/tmp/ipykernel_436/1996192625.py\", line 27, in lnlike\n",
      "    ln_like_func = np.sum(np.log(ni * ri * mu_agn)) - trap_weight(nall * 2 * np.pi * rall, rall, weight=gpf)\n",
      "ValueError: operands could not be broadcast together with shapes (9999,) (4076,) \n",
      "  File \"/home/ben-work/.conda/envs/astro/lib/python3.10/site-packages/astropy/units/quantity.py\", line 611, in __array_ufunc__\n",
      "    result = super().__array_ufunc__(function, method, *arrays, **kwargs)\n",
      "ValueError: operands could not be broadcast together with shapes (9999,) (4076,) \n",
      "ValueError: operands could not be broadcast together with shapes (9999,) (4076,) \n",
      "\n",
      "During handling of the above exception, another exception occurred:\n",
      "\n",
      "Traceback (most recent call last):\n",
      "Traceback (most recent call last):\n",
      "  File \"/tmp/ipykernel_436/1752279991.py\", line 8, in lnprob\n",
      "    return lnlike(params) + lp\n",
      "\n",
      "During handling of the above exception, another exception occurred:\n",
      "\n",
      "Traceback (most recent call last):\n",
      "  File \"/home/ben-work/.conda/envs/astro/lib/python3.10/site-packages/astropy/units/quantity.py\", line 611, in __array_ufunc__\n",
      "    result = super().__array_ufunc__(function, method, *arrays, **kwargs)\n",
      "\n",
      "During handling of the above exception, another exception occurred:\n",
      "\n",
      "  File \"/home/ben-work/.conda/envs/astro/lib/python3.10/site-packages/emcee/ensemble.py\", line 624, in __call__\n",
      "    return self.f(x, *self.args, **self.kwargs)\n",
      "  File \"/home/ben-work/.conda/envs/astro/lib/python3.10/site-packages/emcee/ensemble.py\", line 624, in __call__\n",
      "    return self.f(x, *self.args, **self.kwargs)\n",
      "  File \"/home/ben-work/.conda/envs/astro/lib/python3.10/site-packages/astropy/units/quantity.py\", line 611, in __array_ufunc__\n",
      "    result = super().__array_ufunc__(function, method, *arrays, **kwargs)\n",
      "  File \"/tmp/ipykernel_436/1996192625.py\", line 27, in lnlike\n",
      "    ln_like_func = np.sum(np.log(ni * ri * mu_agn)) - trap_weight(nall * 2 * np.pi * rall, rall, weight=gpf)\n",
      "ValueError: operands could not be broadcast together with shapes (9999,) (4076,) \n",
      "  File \"/home/ben-work/PycharmProjects/astro-compendium/astro_compendium/utils/custom_math.py\", line 92, in trap_weight\n",
      "    integral = np.add.reduce(sub_integral * weight, axis)\n",
      "Traceback (most recent call last):\n",
      "\n",
      "During handling of the above exception, another exception occurred:\n",
      "\n",
      "ValueError: operands could not be broadcast together with shapes (9999,) (4076,) \n",
      "\n",
      "During handling of the above exception, another exception occurred:\n",
      "\n",
      "\n",
      "During handling of the above exception, another exception occurred:\n",
      "\n",
      "Traceback (most recent call last):\n",
      "  File \"/home/ben-work/.conda/envs/astro/lib/python3.10/site-packages/emcee/ensemble.py\", line 624, in __call__\n",
      "    return self.f(x, *self.args, **self.kwargs)\n",
      "  File \"/home/ben-work/.conda/envs/astro/lib/python3.10/site-packages/emcee/ensemble.py\", line 624, in __call__\n",
      "    return self.f(x, *self.args, **self.kwargs)\n",
      "  File \"/tmp/ipykernel_436/1996192625.py\", line 27, in lnlike\n",
      "    ln_like_func = np.sum(np.log(ni * ri * mu_agn)) - trap_weight(nall * 2 * np.pi * rall, rall, weight=gpf)\n",
      "Traceback (most recent call last):\n",
      "  File \"/home/ben-work/PycharmProjects/astro-compendium/astro_compendium/utils/custom_math.py\", line 83, in trap_weight\n",
      "    integral = np.sum(sub_integral * weight, axis)\n",
      "Traceback (most recent call last):\n",
      "Traceback (most recent call last):\n",
      "ValueError: operands could not be broadcast together with shapes (9999,) (4076,) \n",
      "  File \"/tmp/ipykernel_436/1752279991.py\", line 8, in lnprob\n",
      "    return lnlike(params) + lp\n",
      "  File \"/tmp/ipykernel_436/1752279991.py\", line 8, in lnprob\n",
      "    return lnlike(params) + lp\n",
      "ValueError: operands could not be broadcast together with shapes (9999,) (4076,) \n",
      "  File \"/home/ben-work/PycharmProjects/astro-compendium/astro_compendium/utils/custom_math.py\", line 92, in trap_weight\n",
      "    integral = np.add.reduce(sub_integral * weight, axis)\n",
      "\n",
      "During handling of the above exception, another exception occurred:\n",
      "\n",
      "ValueError: operands could not be broadcast together with shapes (9999,) (4076,) \n",
      "  File \"/home/ben-work/PycharmProjects/astro-compendium/astro_compendium/utils/custom_math.py\", line 83, in trap_weight\n",
      "    integral = np.sum(sub_integral * weight, axis)\n",
      "Traceback (most recent call last):\n",
      "Traceback (most recent call last):\n",
      "\n",
      "During handling of the above exception, another exception occurred:\n",
      "\n",
      "Traceback (most recent call last):\n",
      "  File \"/tmp/ipykernel_436/1752279991.py\", line 8, in lnprob\n",
      "    return lnlike(params) + lp\n",
      "  File \"/home/ben-work/.conda/envs/astro/lib/python3.10/site-packages/emcee/ensemble.py\", line 624, in __call__\n",
      "    return self.f(x, *self.args, **self.kwargs)\n",
      "  File \"/tmp/ipykernel_436/1752279991.py\", line 8, in lnprob\n",
      "    return lnlike(params) + lp\n",
      "  File \"/home/ben-work/PycharmProjects/astro-compendium/astro_compendium/utils/custom_math.py\", line 92, in trap_weight\n",
      "    integral = np.add.reduce(sub_integral * weight, axis)\n",
      "  File \"/home/ben-work/.conda/envs/astro/lib/python3.10/site-packages/emcee/ensemble.py\", line 624, in __call__\n",
      "    return self.f(x, *self.args, **self.kwargs)\n",
      "  File \"/home/ben-work/.conda/envs/astro/lib/python3.10/site-packages/astropy/units/quantity.py\", line 1121, in __mul__\n",
      "    return super().__mul__(other)\n",
      "  File \"/home/ben-work/PycharmProjects/astro-compendium/astro_compendium/utils/custom_math.py\", line 83, in trap_weight\n",
      "    integral = np.sum(sub_integral * weight, axis)\n",
      "\n",
      "During handling of the above exception, another exception occurred:\n",
      "\n",
      "  File \"/tmp/ipykernel_436/1996192625.py\", line 27, in lnlike\n",
      "    ln_like_func = np.sum(np.log(ni * ri * mu_agn)) - trap_weight(nall * 2 * np.pi * rall, rall, weight=gpf)\n",
      "  File \"/home/ben-work/.conda/envs/astro/lib/python3.10/site-packages/emcee/ensemble.py\", line 624, in __call__\n",
      "    return self.f(x, *self.args, **self.kwargs)\n",
      "  File \"/tmp/ipykernel_436/1996192625.py\", line 27, in lnlike\n",
      "    ln_like_func = np.sum(np.log(ni * ri * mu_agn)) - trap_weight(nall * 2 * np.pi * rall, rall, weight=gpf)\n",
      "ValueError: operands could not be broadcast together with shapes (9999,) (4076,) \n",
      "\n",
      "During handling of the above exception, another exception occurred:\n",
      "\n",
      "Traceback (most recent call last):\n",
      "  File \"/home/ben-work/.conda/envs/astro/lib/python3.10/site-packages/astropy/units/quantity.py\", line 1121, in __mul__\n",
      "    return super().__mul__(other)\n",
      "  File \"/home/ben-work/.conda/envs/astro/lib/python3.10/site-packages/emcee/ensemble.py\", line 624, in __call__\n",
      "    return self.f(x, *self.args, **self.kwargs)\n",
      "  File \"/home/ben-work/.conda/envs/astro/lib/python3.10/site-packages/emcee/ensemble.py\", line 624, in __call__\n",
      "    return self.f(x, *self.args, **self.kwargs)\n",
      "  File \"/home/ben-work/.conda/envs/astro/lib/python3.10/site-packages/emcee/ensemble.py\", line 624, in __call__\n",
      "    return self.f(x, *self.args, **self.kwargs)\n",
      "  File \"/tmp/ipykernel_436/1752279991.py\", line 8, in lnprob\n",
      "    return lnlike(params) + lp\n",
      "  File \"/tmp/ipykernel_436/1996192625.py\", line 27, in lnlike\n",
      "    ln_like_func = np.sum(np.log(ni * ri * mu_agn)) - trap_weight(nall * 2 * np.pi * rall, rall, weight=gpf)\n",
      "ValueError: operands could not be broadcast together with shapes (9999,) (4076,) \n",
      "Traceback (most recent call last):\n",
      "  File \"/home/ben-work/.conda/envs/astro/lib/python3.10/site-packages/astropy/units/quantity.py\", line 1121, in __mul__\n",
      "    return super().__mul__(other)\n",
      "  File \"/home/ben-work/PycharmProjects/astro-compendium/astro_compendium/utils/custom_math.py\", line 92, in trap_weight\n",
      "    integral = np.add.reduce(sub_integral * weight, axis)\n",
      "  File \"/tmp/ipykernel_436/1752279991.py\", line 8, in lnprob\n",
      "    return lnlike(params) + lp\n",
      "  File \"/home/ben-work/PycharmProjects/astro-compendium/astro_compendium/utils/custom_math.py\", line 92, in trap_weight\n",
      "    integral = np.add.reduce(sub_integral * weight, axis)\n",
      "  File \"/home/ben-work/.conda/envs/astro/lib/python3.10/site-packages/emcee/ensemble.py\", line 624, in __call__\n",
      "    return self.f(x, *self.args, **self.kwargs)\n",
      "  File \"/home/ben-work/PycharmProjects/astro-compendium/astro_compendium/utils/custom_math.py\", line 92, in trap_weight\n",
      "    integral = np.add.reduce(sub_integral * weight, axis)\n",
      "  File \"/tmp/ipykernel_436/1752279991.py\", line 8, in lnprob\n",
      "    return lnlike(params) + lp\n",
      "  File \"/tmp/ipykernel_436/1752279991.py\", line 8, in lnprob\n",
      "    return lnlike(params) + lp\n",
      "  File \"/home/ben-work/.conda/envs/astro/lib/python3.10/site-packages/emcee/ensemble.py\", line 624, in __call__\n",
      "    return self.f(x, *self.args, **self.kwargs)\n",
      "  File \"/tmp/ipykernel_436/1996192625.py\", line 27, in lnlike\n",
      "    ln_like_func = np.sum(np.log(ni * ri * mu_agn)) - trap_weight(nall * 2 * np.pi * rall, rall, weight=gpf)\n",
      "  File \"/home/ben-work/.conda/envs/astro/lib/python3.10/site-packages/astropy/units/quantity.py\", line 611, in __array_ufunc__\n",
      "    result = super().__array_ufunc__(function, method, *arrays, **kwargs)\n",
      "  File \"/tmp/ipykernel_436/1752279991.py\", line 8, in lnprob\n",
      "    return lnlike(params) + lp\n",
      "  File \"/tmp/ipykernel_436/1996192625.py\", line 27, in lnlike\n",
      "    ln_like_func = np.sum(np.log(ni * ri * mu_agn)) - trap_weight(nall * 2 * np.pi * rall, rall, weight=gpf)\n",
      "  File \"/tmp/ipykernel_436/1752279991.py\", line 8, in lnprob\n",
      "    return lnlike(params) + lp\n",
      "ValueError: operands could not be broadcast together with shapes (9999,) (4076,) \n",
      "Traceback (most recent call last):\n",
      "  File \"/home/ben-work/PycharmProjects/astro-compendium/astro_compendium/utils/custom_math.py\", line 92, in trap_weight\n",
      "    integral = np.add.reduce(sub_integral * weight, axis)\n",
      "  File \"/tmp/ipykernel_436/1752279991.py\", line 8, in lnprob\n",
      "    return lnlike(params) + lp\n",
      "Traceback (most recent call last):\n",
      "  File \"/home/ben-work/.conda/envs/astro/lib/python3.10/site-packages/astropy/units/quantity.py\", line 611, in __array_ufunc__\n",
      "    result = super().__array_ufunc__(function, method, *arrays, **kwargs)\n",
      "  File \"/tmp/ipykernel_436/1752279991.py\", line 8, in lnprob\n",
      "    return lnlike(params) + lp\n",
      "ValueError: operands could not be broadcast together with shapes (9999,) (4076,) \n",
      "ValueError: operands could not be broadcast together with shapes (9999,) (4076,) \n",
      "  File \"/tmp/ipykernel_436/1996192625.py\", line 27, in lnlike\n",
      "    ln_like_func = np.sum(np.log(ni * ri * mu_agn)) - trap_weight(nall * 2 * np.pi * rall, rall, weight=gpf)\n",
      "  File \"/home/ben-work/PycharmProjects/astro-compendium/astro_compendium/utils/custom_math.py\", line 92, in trap_weight\n",
      "    integral = np.add.reduce(sub_integral * weight, axis)\n",
      "  File \"/tmp/ipykernel_436/1996192625.py\", line 27, in lnlike\n",
      "    ln_like_func = np.sum(np.log(ni * ri * mu_agn)) - trap_weight(nall * 2 * np.pi * rall, rall, weight=gpf)\n",
      "  File \"/tmp/ipykernel_436/1996192625.py\", line 27, in lnlike\n",
      "    ln_like_func = np.sum(np.log(ni * ri * mu_agn)) - trap_weight(nall * 2 * np.pi * rall, rall, weight=gpf)\n",
      "  File \"/home/ben-work/.conda/envs/astro/lib/python3.10/site-packages/emcee/ensemble.py\", line 624, in __call__\n",
      "    return self.f(x, *self.args, **self.kwargs)\n",
      "ValueError: operands could not be broadcast together with shapes (9999,) (4076,) \n",
      "  File \"/tmp/ipykernel_436/1996192625.py\", line 27, in lnlike\n",
      "    ln_like_func = np.sum(np.log(ni * ri * mu_agn)) - trap_weight(nall * 2 * np.pi * rall, rall, weight=gpf)\n",
      "ValueError: operands could not be broadcast together with shapes (9999,) (4076,) \n",
      "  File \"/tmp/ipykernel_436/1996192625.py\", line 27, in lnlike\n",
      "    ln_like_func = np.sum(np.log(ni * ri * mu_agn)) - trap_weight(nall * 2 * np.pi * rall, rall, weight=gpf)\n",
      "  File \"/tmp/ipykernel_436/1996192625.py\", line 27, in lnlike\n",
      "    ln_like_func = np.sum(np.log(ni * ri * mu_agn)) - trap_weight(nall * 2 * np.pi * rall, rall, weight=gpf)\n",
      "  File \"/home/ben-work/PycharmProjects/astro-compendium/astro_compendium/utils/custom_math.py\", line 92, in trap_weight\n",
      "    integral = np.add.reduce(sub_integral * weight, axis)\n",
      "ValueError: operands could not be broadcast together with shapes (9999,) (4076,) \n",
      "  File \"/home/ben-work/PycharmProjects/astro-compendium/astro_compendium/utils/custom_math.py\", line 92, in trap_weight\n",
      "    integral = np.add.reduce(sub_integral * weight, axis)\n",
      "  File \"/tmp/ipykernel_436/1752279991.py\", line 8, in lnprob\n",
      "    return lnlike(params) + lp\n",
      "  File \"/home/ben-work/.conda/envs/astro/lib/python3.10/site-packages/emcee/ensemble.py\", line 624, in __call__\n",
      "    return self.f(x, *self.args, **self.kwargs)\n",
      "  File \"/home/ben-work/PycharmProjects/astro-compendium/astro_compendium/utils/custom_math.py\", line 92, in trap_weight\n",
      "    integral = np.add.reduce(sub_integral * weight, axis)\n",
      "\n",
      "During handling of the above exception, another exception occurred:\n",
      "\n",
      "ValueError: operands could not be broadcast together with shapes (9999,) (4076,) \n",
      "  File \"/home/ben-work/.conda/envs/astro/lib/python3.10/site-packages/astropy/units/quantity.py\", line 611, in __array_ufunc__\n",
      "    result = super().__array_ufunc__(function, method, *arrays, **kwargs)\n",
      "ValueError: operands could not be broadcast together with shapes (9999,) (4076,) \n",
      "ValueError: operands could not be broadcast together with shapes (9999,) (4076,) \n",
      "ValueError: operands could not be broadcast together with shapes (9999,) (4076,) \n",
      "\n",
      "During handling of the above exception, another exception occurred:\n",
      "\n",
      "  File \"/tmp/ipykernel_436/1996192625.py\", line 27, in lnlike\n",
      "    ln_like_func = np.sum(np.log(ni * ri * mu_agn)) - trap_weight(nall * 2 * np.pi * rall, rall, weight=gpf)\n",
      "Traceback (most recent call last):\n",
      "  File \"/home/ben-work/PycharmProjects/astro-compendium/astro_compendium/utils/custom_math.py\", line 92, in trap_weight\n",
      "    integral = np.add.reduce(sub_integral * weight, axis)\n",
      "  File \"/home/ben-work/.conda/envs/astro/lib/python3.10/site-packages/emcee/ensemble.py\", line 624, in __call__\n",
      "    return self.f(x, *self.args, **self.kwargs)\n",
      "ValueError: operands could not be broadcast together with shapes (9999,) (4076,) \n",
      "  File \"/tmp/ipykernel_436/1752279991.py\", line 8, in lnprob\n",
      "    return lnlike(params) + lp\n",
      "  File \"/tmp/ipykernel_436/1996192625.py\", line 27, in lnlike\n",
      "    ln_like_func = np.sum(np.log(ni * ri * mu_agn)) - trap_weight(nall * 2 * np.pi * rall, rall, weight=gpf)\n",
      "  File \"/home/ben-work/PycharmProjects/astro-compendium/astro_compendium/utils/custom_math.py\", line 92, in trap_weight\n",
      "    integral = np.add.reduce(sub_integral * weight, axis)\n",
      "ValueError: operands could not be broadcast together with shapes (9999,) (4076,) \n",
      "  File \"/tmp/ipykernel_436/1752279991.py\", line 8, in lnprob\n",
      "    return lnlike(params) + lp\n",
      "Traceback (most recent call last):\n",
      "ValueError: operands could not be broadcast together with shapes (9999,) (4076,) \n",
      "  File \"/tmp/ipykernel_436/1996192625.py\", line 27, in lnlike\n",
      "    ln_like_func = np.sum(np.log(ni * ri * mu_agn)) - trap_weight(nall * 2 * np.pi * rall, rall, weight=gpf)\n",
      "  File \"/home/ben-work/.conda/envs/astro/lib/python3.10/site-packages/emcee/ensemble.py\", line 624, in __call__\n",
      "    return self.f(x, *self.args, **self.kwargs)\n",
      "  File \"/home/ben-work/PycharmProjects/astro-compendium/astro_compendium/utils/custom_math.py\", line 92, in trap_weight\n",
      "    integral = np.add.reduce(sub_integral * weight, axis)\n",
      "  File \"/tmp/ipykernel_436/1752279991.py\", line 8, in lnprob\n",
      "    return lnlike(params) + lp\n",
      "  File \"/tmp/ipykernel_436/1996192625.py\", line 27, in lnlike\n",
      "    ln_like_func = np.sum(np.log(ni * ri * mu_agn)) - trap_weight(nall * 2 * np.pi * rall, rall, weight=gpf)\n",
      "  File \"/home/ben-work/PycharmProjects/astro-compendium/astro_compendium/utils/custom_math.py\", line 92, in trap_weight\n",
      "    integral = np.add.reduce(sub_integral * weight, axis)\n",
      "  File \"/home/ben-work/PycharmProjects/astro-compendium/astro_compendium/utils/custom_math.py\", line 92, in trap_weight\n",
      "    integral = np.add.reduce(sub_integral * weight, axis)\n",
      "ValueError: operands could not be broadcast together with shapes (9999,) (4076,) \n",
      "ValueError: operands could not be broadcast together with shapes (9999,) (4076,) \n",
      "  File \"/home/ben-work/PycharmProjects/astro-compendium/astro_compendium/utils/custom_math.py\", line 92, in trap_weight\n",
      "    integral = np.add.reduce(sub_integral * weight, axis)\n",
      "ValueError: operands could not be broadcast together with shapes (9999,) (4076,) \n"
     ]
    },
    {
     "name": "stdout",
     "output_type": "stream",
     "text": [
      "emcee: Exception while calling your likelihood function:\n",
      "  params: "
     ]
    },
    {
     "name": "stderr",
     "output_type": "stream",
     "text": [
      "ValueError: operands could not be broadcast together with shapes (9999,) (4076,) \n"
     ]
    },
    {
     "name": "stdout",
     "output_type": "stream",
     "text": [
      "emcee: Exception while calling your likelihood function:emcee: Exception while calling your likelihood function:[ 2.49999831e+02  4.00000900e+00 -1.00013243e+00  9.99925547e-01\n",
      "  9.99608601e-02  7.90465966e+00]emcee: Exception while calling your likelihood function:"
     ]
    },
    {
     "name": "stderr",
     "output_type": "stream",
     "text": [
      "\n",
      "During handling of the above exception, another exception occurred:\n",
      "\n"
     ]
    },
    {
     "name": "stdout",
     "output_type": "stream",
     "text": [
      "\n",
      "\n",
      "emcee: Exception while calling your likelihood function:\n",
      "  params:\n",
      "  params:  args:  params: "
     ]
    },
    {
     "name": "stderr",
     "output_type": "stream",
     "text": [
      "  File \"/home/ben-work/PycharmProjects/astro-compendium/astro_compendium/utils/custom_math.py\", line 92, in trap_weight\n",
      "    integral = np.add.reduce(sub_integral * weight, axis)\n"
     ]
    },
    {
     "name": "stdout",
     "output_type": "stream",
     "text": [
      " emcee: Exception while calling your likelihood function:  emcee: Exception while calling your likelihood function:\n",
      "emcee: Exception while calling your likelihood function:"
     ]
    },
    {
     "name": "stderr",
     "output_type": "stream",
     "text": [
      "ValueError: operands could not be broadcast together with shapes (9999,) (4076,) \n"
     ]
    },
    {
     "name": "stdout",
     "output_type": "stream",
     "text": [
      "[ 2.50000075e+02  3.99993806e+00 -1.00008893e+00  1.00009609e+00\n",
      "  9.99859161e-02  7.90469642e+00]  params:[ 2.49999953e+02  4.00019915e+00 -1.00007294e+00  1.00000060e+00\n",
      "  9.99690915e-02  7.90446000e+00]\n",
      "\n",
      "[] \n",
      "  params:\n",
      "   args:[ 2.49999964e+02  4.00005613e+00 -9.99886473e-01  1.00007815e+00\n",
      "  9.99789631e-02  7.90473159e+00]"
     ]
    },
    {
     "name": "stderr",
     "output_type": "stream",
     "text": [
      "  File \"/tmp/ipykernel_436/1996192625.py\", line 27, in lnlike\n",
      "    ln_like_func = np.sum(np.log(ni * ri * mu_agn)) - trap_weight(nall * 2 * np.pi * rall, rall, weight=gpf)\n"
     ]
    },
    {
     "name": "stdout",
     "output_type": "stream",
     "text": [
      "[ 2.50000005e+02  3.99985230e+00 -1.00010683e+00  9.99836563e-01\n",
      "  1.00047432e-01  7.90451569e+00]   kwargs:"
     ]
    },
    {
     "name": "stderr",
     "output_type": "stream",
     "text": [
      "  File \"/home/ben-work/PycharmProjects/astro-compendium/astro_compendium/utils/custom_math.py\", line 92, in trap_weight\n",
      "    integral = np.add.reduce(sub_integral * weight, axis)\n"
     ]
    },
    {
     "name": "stdout",
     "output_type": "stream",
     "text": [
      "\n",
      "\n",
      "[]emcee: Exception while calling your likelihood function:emcee: Exception while calling your likelihood function:   args:  args: "
     ]
    },
    {
     "name": "stderr",
     "output_type": "stream",
     "text": [
      "Traceback (most recent call last):\n"
     ]
    },
    {
     "name": "stdout",
     "output_type": "stream",
     "text": [
      "\n",
      "\n",
      "[]\n"
     ]
    },
    {
     "name": "stderr",
     "output_type": "stream",
     "text": [
      "ValueError: operands could not be broadcast together with shapes (9999,) (4076,) \n"
     ]
    },
    {
     "name": "stdout",
     "output_type": "stream",
     "text": [
      "  params: {}\n",
      "  params: emcee: Exception while calling your likelihood function:emcee: Exception while calling your likelihood function:   kwargs:\n",
      "[ 2.50000229e+02  3.99991311e+00 -9.99998778e-01  9.99954833e-01\n",
      "  9.99721794e-02  7.90466714e+00]\n",
      "\n",
      "\n",
      "   params:  params:"
     ]
    },
    {
     "name": "stderr",
     "output_type": "stream",
     "text": [
      "  File \"/home/ben-work/.conda/envs/astro/lib/python3.10/site-packages/emcee/ensemble.py\", line 624, in __call__\n",
      "    return self.f(x, *self.args, **self.kwargs)\n"
     ]
    },
    {
     "name": "stdout",
     "output_type": "stream",
     "text": [
      "{}  args:   params:[]\n",
      "  kwargs:\n",
      " \n"
     ]
    },
    {
     "name": "stderr",
     "output_type": "stream",
     "text": [
      "  File \"/tmp/ipykernel_436/1752279991.py\", line 8, in lnprob\n",
      "    return lnlike(params) + lp\n"
     ]
    },
    {
     "name": "stdout",
     "output_type": "stream",
     "text": [
      "    params:  exception:[ 2.50000121e+02  4.00005669e+00 -1.00015127e+00  1.00006812e+00\n",
      "  9.99938967e-02  7.90465153e+00]\n",
      "[]  exception:"
     ]
    },
    {
     "name": "stderr",
     "output_type": "stream",
     "text": [
      "  File \"/tmp/ipykernel_436/1996192625.py\", line 27, in lnlike\n",
      "    ln_like_func = np.sum(np.log(ni * ri * mu_agn)) - trap_weight(nall * 2 * np.pi * rall, rall, weight=gpf)\n"
     ]
    },
    {
     "name": "stdout",
     "output_type": "stream",
     "text": [
      "{} \n",
      "[ 2.49999993e+02  3.99998818e+00 -9.99947032e-01  9.99826279e-01\n",
      "  9.99016688e-02  7.90492217e+00]\n",
      "[ 2.49999896e+02  3.99984145e+00 -1.00015394e+00  9.99927988e-01\n",
      "  1.00116056e-01  7.90453586e+00]\n",
      "[ 2.50000088e+02  4.00006326e+00 -9.99918067e-01  1.00027940e+00\n",
      "  9.99566814e-02  7.90468402e+00]"
     ]
    },
    {
     "name": "stderr",
     "output_type": "stream",
     "text": [
      "  File \"/home/ben-work/PycharmProjects/astro-compendium/astro_compendium/utils/custom_math.py\", line 92, in trap_weight\n",
      "    integral = np.add.reduce(sub_integral * weight, axis)\n"
     ]
    },
    {
     "name": "stdout",
     "output_type": "stream",
     "text": [
      "\n",
      "\n",
      "\n",
      "  kwargs:  kwargs:\n"
     ]
    },
    {
     "name": "stderr",
     "output_type": "stream",
     "text": [
      "ValueError: operands could not be broadcast together with shapes (9999,) (4076,) \n",
      "Traceback (most recent call last):\n",
      "Traceback (most recent call last):\n"
     ]
    },
    {
     "name": "stdout",
     "output_type": "stream",
     "text": [
      "  args:\n",
      "  args:  args:  "
     ]
    },
    {
     "name": "stderr",
     "output_type": "stream",
     "text": [
      "  File \"/home/ben-work/PycharmProjects/astro-compendium/astro_compendium/utils/custom_math.py\", line 83, in trap_weight\n",
      "    integral = np.sum(sub_integral * weight, axis)\n"
     ]
    },
    {
     "name": "stdout",
     "output_type": "stream",
     "text": [
      " "
     ]
    },
    {
     "name": "stderr",
     "output_type": "stream",
     "text": [
      "  File \"/home/ben-work/PycharmProjects/astro-compendium/astro_compendium/utils/custom_math.py\", line 83, in trap_weight\n",
      "    integral = np.sum(sub_integral * weight, axis)\n"
     ]
    },
    {
     "name": "stdout",
     "output_type": "stream",
     "text": [
      "   args:{} emcee: Exception while calling your likelihood function:{}[]"
     ]
    },
    {
     "name": "stderr",
     "output_type": "stream",
     "text": [
      "  File \"/home/ben-work/.conda/envs/astro/lib/python3.10/site-packages/astropy/units/quantity.py\", line 1121, in __mul__\n",
      "    return super().__mul__(other)\n",
      "  File \"/home/ben-work/.conda/envs/astro/lib/python3.10/site-packages/astropy/units/quantity.py\", line 1121, in __mul__\n",
      "    return super().__mul__(other)\n"
     ]
    },
    {
     "name": "stdout",
     "output_type": "stream",
     "text": [
      "[] emcee: Exception while calling your likelihood function:\n",
      "[]\n",
      "\n"
     ]
    },
    {
     "name": "stderr",
     "output_type": "stream",
     "text": [
      "  File \"/home/ben-work/.conda/envs/astro/lib/python3.10/site-packages/astropy/units/quantity.py\", line 611, in __array_ufunc__\n",
      "    result = super().__array_ufunc__(function, method, *arrays, **kwargs)\n"
     ]
    },
    {
     "name": "stdout",
     "output_type": "stream",
     "text": [
      "\n"
     ]
    },
    {
     "name": "stderr",
     "output_type": "stream",
     "text": [
      "  File \"/home/ben-work/.conda/envs/astro/lib/python3.10/site-packages/astropy/units/quantity.py\", line 611, in __array_ufunc__\n",
      "    result = super().__array_ufunc__(function, method, *arrays, **kwargs)\n"
     ]
    },
    {
     "name": "stdout",
     "output_type": "stream",
     "text": [
      "[ 2.50000121e+02  3.99996277e+00 -9.99984321e-01  9.99840980e-01\n",
      "  1.00043707e-01  7.90454969e+00]  params:\n",
      "  kwargs:\n",
      "  exception:  kwargs:[]\n",
      "  exception:"
     ]
    },
    {
     "name": "stderr",
     "output_type": "stream",
     "text": [
      "ValueError: operands could not be broadcast together with shapes (9999,) (4076,) \n"
     ]
    },
    {
     "name": "stdout",
     "output_type": "stream",
     "text": [
      "emcee: Exception while calling your likelihood function:  params:  "
     ]
    },
    {
     "name": "stderr",
     "output_type": "stream",
     "text": [
      "ValueError: operands could not be broadcast together with shapes (9999,) (4076,) \n"
     ]
    },
    {
     "name": "stdout",
     "output_type": "stream",
     "text": [
      "  kwargs:\n",
      "\n",
      "\n",
      "   args: emcee: Exception while calling your likelihood function:"
     ]
    },
    {
     "name": "stderr",
     "output_type": "stream",
     "text": [
      "\n",
      "During handling of the above exception, another exception occurred:\n",
      "\n"
     ]
    },
    {
     "name": "stdout",
     "output_type": "stream",
     "text": [
      "  args:emcee: Exception while calling your likelihood function:\n",
      "   kwargs:"
     ]
    },
    {
     "name": "stderr",
     "output_type": "stream",
     "text": [
      "Traceback (most recent call last):\n",
      "\n",
      "During handling of the above exception, another exception occurred:\n",
      "\n",
      "Traceback (most recent call last):\n"
     ]
    },
    {
     "name": "stdout",
     "output_type": "stream",
     "text": [
      "{} [ 2.49999949e+02  3.99991729e+00 -1.00005611e+00  1.00000840e+00\n",
      "  1.00226565e-01  7.90463734e+00]{}[ 2.50000024e+02  3.99996525e+00 -9.99978882e-01  9.99979164e-01\n",
      "  1.00018169e-01  7.90449542e+00]  params:\n",
      " "
     ]
    },
    {
     "name": "stderr",
     "output_type": "stream",
     "text": [
      "  File \"/home/ben-work/PycharmProjects/astro-compendium/astro_compendium/utils/custom_math.py\", line 83, in trap_weight\n",
      "    integral = np.sum(sub_integral * weight, axis)\n"
     ]
    },
    {
     "name": "stdout",
     "output_type": "stream",
     "text": [
      "[ 2.50000158e+02  3.99996778e+00 -9.99980376e-01  9.99945005e-01\n",
      "  1.00221718e-01  7.90460916e+00]"
     ]
    },
    {
     "name": "stderr",
     "output_type": "stream",
     "text": [
      "  File \"/home/ben-work/PycharmProjects/astro-compendium/astro_compendium/utils/custom_math.py\", line 83, in trap_weight\n",
      "    integral = np.sum(sub_integral * weight, axis)\n"
     ]
    },
    {
     "name": "stdout",
     "output_type": "stream",
     "text": [
      "\n",
      "[]"
     ]
    },
    {
     "name": "stderr",
     "output_type": "stream",
     "text": [
      "Traceback (most recent call last):\n"
     ]
    },
    {
     "name": "stdout",
     "output_type": "stream",
     "text": [
      "\n",
      "\n",
      "\n",
      " {}  params:"
     ]
    },
    {
     "name": "stderr",
     "output_type": "stream",
     "text": [
      "  File \"/home/ben-work/.conda/envs/astro/lib/python3.10/site-packages/astropy/units/quantity.py\", line 1121, in __mul__\n",
      "    return super().__mul__(other)\n"
     ]
    },
    {
     "name": "stdout",
     "output_type": "stream",
     "text": [
      "\n",
      "\n"
     ]
    },
    {
     "name": "stderr",
     "output_type": "stream",
     "text": [
      "  File \"/home/ben-work/.conda/envs/astro/lib/python3.10/site-packages/astropy/units/quantity.py\", line 1121, in __mul__\n",
      "    return super().__mul__(other)\n"
     ]
    },
    {
     "name": "stdout",
     "output_type": "stream",
     "text": [
      "   args:\n",
      "\n",
      "emcee: Exception while calling your likelihood function:"
     ]
    },
    {
     "name": "stderr",
     "output_type": "stream",
     "text": [
      "  File \"/home/ben-work/.conda/envs/astro/lib/python3.10/site-packages/emcee/ensemble.py\", line 624, in __call__\n",
      "    return self.f(x, *self.args, **self.kwargs)\n"
     ]
    },
    {
     "name": "stdout",
     "output_type": "stream",
     "text": [
      "  exception:  args:\n",
      " "
     ]
    },
    {
     "name": "stderr",
     "output_type": "stream",
     "text": [
      "Traceback (most recent call last):\n"
     ]
    },
    {
     "name": "stdout",
     "output_type": "stream",
     "text": [
      "emcee: Exception while calling your likelihood function:[ 2.49999949e+02  4.00012277e+00 -1.00008152e+00  1.00002609e+00\n",
      "  1.00050153e-01  7.90474269e+00]  exception:"
     ]
    },
    {
     "name": "stderr",
     "output_type": "stream",
     "text": [
      "  File \"/home/ben-work/.conda/envs/astro/lib/python3.10/site-packages/astropy/units/quantity.py\", line 611, in __array_ufunc__\n",
      "    result = super().__array_ufunc__(function, method, *arrays, **kwargs)\n"
     ]
    },
    {
     "name": "stdout",
     "output_type": "stream",
     "text": [
      "  exception:  "
     ]
    },
    {
     "name": "stderr",
     "output_type": "stream",
     "text": [
      "  File \"/home/ben-work/.conda/envs/astro/lib/python3.10/site-packages/astropy/units/quantity.py\", line 611, in __array_ufunc__\n",
      "    result = super().__array_ufunc__(function, method, *arrays, **kwargs)\n"
     ]
    },
    {
     "name": "stdout",
     "output_type": "stream",
     "text": [
      "{}  args:\n",
      "  kwargs:"
     ]
    },
    {
     "name": "stderr",
     "output_type": "stream",
     "text": [
      "  File \"/tmp/ipykernel_436/1752279991.py\", line 8, in lnprob\n",
      "    return lnlike(params) + lp\n"
     ]
    },
    {
     "name": "stdout",
     "output_type": "stream",
     "text": [
      "\n",
      " []  exception:\n",
      "\n"
     ]
    },
    {
     "name": "stderr",
     "output_type": "stream",
     "text": [
      "ValueError: operands could not be broadcast together with shapes (9999,) (4076,) \n"
     ]
    },
    {
     "name": "stdout",
     "output_type": "stream",
     "text": [
      "\n",
      "\n"
     ]
    },
    {
     "name": "stderr",
     "output_type": "stream",
     "text": [
      "  File \"/home/ben-work/.conda/envs/astro/lib/python3.10/site-packages/emcee/ensemble.py\", line 624, in __call__\n",
      "    return self.f(x, *self.args, **self.kwargs)\n"
     ]
    },
    {
     "name": "stdout",
     "output_type": "stream",
     "text": [
      "[]"
     ]
    },
    {
     "name": "stderr",
     "output_type": "stream",
     "text": [
      "ValueError: operands could not be broadcast together with shapes (9999,) (4076,) \n"
     ]
    },
    {
     "name": "stdout",
     "output_type": "stream",
     "text": [
      "[ 2.49999999e+02  4.00005897e+00 -1.00007775e+00  1.00013655e+00\n",
      "  1.00060354e-01  7.90467327e+00]\n",
      "  params:  "
     ]
    },
    {
     "name": "stderr",
     "output_type": "stream",
     "text": [
      "  File \"/tmp/ipykernel_436/1996192625.py\", line 27, in lnlike\n",
      "    ln_like_func = np.sum(np.log(ni * ri * mu_agn)) - trap_weight(nall * 2 * np.pi * rall, rall, weight=gpf)\n"
     ]
    },
    {
     "name": "stdout",
     "output_type": "stream",
     "text": [
      "[]\n",
      "  params:  args:"
     ]
    },
    {
     "name": "stderr",
     "output_type": "stream",
     "text": [
      "\n",
      "During handling of the above exception, another exception occurred:\n",
      "\n",
      "Traceback (most recent call last):\n",
      "Traceback (most recent call last):\n"
     ]
    },
    {
     "name": "stdout",
     "output_type": "stream",
     "text": [
      "\n"
     ]
    },
    {
     "name": "stderr",
     "output_type": "stream",
     "text": [
      "Traceback (most recent call last):\n",
      "  File \"/tmp/ipykernel_436/1752279991.py\", line 8, in lnprob\n",
      "    return lnlike(params) + lp\n",
      "\n",
      "During handling of the above exception, another exception occurred:\n",
      "\n"
     ]
    },
    {
     "name": "stdout",
     "output_type": "stream",
     "text": [
      "\n",
      "\n",
      "  exception: {}[]"
     ]
    },
    {
     "name": "stderr",
     "output_type": "stream",
     "text": [
      "  File \"/home/ben-work/PycharmProjects/astro-compendium/astro_compendium/utils/custom_math.py\", line 92, in trap_weight\n",
      "    integral = np.add.reduce(sub_integral * weight, axis)\n"
     ]
    },
    {
     "name": "stdout",
     "output_type": "stream",
     "text": [
      "\n",
      "  kwargs:  "
     ]
    },
    {
     "name": "stderr",
     "output_type": "stream",
     "text": [
      "Traceback (most recent call last):\n",
      "  File \"/home/ben-work/PycharmProjects/astro-compendium/astro_compendium/utils/custom_math.py\", line 83, in trap_weight\n",
      "    integral = np.sum(sub_integral * weight, axis)\n",
      "  File \"/home/ben-work/PycharmProjects/astro-compendium/astro_compendium/utils/custom_math.py\", line 83, in trap_weight\n",
      "    integral = np.sum(sub_integral * weight, axis)\n",
      "  File \"/tmp/ipykernel_436/1996192625.py\", line 27, in lnlike\n",
      "    ln_like_func = np.sum(np.log(ni * ri * mu_agn)) - trap_weight(nall * 2 * np.pi * rall, rall, weight=gpf)\n",
      "Traceback (most recent call last):\n"
     ]
    },
    {
     "name": "stdout",
     "output_type": "stream",
     "text": [
      "  kwargs:"
     ]
    },
    {
     "name": "stderr",
     "output_type": "stream",
     "text": [
      "  File \"/home/ben-work/PycharmProjects/astro-compendium/astro_compendium/utils/custom_math.py\", line 83, in trap_weight\n",
      "    integral = np.sum(sub_integral * weight, axis)\n"
     ]
    },
    {
     "name": "stdout",
     "output_type": "stream",
     "text": [
      "  args:\n"
     ]
    },
    {
     "name": "stderr",
     "output_type": "stream",
     "text": [
      "Traceback (most recent call last):\n"
     ]
    },
    {
     "name": "stdout",
     "output_type": "stream",
     "text": [
      "\n",
      "\n",
      "[ 2.49999853e+02  3.99996679e+00 -9.99968403e-01  9.99912143e-01\n",
      "  9.99167555e-02  7.90475419e+00]"
     ]
    },
    {
     "name": "stderr",
     "output_type": "stream",
     "text": [
      "ValueError: operands could not be broadcast together with shapes (9999,) (4076,) \n"
     ]
    },
    {
     "name": "stdout",
     "output_type": "stream",
     "text": [
      "  kwargs: "
     ]
    },
    {
     "name": "stderr",
     "output_type": "stream",
     "text": [
      "  File \"/home/ben-work/.conda/envs/astro/lib/python3.10/site-packages/emcee/ensemble.py\", line 624, in __call__\n",
      "    return self.f(x, *self.args, **self.kwargs)\n"
     ]
    },
    {
     "name": "stdout",
     "output_type": "stream",
     "text": [
      "[]"
     ]
    },
    {
     "name": "stderr",
     "output_type": "stream",
     "text": [
      "  File \"/home/ben-work/.conda/envs/astro/lib/python3.10/site-packages/astropy/units/quantity.py\", line 1121, in __mul__\n",
      "    return super().__mul__(other)\n"
     ]
    },
    {
     "name": "stdout",
     "output_type": "stream",
     "text": [
      "[ 2.50000012e+02  4.00010886e+00 -1.00007233e+00  1.00001860e+00\n",
      "  1.00212471e-01  7.90459050e+00]"
     ]
    },
    {
     "name": "stderr",
     "output_type": "stream",
     "text": [
      "  File \"/home/ben-work/.conda/envs/astro/lib/python3.10/site-packages/astropy/units/quantity.py\", line 1121, in __mul__\n",
      "    return super().__mul__(other)\n",
      "  File \"/home/ben-work/.conda/envs/astro/lib/python3.10/site-packages/emcee/ensemble.py\", line 624, in __call__\n",
      "    return self.f(x, *self.args, **self.kwargs)\n",
      "  File \"/home/ben-work/PycharmProjects/astro-compendium/astro_compendium/utils/custom_math.py\", line 92, in trap_weight\n",
      "    integral = np.add.reduce(sub_integral * weight, axis)\n",
      "  File \"/home/ben-work/.conda/envs/astro/lib/python3.10/site-packages/astropy/units/quantity.py\", line 1121, in __mul__\n",
      "    return super().__mul__(other)\n"
     ]
    },
    {
     "name": "stdout",
     "output_type": "stream",
     "text": [
      " "
     ]
    },
    {
     "name": "stderr",
     "output_type": "stream",
     "text": [
      "  File \"/home/ben-work/PycharmProjects/astro-compendium/astro_compendium/utils/custom_math.py\", line 83, in trap_weight\n",
      "    integral = np.sum(sub_integral * weight, axis)\n",
      "Traceback (most recent call last):\n"
     ]
    },
    {
     "name": "stdout",
     "output_type": "stream",
     "text": [
      "   exception:  kwargs:  params: {}"
     ]
    },
    {
     "name": "stderr",
     "output_type": "stream",
     "text": [
      "  File \"/tmp/ipykernel_436/1752279991.py\", line 8, in lnprob\n",
      "    return lnlike(params) + lp\n"
     ]
    },
    {
     "name": "stdout",
     "output_type": "stream",
     "text": [
      "\n"
     ]
    },
    {
     "name": "stderr",
     "output_type": "stream",
     "text": [
      "  File \"/home/ben-work/.conda/envs/astro/lib/python3.10/site-packages/astropy/units/quantity.py\", line 611, in __array_ufunc__\n",
      "    result = super().__array_ufunc__(function, method, *arrays, **kwargs)\n"
     ]
    },
    {
     "name": "stdout",
     "output_type": "stream",
     "text": [
      "\n"
     ]
    },
    {
     "name": "stderr",
     "output_type": "stream",
     "text": [
      "  File \"/home/ben-work/.conda/envs/astro/lib/python3.10/site-packages/astropy/units/quantity.py\", line 611, in __array_ufunc__\n",
      "    result = super().__array_ufunc__(function, method, *arrays, **kwargs)\n",
      "  File \"/tmp/ipykernel_436/1752279991.py\", line 8, in lnprob\n",
      "    return lnlike(params) + lp\n",
      "  File \"/home/ben-work/.conda/envs/astro/lib/python3.10/site-packages/astropy/units/quantity.py\", line 611, in __array_ufunc__\n",
      "    result = super().__array_ufunc__(function, method, *arrays, **kwargs)\n",
      "  File \"/home/ben-work/.conda/envs/astro/lib/python3.10/site-packages/astropy/units/quantity.py\", line 1121, in __mul__\n",
      "    return super().__mul__(other)\n"
     ]
    },
    {
     "name": "stdout",
     "output_type": "stream",
     "text": [
      "{}"
     ]
    },
    {
     "name": "stderr",
     "output_type": "stream",
     "text": [
      "  File \"/home/ben-work/PycharmProjects/astro-compendium/astro_compendium/utils/custom_math.py\", line 83, in trap_weight\n",
      "    integral = np.sum(sub_integral * weight, axis)\n"
     ]
    },
    {
     "name": "stdout",
     "output_type": "stream",
     "text": [
      "\n",
      "emcee: Exception while calling your likelihood function: [] "
     ]
    },
    {
     "name": "stderr",
     "output_type": "stream",
     "text": [
      "ValueError: operands could not be broadcast together with shapes (9999,) (4076,) \n"
     ]
    },
    {
     "name": "stdout",
     "output_type": "stream",
     "text": [
      "\n",
      "\n",
      "{}"
     ]
    },
    {
     "name": "stderr",
     "output_type": "stream",
     "text": [
      "  File \"/tmp/ipykernel_436/1996192625.py\", line 27, in lnlike\n",
      "    ln_like_func = np.sum(np.log(ni * ri * mu_agn)) - trap_weight(nall * 2 * np.pi * rall, rall, weight=gpf)\n"
     ]
    },
    {
     "name": "stdout",
     "output_type": "stream",
     "text": [
      "  kwargs:"
     ]
    },
    {
     "name": "stderr",
     "output_type": "stream",
     "text": [
      "ValueError: operands could not be broadcast together with shapes (9999,) (4076,) \n"
     ]
    },
    {
     "name": "stdout",
     "output_type": "stream",
     "text": [
      "  args:"
     ]
    },
    {
     "name": "stderr",
     "output_type": "stream",
     "text": [
      "  File \"/tmp/ipykernel_436/1996192625.py\", line 27, in lnlike\n",
      "    ln_like_func = np.sum(np.log(ni * ri * mu_agn)) - trap_weight(nall * 2 * np.pi * rall, rall, weight=gpf)\n",
      "ValueError: operands could not be broadcast together with shapes (9999,) (4076,) \n"
     ]
    },
    {
     "name": "stdout",
     "output_type": "stream",
     "text": [
      "\n"
     ]
    },
    {
     "name": "stderr",
     "output_type": "stream",
     "text": [
      "  File \"/home/ben-work/.conda/envs/astro/lib/python3.10/site-packages/astropy/units/quantity.py\", line 611, in __array_ufunc__\n",
      "    result = super().__array_ufunc__(function, method, *arrays, **kwargs)\n",
      "  File \"/home/ben-work/.conda/envs/astro/lib/python3.10/site-packages/astropy/units/quantity.py\", line 1121, in __mul__\n",
      "    return super().__mul__(other)\n"
     ]
    },
    {
     "name": "stdout",
     "output_type": "stream",
     "text": [
      "\n",
      "\n"
     ]
    },
    {
     "name": "stderr",
     "output_type": "stream",
     "text": [
      "Traceback (most recent call last):\n"
     ]
    },
    {
     "name": "stdout",
     "output_type": "stream",
     "text": [
      "{}[ 2.49999992e+02  4.00010331e+00 -1.00004899e+00  9.99938816e-01\n",
      "  9.99544428e-02  7.90463616e+00]  exception:  args:\n"
     ]
    },
    {
     "name": "stderr",
     "output_type": "stream",
     "text": [
      "ValueError: operands could not be broadcast together with shapes (9999,) (4076,) \n",
      "  File \"/home/ben-work/PycharmProjects/astro-compendium/astro_compendium/utils/custom_math.py\", line 92, in trap_weight\n",
      "    integral = np.add.reduce(sub_integral * weight, axis)\n",
      "\n",
      "During handling of the above exception, another exception occurred:\n",
      "\n"
     ]
    },
    {
     "name": "stdout",
     "output_type": "stream",
     "text": [
      "  "
     ]
    },
    {
     "name": "stderr",
     "output_type": "stream",
     "text": [
      "  File \"/home/ben-work/PycharmProjects/astro-compendium/astro_compendium/utils/custom_math.py\", line 92, in trap_weight\n",
      "    integral = np.add.reduce(sub_integral * weight, axis)\n",
      "\n",
      "During handling of the above exception, another exception occurred:\n",
      "\n"
     ]
    },
    {
     "name": "stdout",
     "output_type": "stream",
     "text": [
      "  exception:  kwargs:"
     ]
    },
    {
     "name": "stderr",
     "output_type": "stream",
     "text": [
      "ValueError: operands could not be broadcast together with shapes (9999,) (4076,) \n"
     ]
    },
    {
     "name": "stdout",
     "output_type": "stream",
     "text": [
      "  params:\n",
      "\n",
      "\n"
     ]
    },
    {
     "name": "stderr",
     "output_type": "stream",
     "text": [
      "  File \"/home/ben-work/.conda/envs/astro/lib/python3.10/site-packages/astropy/units/quantity.py\", line 611, in __array_ufunc__\n",
      "    result = super().__array_ufunc__(function, method, *arrays, **kwargs)\n"
     ]
    },
    {
     "name": "stdout",
     "output_type": "stream",
     "text": [
      "   exception:"
     ]
    },
    {
     "name": "stderr",
     "output_type": "stream",
     "text": [
      "  File \"/home/ben-work/PycharmProjects/astro-compendium/astro_compendium/utils/custom_math.py\", line 83, in trap_weight\n",
      "    integral = np.sum(sub_integral * weight, axis)\n",
      "\n",
      "During handling of the above exception, another exception occurred:\n",
      "\n",
      "ValueError: operands could not be broadcast together with shapes (9999,) (4076,) \n",
      "ValueError: operands could not be broadcast together with shapes (9999,) (4076,) \n"
     ]
    },
    {
     "name": "stdout",
     "output_type": "stream",
     "text": [
      "{}\n"
     ]
    },
    {
     "name": "stderr",
     "output_type": "stream",
     "text": [
      "Traceback (most recent call last):\n"
     ]
    },
    {
     "name": "stdout",
     "output_type": "stream",
     "text": [
      "  args:  exception:"
     ]
    },
    {
     "name": "stderr",
     "output_type": "stream",
     "text": [
      "Traceback (most recent call last):\n"
     ]
    },
    {
     "name": "stdout",
     "output_type": "stream",
     "text": [
      "[]\n",
      " []"
     ]
    },
    {
     "name": "stderr",
     "output_type": "stream",
     "text": [
      "ValueError: operands could not be broadcast together with shapes (9999,) (4076,) \n",
      "  File \"/home/ben-work/.conda/envs/astro/lib/python3.10/site-packages/astropy/units/quantity.py\", line 1121, in __mul__\n",
      "    return super().__mul__(other)\n",
      "  File \"/home/ben-work/.conda/envs/astro/lib/python3.10/site-packages/emcee/ensemble.py\", line 624, in __call__\n",
      "    return self.f(x, *self.args, **self.kwargs)\n"
     ]
    },
    {
     "name": "stdout",
     "output_type": "stream",
     "text": [
      " \n"
     ]
    },
    {
     "name": "stderr",
     "output_type": "stream",
     "text": [
      "\n",
      "During handling of the above exception, another exception occurred:\n",
      "\n",
      "  File \"/home/ben-work/PycharmProjects/astro-compendium/astro_compendium/utils/custom_math.py\", line 83, in trap_weight\n",
      "    integral = np.sum(sub_integral * weight, axis)\n",
      "Traceback (most recent call last):\n",
      "Traceback (most recent call last):\n"
     ]
    },
    {
     "name": "stdout",
     "output_type": "stream",
     "text": [
      "\n",
      "\n"
     ]
    },
    {
     "name": "stderr",
     "output_type": "stream",
     "text": [
      "Traceback (most recent call last):\n"
     ]
    },
    {
     "name": "stdout",
     "output_type": "stream",
     "text": [
      "\n"
     ]
    },
    {
     "name": "stderr",
     "output_type": "stream",
     "text": [
      "Traceback (most recent call last):\n",
      "\n",
      "During handling of the above exception, another exception occurred:\n",
      "\n",
      "  File \"/home/ben-work/.conda/envs/astro/lib/python3.10/site-packages/astropy/units/quantity.py\", line 611, in __array_ufunc__\n",
      "    result = super().__array_ufunc__(function, method, *arrays, **kwargs)\n"
     ]
    },
    {
     "name": "stdout",
     "output_type": "stream",
     "text": [
      "[]"
     ]
    },
    {
     "name": "stderr",
     "output_type": "stream",
     "text": [
      "  File \"/tmp/ipykernel_436/1752279991.py\", line 8, in lnprob\n",
      "    return lnlike(params) + lp\n"
     ]
    },
    {
     "name": "stdout",
     "output_type": "stream",
     "text": [
      "  exception:{}"
     ]
    },
    {
     "name": "stderr",
     "output_type": "stream",
     "text": [
      "Traceback (most recent call last):\n",
      "  File \"/home/ben-work/.conda/envs/astro/lib/python3.10/site-packages/astropy/units/quantity.py\", line 1121, in __mul__\n",
      "    return super().__mul__(other)\n",
      "  File \"/home/ben-work/.conda/envs/astro/lib/python3.10/site-packages/emcee/ensemble.py\", line 624, in __call__\n",
      "    return self.f(x, *self.args, **self.kwargs)\n",
      "Traceback (most recent call last):\n",
      "  File \"/home/ben-work/.conda/envs/astro/lib/python3.10/site-packages/emcee/ensemble.py\", line 624, in __call__\n",
      "    return self.f(x, *self.args, **self.kwargs)\n",
      "  File \"/home/ben-work/PycharmProjects/astro-compendium/astro_compendium/utils/custom_math.py\", line 83, in trap_weight\n",
      "    integral = np.sum(sub_integral * weight, axis)\n",
      "Traceback (most recent call last):\n"
     ]
    },
    {
     "name": "stdout",
     "output_type": "stream",
     "text": [
      "  kwargs:"
     ]
    },
    {
     "name": "stderr",
     "output_type": "stream",
     "text": [
      "ValueError: operands could not be broadcast together with shapes (9999,) (4076,) \n",
      "  File \"/home/ben-work/PycharmProjects/astro-compendium/astro_compendium/utils/custom_math.py\", line 83, in trap_weight\n",
      "    integral = np.sum(sub_integral * weight, axis)\n"
     ]
    },
    {
     "name": "stdout",
     "output_type": "stream",
     "text": [
      "\n",
      "\n"
     ]
    },
    {
     "name": "stderr",
     "output_type": "stream",
     "text": [
      "  File \"/tmp/ipykernel_436/1752279991.py\", line 8, in lnprob\n",
      "    return lnlike(params) + lp\n",
      "  File \"/tmp/ipykernel_436/1996192625.py\", line 27, in lnlike\n",
      "    ln_like_func = np.sum(np.log(ni * ri * mu_agn)) - trap_weight(nall * 2 * np.pi * rall, rall, weight=gpf)\n",
      "  File \"/home/ben-work/PycharmProjects/astro-compendium/astro_compendium/utils/custom_math.py\", line 83, in trap_weight\n",
      "    integral = np.sum(sub_integral * weight, axis)\n",
      "  File \"/home/ben-work/.conda/envs/astro/lib/python3.10/site-packages/astropy/units/quantity.py\", line 611, in __array_ufunc__\n",
      "    result = super().__array_ufunc__(function, method, *arrays, **kwargs)\n",
      "  File \"/home/ben-work/.conda/envs/astro/lib/python3.10/site-packages/emcee/ensemble.py\", line 624, in __call__\n",
      "    return self.f(x, *self.args, **self.kwargs)\n"
     ]
    },
    {
     "name": "stdout",
     "output_type": "stream",
     "text": [
      "  kwargs:\n"
     ]
    },
    {
     "name": "stderr",
     "output_type": "stream",
     "text": [
      "  File \"/tmp/ipykernel_436/1752279991.py\", line 8, in lnprob\n",
      "    return lnlike(params) + lp\n",
      "  File \"/home/ben-work/.conda/envs/astro/lib/python3.10/site-packages/emcee/ensemble.py\", line 624, in __call__\n",
      "    return self.f(x, *self.args, **self.kwargs)\n"
     ]
    },
    {
     "name": "stdout",
     "output_type": "stream",
     "text": [
      " "
     ]
    },
    {
     "name": "stderr",
     "output_type": "stream",
     "text": [
      "  File \"/home/ben-work/.conda/envs/astro/lib/python3.10/site-packages/astropy/units/quantity.py\", line 1121, in __mul__\n",
      "    return super().__mul__(other)\n",
      "  File \"/home/ben-work/.conda/envs/astro/lib/python3.10/site-packages/astropy/units/quantity.py\", line 1121, in __mul__\n",
      "    return super().__mul__(other)\n",
      "  File \"/home/ben-work/PycharmProjects/astro-compendium/astro_compendium/utils/custom_math.py\", line 92, in trap_weight\n",
      "    integral = np.add.reduce(sub_integral * weight, axis)\n",
      "  File \"/tmp/ipykernel_436/1996192625.py\", line 27, in lnlike\n",
      "    ln_like_func = np.sum(np.log(ni * ri * mu_agn)) - trap_weight(nall * 2 * np.pi * rall, rall, weight=gpf)\n",
      "  File \"/home/ben-work/.conda/envs/astro/lib/python3.10/site-packages/astropy/units/quantity.py\", line 1121, in __mul__\n",
      "    return super().__mul__(other)\n",
      "\n",
      "During handling of the above exception, another exception occurred:\n",
      "\n",
      "Traceback (most recent call last):\n"
     ]
    },
    {
     "name": "stdout",
     "output_type": "stream",
     "text": [
      "  exception:"
     ]
    },
    {
     "name": "stderr",
     "output_type": "stream",
     "text": [
      "ValueError: operands could not be broadcast together with shapes (9999,) (4076,) \n",
      "  File \"/tmp/ipykernel_436/1752279991.py\", line 8, in lnprob\n",
      "    return lnlike(params) + lp\n"
     ]
    },
    {
     "name": "stdout",
     "output_type": "stream",
     "text": [
      " "
     ]
    },
    {
     "name": "stderr",
     "output_type": "stream",
     "text": [
      "  File \"/tmp/ipykernel_436/1996192625.py\", line 27, in lnlike\n",
      "    ln_like_func = np.sum(np.log(ni * ri * mu_agn)) - trap_weight(nall * 2 * np.pi * rall, rall, weight=gpf)\n",
      "  File \"/tmp/ipykernel_436/1752279991.py\", line 8, in lnprob\n",
      "    return lnlike(params) + lp\n"
     ]
    },
    {
     "name": "stdout",
     "output_type": "stream",
     "text": [
      "{}"
     ]
    },
    {
     "name": "stderr",
     "output_type": "stream",
     "text": [
      "  File \"/home/ben-work/.conda/envs/astro/lib/python3.10/site-packages/astropy/units/quantity.py\", line 611, in __array_ufunc__\n",
      "    result = super().__array_ufunc__(function, method, *arrays, **kwargs)\n",
      "ValueError: operands could not be broadcast together with shapes (9999,) (4076,) \n",
      "  File \"/home/ben-work/PycharmProjects/astro-compendium/astro_compendium/utils/custom_math.py\", line 92, in trap_weight\n",
      "    integral = np.add.reduce(sub_integral * weight, axis)\n",
      "  File \"/home/ben-work/.conda/envs/astro/lib/python3.10/site-packages/astropy/units/quantity.py\", line 611, in __array_ufunc__\n",
      "    result = super().__array_ufunc__(function, method, *arrays, **kwargs)\n",
      "  File \"/home/ben-work/.conda/envs/astro/lib/python3.10/site-packages/astropy/units/quantity.py\", line 611, in __array_ufunc__\n",
      "    result = super().__array_ufunc__(function, method, *arrays, **kwargs)\n",
      "  File \"/home/ben-work/PycharmProjects/astro-compendium/astro_compendium/utils/custom_math.py\", line 83, in trap_weight\n",
      "    integral = np.sum(sub_integral * weight, axis)\n"
     ]
    },
    {
     "name": "stdout",
     "output_type": "stream",
     "text": [
      "\n"
     ]
    },
    {
     "name": "stderr",
     "output_type": "stream",
     "text": [
      "\n",
      "During handling of the above exception, another exception occurred:\n",
      "\n",
      "  File \"/tmp/ipykernel_436/1996192625.py\", line 27, in lnlike\n",
      "    ln_like_func = np.sum(np.log(ni * ri * mu_agn)) - trap_weight(nall * 2 * np.pi * rall, rall, weight=gpf)\n"
     ]
    },
    {
     "name": "stdout",
     "output_type": "stream",
     "text": [
      "{}  kwargs:"
     ]
    },
    {
     "name": "stderr",
     "output_type": "stream",
     "text": [
      "  File \"/tmp/ipykernel_436/1996192625.py\", line 27, in lnlike\n",
      "    ln_like_func = np.sum(np.log(ni * ri * mu_agn)) - trap_weight(nall * 2 * np.pi * rall, rall, weight=gpf)\n",
      "  File \"/home/ben-work/PycharmProjects/astro-compendium/astro_compendium/utils/custom_math.py\", line 92, in trap_weight\n",
      "    integral = np.add.reduce(sub_integral * weight, axis)\n",
      "ValueError: operands could not be broadcast together with shapes (9999,) (4076,) \n"
     ]
    },
    {
     "name": "stdout",
     "output_type": "stream",
     "text": [
      "\n"
     ]
    },
    {
     "name": "stderr",
     "output_type": "stream",
     "text": [
      "Traceback (most recent call last):\n",
      "ValueError: operands could not be broadcast together with shapes (9999,) (4076,) \n",
      "ValueError: operands could not be broadcast together with shapes (9999,) (4076,) \n",
      "ValueError: operands could not be broadcast together with shapes (9999,) (4076,) \n",
      "Traceback (most recent call last):\n"
     ]
    },
    {
     "name": "stdout",
     "output_type": "stream",
     "text": [
      "\n"
     ]
    },
    {
     "name": "stderr",
     "output_type": "stream",
     "text": [
      "  File \"/home/ben-work/PycharmProjects/astro-compendium/astro_compendium/utils/custom_math.py\", line 92, in trap_weight\n",
      "    integral = np.add.reduce(sub_integral * weight, axis)\n",
      "Traceback (most recent call last):\n"
     ]
    },
    {
     "name": "stdout",
     "output_type": "stream",
     "text": [
      " "
     ]
    },
    {
     "name": "stderr",
     "output_type": "stream",
     "text": [
      "  File \"/home/ben-work/PycharmProjects/astro-compendium/astro_compendium/utils/custom_math.py\", line 92, in trap_weight\n",
      "    integral = np.add.reduce(sub_integral * weight, axis)\n",
      "ValueError: operands could not be broadcast together with shapes (9999,) (4076,) \n"
     ]
    },
    {
     "name": "stdout",
     "output_type": "stream",
     "text": [
      "emcee: Exception while calling your likelihood function:  exception:"
     ]
    },
    {
     "name": "stderr",
     "output_type": "stream",
     "text": [
      "\n",
      "During handling of the above exception, another exception occurred:\n",
      "\n",
      "\n",
      "During handling of the above exception, another exception occurred:\n",
      "\n",
      "\n",
      "During handling of the above exception, another exception occurred:\n",
      "\n",
      "  File \"/home/ben-work/.conda/envs/astro/lib/python3.10/site-packages/emcee/ensemble.py\", line 624, in __call__\n",
      "    return self.f(x, *self.args, **self.kwargs)\n"
     ]
    },
    {
     "name": "stdout",
     "output_type": "stream",
     "text": [
      "  exception:"
     ]
    },
    {
     "name": "stderr",
     "output_type": "stream",
     "text": [
      "  File \"/home/ben-work/PycharmProjects/astro-compendium/astro_compendium/utils/custom_math.py\", line 83, in trap_weight\n",
      "    integral = np.sum(sub_integral * weight, axis)\n"
     ]
    },
    {
     "name": "stdout",
     "output_type": "stream",
     "text": [
      "{}\n"
     ]
    },
    {
     "name": "stderr",
     "output_type": "stream",
     "text": [
      "Traceback (most recent call last):\n",
      "Traceback (most recent call last):\n",
      "ValueError: operands could not be broadcast together with shapes (9999,) (4076,) \n"
     ]
    },
    {
     "name": "stdout",
     "output_type": "stream",
     "text": [
      "emcee: Exception while calling your likelihood function:"
     ]
    },
    {
     "name": "stderr",
     "output_type": "stream",
     "text": [
      "Traceback (most recent call last):\n",
      "  File \"/tmp/ipykernel_436/1752279991.py\", line 8, in lnprob\n",
      "    return lnlike(params) + lp\n",
      "ValueError: operands could not be broadcast together with shapes (9999,) (4076,) \n"
     ]
    },
    {
     "name": "stdout",
     "output_type": "stream",
     "text": [
      " "
     ]
    },
    {
     "name": "stderr",
     "output_type": "stream",
     "text": [
      "  File \"/home/ben-work/.conda/envs/astro/lib/python3.10/site-packages/emcee/ensemble.py\", line 624, in __call__\n",
      "    return self.f(x, *self.args, **self.kwargs)\n"
     ]
    },
    {
     "name": "stdout",
     "output_type": "stream",
     "text": [
      "\n",
      "  params:\n"
     ]
    },
    {
     "name": "stderr",
     "output_type": "stream",
     "text": [
      "  File \"/home/ben-work/.conda/envs/astro/lib/python3.10/site-packages/emcee/ensemble.py\", line 624, in __call__\n",
      "    return self.f(x, *self.args, **self.kwargs)\n",
      "  File \"/home/ben-work/.conda/envs/astro/lib/python3.10/site-packages/emcee/ensemble.py\", line 624, in __call__\n",
      "    return self.f(x, *self.args, **self.kwargs)\n",
      "  File \"/tmp/ipykernel_436/1996192625.py\", line 27, in lnlike\n",
      "    ln_like_func = np.sum(np.log(ni * ri * mu_agn)) - trap_weight(nall * 2 * np.pi * rall, rall, weight=gpf)\n"
     ]
    },
    {
     "name": "stdout",
     "output_type": "stream",
     "text": [
      "  exception: "
     ]
    },
    {
     "name": "stderr",
     "output_type": "stream",
     "text": [
      "  File \"/tmp/ipykernel_436/1752279991.py\", line 8, in lnprob\n",
      "    return lnlike(params) + lp\n"
     ]
    },
    {
     "name": "stdout",
     "output_type": "stream",
     "text": [
      "[ 2.49999948e+02  4.00025229e+00 -9.99927048e-01  1.00014655e+00\n",
      "  1.00134987e-01  7.90470596e+00]"
     ]
    },
    {
     "name": "stderr",
     "output_type": "stream",
     "text": [
      "  File \"/tmp/ipykernel_436/1752279991.py\", line 8, in lnprob\n",
      "    return lnlike(params) + lp\n",
      "  File \"/home/ben-work/.conda/envs/astro/lib/python3.10/site-packages/astropy/units/quantity.py\", line 1121, in __mul__\n",
      "    return super().__mul__(other)\n",
      "  File \"/home/ben-work/PycharmProjects/astro-compendium/astro_compendium/utils/custom_math.py\", line 92, in trap_weight\n",
      "    integral = np.add.reduce(sub_integral * weight, axis)\n",
      "  File \"/tmp/ipykernel_436/1996192625.py\", line 27, in lnlike\n",
      "    ln_like_func = np.sum(np.log(ni * ri * mu_agn)) - trap_weight(nall * 2 * np.pi * rall, rall, weight=gpf)\n",
      "  File \"/tmp/ipykernel_436/1752279991.py\", line 8, in lnprob\n",
      "    return lnlike(params) + lp\n",
      "  File \"/tmp/ipykernel_436/1996192625.py\", line 27, in lnlike\n",
      "    ln_like_func = np.sum(np.log(ni * ri * mu_agn)) - trap_weight(nall * 2 * np.pi * rall, rall, weight=gpf)\n"
     ]
    },
    {
     "name": "stdout",
     "output_type": "stream",
     "text": [
      "[ 2.50000147e+02  3.99989732e+00 -9.99929240e-01  9.99973926e-01\n",
      "  1.00042778e-01  7.90476664e+00]"
     ]
    },
    {
     "name": "stderr",
     "output_type": "stream",
     "text": [
      "Traceback (most recent call last):\n",
      "  File \"/home/ben-work/PycharmProjects/astro-compendium/astro_compendium/utils/custom_math.py\", line 92, in trap_weight\n",
      "    integral = np.add.reduce(sub_integral * weight, axis)\n",
      "  File \"/home/ben-work/.conda/envs/astro/lib/python3.10/site-packages/astropy/units/quantity.py\", line 611, in __array_ufunc__\n",
      "    result = super().__array_ufunc__(function, method, *arrays, **kwargs)\n",
      "  File \"/home/ben-work/PycharmProjects/astro-compendium/astro_compendium/utils/custom_math.py\", line 92, in trap_weight\n",
      "    integral = np.add.reduce(sub_integral * weight, axis)\n"
     ]
    },
    {
     "name": "stdout",
     "output_type": "stream",
     "text": [
      "\n"
     ]
    },
    {
     "name": "stderr",
     "output_type": "stream",
     "text": [
      "ValueError: operands could not be broadcast together with shapes (9999,) (4076,) \n",
      "  File \"/tmp/ipykernel_436/1996192625.py\", line 27, in lnlike\n",
      "    ln_like_func = np.sum(np.log(ni * ri * mu_agn)) - trap_weight(nall * 2 * np.pi * rall, rall, weight=gpf)\n",
      "  File \"/home/ben-work/PycharmProjects/astro-compendium/astro_compendium/utils/custom_math.py\", line 83, in trap_weight\n",
      "    integral = np.sum(sub_integral * weight, axis)\n",
      "ValueError: operands could not be broadcast together with shapes (9999,) (4076,) \n"
     ]
    },
    {
     "name": "stdout",
     "output_type": "stream",
     "text": [
      "  args:"
     ]
    },
    {
     "name": "stderr",
     "output_type": "stream",
     "text": [
      "  File \"/home/ben-work/PycharmProjects/astro-compendium/astro_compendium/utils/custom_math.py\", line 92, in trap_weight\n",
      "    integral = np.add.reduce(sub_integral * weight, axis)\n",
      "ValueError: operands could not be broadcast together with shapes (9999,) (4076,) \n",
      "  File \"/home/ben-work/.conda/envs/astro/lib/python3.10/site-packages/astropy/units/quantity.py\", line 1121, in __mul__\n",
      "    return super().__mul__(other)\n"
     ]
    },
    {
     "name": "stdout",
     "output_type": "stream",
     "text": [
      " "
     ]
    },
    {
     "name": "stderr",
     "output_type": "stream",
     "text": [
      "\n",
      "During handling of the above exception, another exception occurred:\n",
      "\n",
      "ValueError: operands could not be broadcast together with shapes (9999,) (4076,) \n"
     ]
    },
    {
     "name": "stdout",
     "output_type": "stream",
     "text": [
      "\n"
     ]
    },
    {
     "name": "stderr",
     "output_type": "stream",
     "text": [
      "Traceback (most recent call last):\n",
      "  File \"/home/ben-work/.conda/envs/astro/lib/python3.10/site-packages/astropy/units/quantity.py\", line 611, in __array_ufunc__\n",
      "    result = super().__array_ufunc__(function, method, *arrays, **kwargs)\n"
     ]
    },
    {
     "name": "stdout",
     "output_type": "stream",
     "text": [
      "[]  args:"
     ]
    },
    {
     "name": "stderr",
     "output_type": "stream",
     "text": [
      "  File \"/home/ben-work/.conda/envs/astro/lib/python3.10/site-packages/emcee/ensemble.py\", line 624, in __call__\n",
      "    return self.f(x, *self.args, **self.kwargs)\n",
      "ValueError: operands could not be broadcast together with shapes (9999,) (4076,) \n"
     ]
    },
    {
     "name": "stdout",
     "output_type": "stream",
     "text": [
      "\n"
     ]
    },
    {
     "name": "stderr",
     "output_type": "stream",
     "text": [
      "  File \"/tmp/ipykernel_436/1752279991.py\", line 8, in lnprob\n",
      "    return lnlike(params) + lp\n",
      "\n",
      "During handling of the above exception, another exception occurred:\n",
      "\n"
     ]
    },
    {
     "name": "stdout",
     "output_type": "stream",
     "text": [
      " "
     ]
    },
    {
     "name": "stderr",
     "output_type": "stream",
     "text": [
      "  File \"/tmp/ipykernel_436/1996192625.py\", line 27, in lnlike\n",
      "    ln_like_func = np.sum(np.log(ni * ri * mu_agn)) - trap_weight(nall * 2 * np.pi * rall, rall, weight=gpf)\n"
     ]
    },
    {
     "name": "stdout",
     "output_type": "stream",
     "text": [
      "[]"
     ]
    },
    {
     "name": "stderr",
     "output_type": "stream",
     "text": [
      "Traceback (most recent call last):\n",
      "  File \"/home/ben-work/PycharmProjects/astro-compendium/astro_compendium/utils/custom_math.py\", line 92, in trap_weight\n",
      "    integral = np.add.reduce(sub_integral * weight, axis)\n",
      "  File \"/home/ben-work/.conda/envs/astro/lib/python3.10/site-packages/emcee/ensemble.py\", line 624, in __call__\n",
      "    return self.f(x, *self.args, **self.kwargs)\n"
     ]
    },
    {
     "name": "stdout",
     "output_type": "stream",
     "text": [
      "emcee: Exception while calling your likelihood function:\n",
      "emcee: Exception while calling your likelihood function:"
     ]
    },
    {
     "name": "stderr",
     "output_type": "stream",
     "text": [
      "ValueError: operands could not be broadcast together with shapes (9999,) (4076,) \n",
      "  File \"/home/ben-work/.conda/envs/astro/lib/python3.10/site-packages/emcee/ensemble.py\", line 624, in __call__\n",
      "    return self.f(x, *self.args, **self.kwargs)\n",
      "  File \"/home/ben-work/.conda/envs/astro/lib/python3.10/site-packages/astropy/units/quantity.py\", line 1121, in __mul__\n",
      "    return super().__mul__(other)\n"
     ]
    },
    {
     "name": "stdout",
     "output_type": "stream",
     "text": [
      "  kwargs:\n",
      "\n"
     ]
    },
    {
     "name": "stderr",
     "output_type": "stream",
     "text": [
      "  File \"/tmp/ipykernel_436/1752279991.py\", line 8, in lnprob\n",
      "    return lnlike(params) + lp\n",
      "ValueError: operands could not be broadcast together with shapes (9999,) (4076,) \n"
     ]
    },
    {
     "name": "stdout",
     "output_type": "stream",
     "text": [
      "  kwargs:\n",
      "emcee: Exception while calling your likelihood function:emcee: Exception while calling your likelihood function: "
     ]
    },
    {
     "name": "stderr",
     "output_type": "stream",
     "text": [
      "Traceback (most recent call last):\n",
      "  File \"/tmp/ipykernel_436/1752279991.py\", line 8, in lnprob\n",
      "    return lnlike(params) + lp\n"
     ]
    },
    {
     "name": "stdout",
     "output_type": "stream",
     "text": [
      "   params:{}\n"
     ]
    },
    {
     "name": "stderr",
     "output_type": "stream",
     "text": [
      "  File \"/home/ben-work/PycharmProjects/astro-compendium/astro_compendium/utils/custom_math.py\", line 83, in trap_weight\n",
      "    integral = np.sum(sub_integral * weight, axis)\n"
     ]
    },
    {
     "name": "stdout",
     "output_type": "stream",
     "text": [
      " "
     ]
    },
    {
     "name": "stderr",
     "output_type": "stream",
     "text": [
      "  File \"/tmp/ipykernel_436/1996192625.py\", line 27, in lnlike\n",
      "    ln_like_func = np.sum(np.log(ni * ri * mu_agn)) - trap_weight(nall * 2 * np.pi * rall, rall, weight=gpf)\n"
     ]
    },
    {
     "name": "stdout",
     "output_type": "stream",
     "text": [
      "  params:"
     ]
    },
    {
     "name": "stderr",
     "output_type": "stream",
     "text": [
      "  File \"/home/ben-work/.conda/envs/astro/lib/python3.10/site-packages/astropy/units/quantity.py\", line 611, in __array_ufunc__\n",
      "    result = super().__array_ufunc__(function, method, *arrays, **kwargs)\n"
     ]
    },
    {
     "name": "stdout",
     "output_type": "stream",
     "text": [
      "\n"
     ]
    },
    {
     "name": "stderr",
     "output_type": "stream",
     "text": [
      "  File \"/home/ben-work/.conda/envs/astro/lib/python3.10/site-packages/astropy/units/quantity.py\", line 1121, in __mul__\n",
      "    return super().__mul__(other)\n"
     ]
    },
    {
     "name": "stdout",
     "output_type": "stream",
     "text": [
      "emcee: Exception while calling your likelihood function:"
     ]
    },
    {
     "name": "stderr",
     "output_type": "stream",
     "text": [
      "  File \"/home/ben-work/PycharmProjects/astro-compendium/astro_compendium/utils/custom_math.py\", line 92, in trap_weight\n",
      "    integral = np.add.reduce(sub_integral * weight, axis)\n"
     ]
    },
    {
     "name": "stdout",
     "output_type": "stream",
     "text": [
      "   exception:[ 2.50000122e+02  3.99999674e+00 -1.00000325e+00  9.99934836e-01\n",
      "  9.99304472e-02  7.90471934e+00]\n"
     ]
    },
    {
     "name": "stderr",
     "output_type": "stream",
     "text": [
      "ValueError: operands could not be broadcast together with shapes (9999,) (4076,) \n",
      "ValueError: operands could not be broadcast together with shapes (9999,) (4076,) \n",
      "  File \"/tmp/ipykernel_436/1996192625.py\", line 27, in lnlike\n",
      "    ln_like_func = np.sum(np.log(ni * ri * mu_agn)) - trap_weight(nall * 2 * np.pi * rall, rall, weight=gpf)\n"
     ]
    },
    {
     "name": "stdout",
     "output_type": "stream",
     "text": [
      "\n",
      "  params:emcee: Exception while calling your likelihood function:"
     ]
    },
    {
     "name": "stderr",
     "output_type": "stream",
     "text": [
      "\n",
      "During handling of the above exception, another exception occurred:\n",
      "\n"
     ]
    },
    {
     "name": "stdout",
     "output_type": "stream",
     "text": [
      "[ 2.49999970e+02  4.00006483e+00 -9.99906092e-01  9.99854299e-01\n",
      "  9.99904042e-02  7.90476331e+00]\n",
      "emcee: Exception while calling your likelihood function:\n"
     ]
    },
    {
     "name": "stderr",
     "output_type": "stream",
     "text": [
      "Traceback (most recent call last):\n"
     ]
    },
    {
     "name": "stdout",
     "output_type": "stream",
     "text": [
      "\n",
      "   params:\n"
     ]
    },
    {
     "name": "stderr",
     "output_type": "stream",
     "text": [
      "Traceback (most recent call last):\n",
      "  File \"/home/ben-work/.conda/envs/astro/lib/python3.10/site-packages/emcee/ensemble.py\", line 624, in __call__\n",
      "    return self.f(x, *self.args, **self.kwargs)\n"
     ]
    },
    {
     "name": "stdout",
     "output_type": "stream",
     "text": [
      " "
     ]
    },
    {
     "name": "stderr",
     "output_type": "stream",
     "text": [
      "Traceback (most recent call last):\n"
     ]
    },
    {
     "name": "stdout",
     "output_type": "stream",
     "text": [
      "  params:"
     ]
    },
    {
     "name": "stderr",
     "output_type": "stream",
     "text": [
      "  File \"/home/ben-work/PycharmProjects/astro-compendium/astro_compendium/utils/custom_math.py\", line 83, in trap_weight\n",
      "    integral = np.sum(sub_integral * weight, axis)\n"
     ]
    },
    {
     "name": "stdout",
     "output_type": "stream",
     "text": [
      "[ 2.50000044e+02  4.00026372e+00 -1.00002895e+00  1.00008657e+00\n",
      "  1.00032689e-01  7.90463163e+00]"
     ]
    },
    {
     "name": "stderr",
     "output_type": "stream",
     "text": [
      "  File \"/tmp/ipykernel_436/1752279991.py\", line 8, in lnprob\n",
      "    return lnlike(params) + lp\n",
      "  File \"/home/ben-work/PycharmProjects/astro-compendium/astro_compendium/utils/custom_math.py\", line 83, in trap_weight\n",
      "    integral = np.sum(sub_integral * weight, axis)\n"
     ]
    },
    {
     "name": "stdout",
     "output_type": "stream",
     "text": [
      "[ 2.49999862e+02  3.99995646e+00 -9.99986567e-01  1.00010318e+00\n",
      "  1.00058423e-01  7.90456449e+00]"
     ]
    },
    {
     "name": "stderr",
     "output_type": "stream",
     "text": [
      "  File \"/home/ben-work/.conda/envs/astro/lib/python3.10/site-packages/astropy/units/quantity.py\", line 1121, in __mul__\n",
      "    return super().__mul__(other)\n"
     ]
    },
    {
     "name": "stdout",
     "output_type": "stream",
     "text": [
      " \n",
      "{}\n",
      "emcee: Exception while calling your likelihood function:  params:"
     ]
    },
    {
     "name": "stderr",
     "output_type": "stream",
     "text": [
      "  File \"/home/ben-work/.conda/envs/astro/lib/python3.10/site-packages/astropy/units/quantity.py\", line 1121, in __mul__\n",
      "    return super().__mul__(other)\n"
     ]
    },
    {
     "name": "stdout",
     "output_type": "stream",
     "text": [
      "\n",
      "\n"
     ]
    },
    {
     "name": "stderr",
     "output_type": "stream",
     "text": [
      "  File \"/home/ben-work/.conda/envs/astro/lib/python3.10/site-packages/astropy/units/quantity.py\", line 611, in __array_ufunc__\n",
      "    result = super().__array_ufunc__(function, method, *arrays, **kwargs)\n"
     ]
    },
    {
     "name": "stdout",
     "output_type": "stream",
     "text": [
      "  args:\n",
      "  args:"
     ]
    },
    {
     "name": "stderr",
     "output_type": "stream",
     "text": [
      "  File \"/home/ben-work/.conda/envs/astro/lib/python3.10/site-packages/astropy/units/quantity.py\", line 611, in __array_ufunc__\n",
      "    result = super().__array_ufunc__(function, method, *arrays, **kwargs)\n"
     ]
    },
    {
     "name": "stdout",
     "output_type": "stream",
     "text": [
      "  args:"
     ]
    },
    {
     "name": "stderr",
     "output_type": "stream",
     "text": [
      "  File \"/tmp/ipykernel_436/1996192625.py\", line 27, in lnlike\n",
      "    ln_like_func = np.sum(np.log(ni * ri * mu_agn)) - trap_weight(nall * 2 * np.pi * rall, rall, weight=gpf)\n"
     ]
    },
    {
     "name": "stdout",
     "output_type": "stream",
     "text": [
      "\n",
      " [ 2.50000008e+02  3.99985656e+00 -9.99869111e-01  9.99910154e-01\n",
      "  9.98896811e-02  7.90445359e+00]"
     ]
    },
    {
     "name": "stderr",
     "output_type": "stream",
     "text": [
      "  File \"/home/ben-work/.conda/envs/astro/lib/python3.10/site-packages/astropy/units/quantity.py\", line 611, in __array_ufunc__\n",
      "    result = super().__array_ufunc__(function, method, *arrays, **kwargs)\n",
      "ValueError: operands could not be broadcast together with shapes (9999,) (4076,) \n"
     ]
    },
    {
     "name": "stdout",
     "output_type": "stream",
     "text": [
      "  params:   args:"
     ]
    },
    {
     "name": "stderr",
     "output_type": "stream",
     "text": [
      "  File \"/home/ben-work/PycharmProjects/astro-compendium/astro_compendium/utils/custom_math.py\", line 92, in trap_weight\n",
      "    integral = np.add.reduce(sub_integral * weight, axis)\n"
     ]
    },
    {
     "name": "stdout",
     "output_type": "stream",
     "text": [
      "    exception:  params:"
     ]
    },
    {
     "name": "stderr",
     "output_type": "stream",
     "text": [
      "\n",
      "During handling of the above exception, another exception occurred:\n",
      "\n",
      "ValueError: operands could not be broadcast together with shapes (9999,) (4076,) \n"
     ]
    },
    {
     "name": "stdout",
     "output_type": "stream",
     "text": [
      "[ 2.49999931e+02  3.99985825e+00 -9.99883018e-01  1.00008314e+00\n",
      "  1.00151216e-01  7.90463663e+00][][] "
     ]
    },
    {
     "name": "stderr",
     "output_type": "stream",
     "text": [
      "ValueError: operands could not be broadcast together with shapes (9999,) (4076,) \n",
      "ValueError: operands could not be broadcast together with shapes (9999,) (4076,) \n"
     ]
    },
    {
     "name": "stdout",
     "output_type": "stream",
     "text": [
      "\n",
      "\n",
      "[] "
     ]
    },
    {
     "name": "stderr",
     "output_type": "stream",
     "text": [
      "Traceback (most recent call last):\n"
     ]
    },
    {
     "name": "stdout",
     "output_type": "stream",
     "text": [
      "\n"
     ]
    },
    {
     "name": "stderr",
     "output_type": "stream",
     "text": [
      "\n",
      "During handling of the above exception, another exception occurred:\n",
      "\n",
      "  File \"/home/ben-work/PycharmProjects/astro-compendium/astro_compendium/utils/custom_math.py\", line 92, in trap_weight\n",
      "    integral = np.add.reduce(sub_integral * weight, axis)\n"
     ]
    },
    {
     "name": "stdout",
     "output_type": "stream",
     "text": [
      "\n",
      "\n"
     ]
    },
    {
     "name": "stderr",
     "output_type": "stream",
     "text": [
      "\n",
      "During handling of the above exception, another exception occurred:\n",
      "\n"
     ]
    },
    {
     "name": "stdout",
     "output_type": "stream",
     "text": [
      "  params:[]\n"
     ]
    },
    {
     "name": "stderr",
     "output_type": "stream",
     "text": [
      "Traceback (most recent call last):\n"
     ]
    },
    {
     "name": "stdout",
     "output_type": "stream",
     "text": [
      "\n"
     ]
    },
    {
     "name": "stderr",
     "output_type": "stream",
     "text": [
      "  File \"/home/ben-work/.conda/envs/astro/lib/python3.10/site-packages/emcee/ensemble.py\", line 624, in __call__\n",
      "    return self.f(x, *self.args, **self.kwargs)\n"
     ]
    },
    {
     "name": "stdout",
     "output_type": "stream",
     "text": [
      "  args:"
     ]
    },
    {
     "name": "stderr",
     "output_type": "stream",
     "text": [
      "Traceback (most recent call last):\n"
     ]
    },
    {
     "name": "stdout",
     "output_type": "stream",
     "text": [
      "[ 2.49999822e+02  4.00001267e+00 -1.00014959e+00  9.99900007e-01\n",
      "  1.00056071e-01  7.90465089e+00]"
     ]
    },
    {
     "name": "stderr",
     "output_type": "stream",
     "text": [
      "ValueError: operands could not be broadcast together with shapes (9999,) (4076,) \n"
     ]
    },
    {
     "name": "stdout",
     "output_type": "stream",
     "text": [
      "  args:   kwargs:"
     ]
    },
    {
     "name": "stderr",
     "output_type": "stream",
     "text": [
      "Traceback (most recent call last):\n"
     ]
    },
    {
     "name": "stdout",
     "output_type": "stream",
     "text": [
      "\n",
      "   kwargs:  kwargs:"
     ]
    },
    {
     "name": "stderr",
     "output_type": "stream",
     "text": [
      "  File \"/home/ben-work/PycharmProjects/astro-compendium/astro_compendium/utils/custom_math.py\", line 83, in trap_weight\n",
      "    integral = np.sum(sub_integral * weight, axis)\n",
      "  File \"/tmp/ipykernel_436/1752279991.py\", line 8, in lnprob\n",
      "    return lnlike(params) + lp\n"
     ]
    },
    {
     "name": "stdout",
     "output_type": "stream",
     "text": [
      " "
     ]
    },
    {
     "name": "stderr",
     "output_type": "stream",
     "text": [
      "  File \"/home/ben-work/.conda/envs/astro/lib/python3.10/site-packages/emcee/ensemble.py\", line 624, in __call__\n",
      "    return self.f(x, *self.args, **self.kwargs)\n"
     ]
    },
    {
     "name": "stdout",
     "output_type": "stream",
     "text": [
      " \n",
      " "
     ]
    },
    {
     "name": "stderr",
     "output_type": "stream",
     "text": [
      "  File \"/home/ben-work/.conda/envs/astro/lib/python3.10/site-packages/emcee/ensemble.py\", line 624, in __call__\n",
      "    return self.f(x, *self.args, **self.kwargs)\n"
     ]
    },
    {
     "name": "stdout",
     "output_type": "stream",
     "text": [
      "  kwargs:[ 2.49999925e+02  4.00022011e+00 -1.00011025e+00  1.00001287e+00\n",
      "  9.99702534e-02  7.90462810e+00]"
     ]
    },
    {
     "name": "stderr",
     "output_type": "stream",
     "text": [
      "  File \"/tmp/ipykernel_436/1996192625.py\", line 27, in lnlike\n",
      "    ln_like_func = np.sum(np.log(ni * ri * mu_agn)) - trap_weight(nall * 2 * np.pi * rall, rall, weight=gpf)\n"
     ]
    },
    {
     "name": "stdout",
     "output_type": "stream",
     "text": [
      " [ 2.50000026e+02  3.99994526e+00 -9.99979977e-01  9.99960277e-01\n",
      "  9.98970714e-02  7.90470622e+00][]"
     ]
    },
    {
     "name": "stderr",
     "output_type": "stream",
     "text": [
      "  File \"/tmp/ipykernel_436/1752279991.py\", line 8, in lnprob\n",
      "    return lnlike(params) + lp\n"
     ]
    },
    {
     "name": "stdout",
     "output_type": "stream",
     "text": [
      " []"
     ]
    },
    {
     "name": "stderr",
     "output_type": "stream",
     "text": [
      "  File \"/home/ben-work/.conda/envs/astro/lib/python3.10/site-packages/astropy/units/quantity.py\", line 1121, in __mul__\n",
      "    return super().__mul__(other)\n"
     ]
    },
    {
     "name": "stdout",
     "output_type": "stream",
     "text": [
      "  args:{}"
     ]
    },
    {
     "name": "stderr",
     "output_type": "stream",
     "text": [
      "  File \"/tmp/ipykernel_436/1752279991.py\", line 8, in lnprob\n",
      "    return lnlike(params) + lp\n"
     ]
    },
    {
     "name": "stdout",
     "output_type": "stream",
     "text": [
      " \n"
     ]
    },
    {
     "name": "stderr",
     "output_type": "stream",
     "text": [
      "  File \"/home/ben-work/PycharmProjects/astro-compendium/astro_compendium/utils/custom_math.py\", line 92, in trap_weight\n",
      "    integral = np.add.reduce(sub_integral * weight, axis)\n"
     ]
    },
    {
     "name": "stdout",
     "output_type": "stream",
     "text": [
      "{}\n",
      "\n"
     ]
    },
    {
     "name": "stderr",
     "output_type": "stream",
     "text": [
      "  File \"/tmp/ipykernel_436/1996192625.py\", line 27, in lnlike\n",
      "    ln_like_func = np.sum(np.log(ni * ri * mu_agn)) - trap_weight(nall * 2 * np.pi * rall, rall, weight=gpf)\n"
     ]
    },
    {
     "name": "stdout",
     "output_type": "stream",
     "text": [
      "{}\n"
     ]
    },
    {
     "name": "stderr",
     "output_type": "stream",
     "text": [
      "  File \"/home/ben-work/.conda/envs/astro/lib/python3.10/site-packages/astropy/units/quantity.py\", line 611, in __array_ufunc__\n",
      "    result = super().__array_ufunc__(function, method, *arrays, **kwargs)\n"
     ]
    },
    {
     "name": "stdout",
     "output_type": "stream",
     "text": [
      " \n"
     ]
    },
    {
     "name": "stderr",
     "output_type": "stream",
     "text": [
      "  File \"/tmp/ipykernel_436/1996192625.py\", line 27, in lnlike\n",
      "    ln_like_func = np.sum(np.log(ni * ri * mu_agn)) - trap_weight(nall * 2 * np.pi * rall, rall, weight=gpf)\n"
     ]
    },
    {
     "name": "stdout",
     "output_type": "stream",
     "text": [
      "{}  args:\n"
     ]
    },
    {
     "name": "stderr",
     "output_type": "stream",
     "text": [
      "ValueError: operands could not be broadcast together with shapes (9999,) (4076,) \n"
     ]
    },
    {
     "name": "stdout",
     "output_type": "stream",
     "text": [
      "  args:  kwargs:\n",
      "  kwargs:[]  exception:"
     ]
    },
    {
     "name": "stderr",
     "output_type": "stream",
     "text": [
      "  File \"/home/ben-work/PycharmProjects/astro-compendium/astro_compendium/utils/custom_math.py\", line 92, in trap_weight\n",
      "    integral = np.add.reduce(sub_integral * weight, axis)\n",
      "  File \"/home/ben-work/PycharmProjects/astro-compendium/astro_compendium/utils/custom_math.py\", line 92, in trap_weight\n",
      "    integral = np.add.reduce(sub_integral * weight, axis)\n",
      "ValueError: operands could not be broadcast together with shapes (9999,) (4076,) \n"
     ]
    },
    {
     "name": "stdout",
     "output_type": "stream",
     "text": [
      "\n",
      "    exception:   exception: \n",
      "\n"
     ]
    },
    {
     "name": "stderr",
     "output_type": "stream",
     "text": [
      "ValueError: operands could not be broadcast together with shapes (9999,) (4076,) \n",
      "\n",
      "During handling of the above exception, another exception occurred:\n",
      "\n",
      "ValueError: operands could not be broadcast together with shapes (9999,) (4076,) \n"
     ]
    },
    {
     "name": "stdout",
     "output_type": "stream",
     "text": [
      "  exception:[][]\n",
      "{}  kwargs:\n",
      "{}"
     ]
    },
    {
     "name": "stderr",
     "output_type": "stream",
     "text": [
      "Traceback (most recent call last):\n",
      "Traceback (most recent call last):\n"
     ]
    },
    {
     "name": "stdout",
     "output_type": "stream",
     "text": [
      "\n",
      "\n",
      "\n",
      "\n",
      " "
     ]
    },
    {
     "name": "stderr",
     "output_type": "stream",
     "text": [
      "Traceback (most recent call last):\n"
     ]
    },
    {
     "name": "stdout",
     "output_type": "stream",
     "text": [
      "\n"
     ]
    },
    {
     "name": "stderr",
     "output_type": "stream",
     "text": [
      "Traceback (most recent call last):\n",
      "  File \"/home/ben-work/PycharmProjects/astro-compendium/astro_compendium/utils/custom_math.py\", line 83, in trap_weight\n",
      "    integral = np.sum(sub_integral * weight, axis)\n"
     ]
    },
    {
     "name": "stdout",
     "output_type": "stream",
     "text": [
      "  kwargs:"
     ]
    },
    {
     "name": "stderr",
     "output_type": "stream",
     "text": [
      "  File \"/home/ben-work/.conda/envs/astro/lib/python3.10/site-packages/emcee/ensemble.py\", line 624, in __call__\n",
      "    return self.f(x, *self.args, **self.kwargs)\n"
     ]
    },
    {
     "name": "stdout",
     "output_type": "stream",
     "text": [
      "  kwargs:  exception:"
     ]
    },
    {
     "name": "stderr",
     "output_type": "stream",
     "text": [
      "  File \"/home/ben-work/PycharmProjects/astro-compendium/astro_compendium/utils/custom_math.py\", line 83, in trap_weight\n",
      "    integral = np.sum(sub_integral * weight, axis)\n"
     ]
    },
    {
     "name": "stdout",
     "output_type": "stream",
     "text": [
      "{}  exception:"
     ]
    },
    {
     "name": "stderr",
     "output_type": "stream",
     "text": [
      "Traceback (most recent call last):\n",
      "  File \"/home/ben-work/PycharmProjects/astro-compendium/astro_compendium/utils/custom_math.py\", line 83, in trap_weight\n",
      "    integral = np.sum(sub_integral * weight, axis)\n",
      "  File \"/home/ben-work/.conda/envs/astro/lib/python3.10/site-packages/astropy/units/quantity.py\", line 1121, in __mul__\n",
      "    return super().__mul__(other)\n",
      "  File \"/tmp/ipykernel_436/1752279991.py\", line 8, in lnprob\n",
      "    return lnlike(params) + lp\n"
     ]
    },
    {
     "name": "stdout",
     "output_type": "stream",
     "text": [
      " \n",
      " "
     ]
    },
    {
     "name": "stderr",
     "output_type": "stream",
     "text": [
      "  File \"/home/ben-work/.conda/envs/astro/lib/python3.10/site-packages/astropy/units/quantity.py\", line 1121, in __mul__\n",
      "    return super().__mul__(other)\n"
     ]
    },
    {
     "name": "stdout",
     "output_type": "stream",
     "text": [
      "\n",
      "\n"
     ]
    },
    {
     "name": "stderr",
     "output_type": "stream",
     "text": [
      "  File \"/home/ben-work/.conda/envs/astro/lib/python3.10/site-packages/astropy/units/quantity.py\", line 1121, in __mul__\n",
      "    return super().__mul__(other)\n",
      "  File \"/home/ben-work/PycharmProjects/astro-compendium/astro_compendium/utils/custom_math.py\", line 83, in trap_weight\n",
      "    integral = np.sum(sub_integral * weight, axis)\n",
      "  File \"/home/ben-work/.conda/envs/astro/lib/python3.10/site-packages/astropy/units/quantity.py\", line 611, in __array_ufunc__\n",
      "    result = super().__array_ufunc__(function, method, *arrays, **kwargs)\n"
     ]
    },
    {
     "name": "stdout",
     "output_type": "stream",
     "text": [
      "{}"
     ]
    },
    {
     "name": "stderr",
     "output_type": "stream",
     "text": [
      "Traceback (most recent call last):\n",
      "  File \"/tmp/ipykernel_436/1996192625.py\", line 27, in lnlike\n",
      "    ln_like_func = np.sum(np.log(ni * ri * mu_agn)) - trap_weight(nall * 2 * np.pi * rall, rall, weight=gpf)\n"
     ]
    },
    {
     "name": "stdout",
     "output_type": "stream",
     "text": [
      "{}"
     ]
    },
    {
     "name": "stderr",
     "output_type": "stream",
     "text": [
      "  File \"/home/ben-work/.conda/envs/astro/lib/python3.10/site-packages/astropy/units/quantity.py\", line 611, in __array_ufunc__\n",
      "    result = super().__array_ufunc__(function, method, *arrays, **kwargs)\n"
     ]
    },
    {
     "name": "stdout",
     "output_type": "stream",
     "text": [
      "  exception:"
     ]
    },
    {
     "name": "stderr",
     "output_type": "stream",
     "text": [
      "  File \"/home/ben-work/.conda/envs/astro/lib/python3.10/site-packages/astropy/units/quantity.py\", line 611, in __array_ufunc__\n",
      "    result = super().__array_ufunc__(function, method, *arrays, **kwargs)\n",
      "Traceback (most recent call last):\n",
      "  File \"/home/ben-work/.conda/envs/astro/lib/python3.10/site-packages/astropy/units/quantity.py\", line 1121, in __mul__\n",
      "    return super().__mul__(other)\n"
     ]
    },
    {
     "name": "stdout",
     "output_type": "stream",
     "text": [
      "\n"
     ]
    },
    {
     "name": "stderr",
     "output_type": "stream",
     "text": [
      "  File \"/home/ben-work/PycharmProjects/astro-compendium/astro_compendium/utils/custom_math.py\", line 83, in trap_weight\n",
      "    integral = np.sum(sub_integral * weight, axis)\n",
      "ValueError: operands could not be broadcast together with shapes (9999,) (4076,) \n",
      "  File \"/home/ben-work/PycharmProjects/astro-compendium/astro_compendium/utils/custom_math.py\", line 92, in trap_weight\n",
      "    integral = np.add.reduce(sub_integral * weight, axis)\n"
     ]
    },
    {
     "name": "stdout",
     "output_type": "stream",
     "text": [
      "\n"
     ]
    },
    {
     "name": "stderr",
     "output_type": "stream",
     "text": [
      "ValueError: operands could not be broadcast together with shapes (9999,) (4076,) \n",
      "ValueError: operands could not be broadcast together with shapes (9999,) (4076,) \n",
      "  File \"/home/ben-work/PycharmProjects/astro-compendium/astro_compendium/utils/custom_math.py\", line 83, in trap_weight\n",
      "    integral = np.sum(sub_integral * weight, axis)\n"
     ]
    },
    {
     "name": "stdout",
     "output_type": "stream",
     "text": [
      "\n",
      "  exception:"
     ]
    },
    {
     "name": "stderr",
     "output_type": "stream",
     "text": [
      "  File \"/home/ben-work/.conda/envs/astro/lib/python3.10/site-packages/astropy/units/quantity.py\", line 611, in __array_ufunc__\n",
      "    result = super().__array_ufunc__(function, method, *arrays, **kwargs)\n",
      "\n",
      "During handling of the above exception, another exception occurred:\n",
      "\n",
      "  File \"/home/ben-work/.conda/envs/astro/lib/python3.10/site-packages/astropy/units/quantity.py\", line 1121, in __mul__\n",
      "    return super().__mul__(other)\n",
      "\n",
      "During handling of the above exception, another exception occurred:\n",
      "\n",
      "\n",
      "During handling of the above exception, another exception occurred:\n",
      "\n"
     ]
    },
    {
     "name": "stdout",
     "output_type": "stream",
     "text": [
      "  exception:\n"
     ]
    },
    {
     "name": "stderr",
     "output_type": "stream",
     "text": [
      "ValueError: operands could not be broadcast together with shapes (9999,) (4076,) \n",
      "Traceback (most recent call last):\n",
      "ValueError: operands could not be broadcast together with shapes (9999,) (4076,) \n",
      "  File \"/home/ben-work/.conda/envs/astro/lib/python3.10/site-packages/astropy/units/quantity.py\", line 1121, in __mul__\n",
      "    return super().__mul__(other)\n",
      "Traceback (most recent call last):\n",
      "  File \"/home/ben-work/.conda/envs/astro/lib/python3.10/site-packages/astropy/units/quantity.py\", line 611, in __array_ufunc__\n",
      "    result = super().__array_ufunc__(function, method, *arrays, **kwargs)\n",
      "Traceback (most recent call last):\n",
      "Traceback (most recent call last):\n"
     ]
    },
    {
     "name": "stdout",
     "output_type": "stream",
     "text": [
      "\n"
     ]
    },
    {
     "name": "stderr",
     "output_type": "stream",
     "text": [
      "\n",
      "During handling of the above exception, another exception occurred:\n",
      "\n",
      "  File \"/home/ben-work/PycharmProjects/astro-compendium/astro_compendium/utils/custom_math.py\", line 83, in trap_weight\n",
      "    integral = np.sum(sub_integral * weight, axis)\n",
      "  File \"/home/ben-work/.conda/envs/astro/lib/python3.10/site-packages/astropy/units/quantity.py\", line 611, in __array_ufunc__\n",
      "    result = super().__array_ufunc__(function, method, *arrays, **kwargs)\n",
      "  File \"/home/ben-work/.conda/envs/astro/lib/python3.10/site-packages/emcee/ensemble.py\", line 624, in __call__\n",
      "    return self.f(x, *self.args, **self.kwargs)\n",
      "  File \"/home/ben-work/.conda/envs/astro/lib/python3.10/site-packages/emcee/ensemble.py\", line 624, in __call__\n",
      "    return self.f(x, *self.args, **self.kwargs)\n",
      "ValueError: operands could not be broadcast together with shapes (9999,) (4076,) \n",
      "Traceback (most recent call last):\n",
      "Traceback (most recent call last):\n",
      "  File \"/home/ben-work/PycharmProjects/astro-compendium/astro_compendium/utils/custom_math.py\", line 83, in trap_weight\n",
      "    integral = np.sum(sub_integral * weight, axis)\n",
      "  File \"/home/ben-work/.conda/envs/astro/lib/python3.10/site-packages/astropy/units/quantity.py\", line 1121, in __mul__\n",
      "    return super().__mul__(other)\n",
      "  File \"/tmp/ipykernel_436/1752279991.py\", line 8, in lnprob\n",
      "    return lnlike(params) + lp\n",
      "ValueError: operands could not be broadcast together with shapes (9999,) (4076,) \n",
      "  File \"/tmp/ipykernel_436/1752279991.py\", line 8, in lnprob\n",
      "    return lnlike(params) + lp\n",
      "\n",
      "During handling of the above exception, another exception occurred:\n",
      "\n"
     ]
    },
    {
     "ename": "ValueError",
     "evalue": "operands could not be broadcast together with shapes (9999,) (4076,) ",
     "output_type": "error",
     "traceback": [
      "\u001B[0;31m---------------------------------------------------------------------------\u001B[0m",
      "\u001B[0;31mRemoteTraceback\u001B[0m                           Traceback (most recent call last)",
      "\u001B[0;31mRemoteTraceback\u001B[0m: \n\"\"\"\nTraceback (most recent call last):\n  File \"/home/ben-work/PycharmProjects/astro-compendium/astro_compendium/utils/custom_math.py\", line 83, in trap_weight\n    integral = np.sum(sub_integral * weight, axis)\n  File \"/home/ben-work/.conda/envs/astro/lib/python3.10/site-packages/astropy/units/quantity.py\", line 1121, in __mul__\n    return super().__mul__(other)\n  File \"/home/ben-work/.conda/envs/astro/lib/python3.10/site-packages/astropy/units/quantity.py\", line 611, in __array_ufunc__\n    result = super().__array_ufunc__(function, method, *arrays, **kwargs)\nValueError: operands could not be broadcast together with shapes (9999,) (4076,) \n\nDuring handling of the above exception, another exception occurred:\n\nTraceback (most recent call last):\n  File \"/home/ben-work/.conda/envs/astro/lib/python3.10/multiprocessing/pool.py\", line 125, in worker\n    result = (True, func(*args, **kwds))\n  File \"/home/ben-work/.conda/envs/astro/lib/python3.10/multiprocessing/pool.py\", line 48, in mapstar\n    return list(map(*args))\n  File \"/home/ben-work/.conda/envs/astro/lib/python3.10/site-packages/emcee/ensemble.py\", line 624, in __call__\n    return self.f(x, *self.args, **self.kwargs)\n  File \"/tmp/ipykernel_436/1752279991.py\", line 8, in lnprob\n    return lnlike(params) + lp\n  File \"/tmp/ipykernel_436/1996192625.py\", line 27, in lnlike\n    ln_like_func = np.sum(np.log(ni * ri * mu_agn)) - trap_weight(nall * 2 * np.pi * rall, rall, weight=gpf)\n  File \"/home/ben-work/PycharmProjects/astro-compendium/astro_compendium/utils/custom_math.py\", line 92, in trap_weight\n    integral = np.add.reduce(sub_integral * weight, axis)\nValueError: operands could not be broadcast together with shapes (9999,) (4076,) \n\"\"\"",
      "\nThe above exception was the direct cause of the following exception:\n",
      "\u001B[0;31mValueError\u001B[0m                                Traceback (most recent call last)",
      "Input \u001B[0;32mIn [17]\u001B[0m, in \u001B[0;36m<cell line: 18>\u001B[0;34m()\u001B[0m\n\u001B[1;32m     18\u001B[0m \u001B[38;5;28;01mwith\u001B[39;00m MultiPool() \u001B[38;5;28;01mas\u001B[39;00m pool:\n\u001B[1;32m     19\u001B[0m     sampler \u001B[38;5;241m=\u001B[39m emcee\u001B[38;5;241m.\u001B[39mEnsembleSampler(nwalkers\u001B[38;5;241m=\u001B[39mnwalkers, ndim\u001B[38;5;241m=\u001B[39mndim, log_prob_fn\u001B[38;5;241m=\u001B[39mlnprob, pool\u001B[38;5;241m=\u001B[39mpool, backend\u001B[38;5;241m=\u001B[39mbackend)\n\u001B[0;32m---> 20\u001B[0m     \u001B[43msampler\u001B[49m\u001B[38;5;241;43m.\u001B[39;49m\u001B[43mrun_mcmc\u001B[49m\u001B[43m(\u001B[49m\u001B[43mpos0\u001B[49m\u001B[43m,\u001B[49m\u001B[43m \u001B[49m\u001B[43mnsteps\u001B[49m\u001B[38;5;241;43m=\u001B[39;49m\u001B[43mnsteps\u001B[49m\u001B[43m,\u001B[49m\u001B[43m \u001B[49m\u001B[43mprogress\u001B[49m\u001B[38;5;241;43m=\u001B[39;49m\u001B[38;5;28;43;01mTrue\u001B[39;49;00m\u001B[43m)\u001B[49m\n\u001B[1;32m     22\u001B[0m \u001B[38;5;28;01mtry\u001B[39;00m:\n\u001B[1;32m     23\u001B[0m     \u001B[38;5;28mprint\u001B[39m(\u001B[38;5;124mf\u001B[39m\u001B[38;5;124m'\u001B[39m\u001B[38;5;124mMean autocorrelation time: \u001B[39m\u001B[38;5;132;01m{\u001B[39;00m(mean_tau \u001B[38;5;241m:=\u001B[39m np\u001B[38;5;241m.\u001B[39mmean(sampler\u001B[38;5;241m.\u001B[39mget_autocorr_time()))\u001B[38;5;132;01m:\u001B[39;00m\u001B[38;5;124m.2f\u001B[39m\u001B[38;5;132;01m}\u001B[39;00m\u001B[38;5;124m steps\u001B[39m\u001B[38;5;130;01m\\n\u001B[39;00m\u001B[38;5;124m'\u001B[39m, \u001B[38;5;124mf\u001B[39m\u001B[38;5;124m'\u001B[39m\u001B[38;5;124mMean acceptance fraction: \u001B[39m\u001B[38;5;132;01m{\u001B[39;00mnp\u001B[38;5;241m.\u001B[39mmean(sampler\u001B[38;5;241m.\u001B[39macceptance_fraction)\u001B[38;5;132;01m:\u001B[39;00m\u001B[38;5;124m.3f\u001B[39m\u001B[38;5;132;01m}\u001B[39;00m\u001B[38;5;124m'\u001B[39m)\n",
      "File \u001B[0;32m~/.conda/envs/astro/lib/python3.10/site-packages/emcee/ensemble.py:443\u001B[0m, in \u001B[0;36mEnsembleSampler.run_mcmc\u001B[0;34m(self, initial_state, nsteps, **kwargs)\u001B[0m\n\u001B[1;32m    440\u001B[0m     initial_state \u001B[38;5;241m=\u001B[39m \u001B[38;5;28mself\u001B[39m\u001B[38;5;241m.\u001B[39m_previous_state\n\u001B[1;32m    442\u001B[0m results \u001B[38;5;241m=\u001B[39m \u001B[38;5;28;01mNone\u001B[39;00m\n\u001B[0;32m--> 443\u001B[0m \u001B[38;5;28;01mfor\u001B[39;00m results \u001B[38;5;129;01min\u001B[39;00m \u001B[38;5;28mself\u001B[39m\u001B[38;5;241m.\u001B[39msample(initial_state, iterations\u001B[38;5;241m=\u001B[39mnsteps, \u001B[38;5;241m*\u001B[39m\u001B[38;5;241m*\u001B[39mkwargs):\n\u001B[1;32m    444\u001B[0m     \u001B[38;5;28;01mpass\u001B[39;00m\n\u001B[1;32m    446\u001B[0m \u001B[38;5;66;03m# Store so that the ``initial_state=None`` case will work\u001B[39;00m\n",
      "File \u001B[0;32m~/.conda/envs/astro/lib/python3.10/site-packages/emcee/ensemble.py:344\u001B[0m, in \u001B[0;36mEnsembleSampler.sample\u001B[0;34m(self, initial_state, log_prob0, rstate0, blobs0, iterations, tune, skip_initial_state_check, thin_by, thin, store, progress, progress_kwargs)\u001B[0m\n\u001B[1;32m    342\u001B[0m     state\u001B[38;5;241m.\u001B[39mblobs \u001B[38;5;241m=\u001B[39m blobs0\n\u001B[1;32m    343\u001B[0m \u001B[38;5;28;01mif\u001B[39;00m state\u001B[38;5;241m.\u001B[39mlog_prob \u001B[38;5;129;01mis\u001B[39;00m \u001B[38;5;28;01mNone\u001B[39;00m:\n\u001B[0;32m--> 344\u001B[0m     state\u001B[38;5;241m.\u001B[39mlog_prob, state\u001B[38;5;241m.\u001B[39mblobs \u001B[38;5;241m=\u001B[39m \u001B[38;5;28;43mself\u001B[39;49m\u001B[38;5;241;43m.\u001B[39;49m\u001B[43mcompute_log_prob\u001B[49m\u001B[43m(\u001B[49m\u001B[43mstate\u001B[49m\u001B[38;5;241;43m.\u001B[39;49m\u001B[43mcoords\u001B[49m\u001B[43m)\u001B[49m\n\u001B[1;32m    345\u001B[0m \u001B[38;5;28;01mif\u001B[39;00m np\u001B[38;5;241m.\u001B[39mshape(state\u001B[38;5;241m.\u001B[39mlog_prob) \u001B[38;5;241m!=\u001B[39m (\u001B[38;5;28mself\u001B[39m\u001B[38;5;241m.\u001B[39mnwalkers,):\n\u001B[1;32m    346\u001B[0m     \u001B[38;5;28;01mraise\u001B[39;00m \u001B[38;5;167;01mValueError\u001B[39;00m(\u001B[38;5;124m\"\u001B[39m\u001B[38;5;124mincompatible input dimensions\u001B[39m\u001B[38;5;124m\"\u001B[39m)\n",
      "File \u001B[0;32m~/.conda/envs/astro/lib/python3.10/site-packages/emcee/ensemble.py:489\u001B[0m, in \u001B[0;36mEnsembleSampler.compute_log_prob\u001B[0;34m(self, coords)\u001B[0m\n\u001B[1;32m    487\u001B[0m     \u001B[38;5;28;01melse\u001B[39;00m:\n\u001B[1;32m    488\u001B[0m         map_func \u001B[38;5;241m=\u001B[39m \u001B[38;5;28mmap\u001B[39m\n\u001B[0;32m--> 489\u001B[0m     results \u001B[38;5;241m=\u001B[39m \u001B[38;5;28mlist\u001B[39m(\u001B[43mmap_func\u001B[49m\u001B[43m(\u001B[49m\u001B[38;5;28;43mself\u001B[39;49m\u001B[38;5;241;43m.\u001B[39;49m\u001B[43mlog_prob_fn\u001B[49m\u001B[43m,\u001B[49m\u001B[43m \u001B[49m\u001B[43mp\u001B[49m\u001B[43m)\u001B[49m)\n\u001B[1;32m    491\u001B[0m \u001B[38;5;28;01mtry\u001B[39;00m:\n\u001B[1;32m    492\u001B[0m     log_prob \u001B[38;5;241m=\u001B[39m np\u001B[38;5;241m.\u001B[39marray([\u001B[38;5;28mfloat\u001B[39m(l[\u001B[38;5;241m0\u001B[39m]) \u001B[38;5;28;01mfor\u001B[39;00m l \u001B[38;5;129;01min\u001B[39;00m results])\n",
      "File \u001B[0;32m~/.conda/envs/astro/lib/python3.10/site-packages/schwimmbad/multiprocessing.py:105\u001B[0m, in \u001B[0;36mMultiPool.map\u001B[0;34m(self, func, iterable, chunksize, callback)\u001B[0m\n\u001B[1;32m    103\u001B[0m \u001B[38;5;28;01mwhile\u001B[39;00m \u001B[38;5;28;01mTrue\u001B[39;00m:\n\u001B[1;32m    104\u001B[0m     \u001B[38;5;28;01mtry\u001B[39;00m:\n\u001B[0;32m--> 105\u001B[0m         \u001B[38;5;28;01mreturn\u001B[39;00m \u001B[43mr\u001B[49m\u001B[38;5;241;43m.\u001B[39;49m\u001B[43mget\u001B[49m\u001B[43m(\u001B[49m\u001B[38;5;28;43mself\u001B[39;49m\u001B[38;5;241;43m.\u001B[39;49m\u001B[43mwait_timeout\u001B[49m\u001B[43m)\u001B[49m\n\u001B[1;32m    107\u001B[0m     \u001B[38;5;28;01mexcept\u001B[39;00m multiprocessing\u001B[38;5;241m.\u001B[39mTimeoutError:\n\u001B[1;32m    108\u001B[0m         \u001B[38;5;28;01mpass\u001B[39;00m\n",
      "File \u001B[0;32m~/.conda/envs/astro/lib/python3.10/multiprocessing/pool.py:771\u001B[0m, in \u001B[0;36mApplyResult.get\u001B[0;34m(self, timeout)\u001B[0m\n\u001B[1;32m    769\u001B[0m     \u001B[38;5;28;01mreturn\u001B[39;00m \u001B[38;5;28mself\u001B[39m\u001B[38;5;241m.\u001B[39m_value\n\u001B[1;32m    770\u001B[0m \u001B[38;5;28;01melse\u001B[39;00m:\n\u001B[0;32m--> 771\u001B[0m     \u001B[38;5;28;01mraise\u001B[39;00m \u001B[38;5;28mself\u001B[39m\u001B[38;5;241m.\u001B[39m_value\n",
      "\u001B[0;31mValueError\u001B[0m: operands could not be broadcast together with shapes (9999,) (4076,) "
     ]
    },
    {
     "name": "stderr",
     "output_type": "stream",
     "text": [
      "  File \"/home/ben-work/.conda/envs/astro/lib/python3.10/site-packages/emcee/ensemble.py\", line 624, in __call__\n",
      "    return self.f(x, *self.args, **self.kwargs)\n",
      "  File \"/home/ben-work/PycharmProjects/astro-compendium/astro_compendium/utils/custom_math.py\", line 83, in trap_weight\n",
      "    integral = np.sum(sub_integral * weight, axis)\n",
      "  File \"/home/ben-work/.conda/envs/astro/lib/python3.10/site-packages/astropy/units/quantity.py\", line 1121, in __mul__\n",
      "    return super().__mul__(other)\n",
      "  File \"/home/ben-work/.conda/envs/astro/lib/python3.10/site-packages/astropy/units/quantity.py\", line 611, in __array_ufunc__\n",
      "    result = super().__array_ufunc__(function, method, *arrays, **kwargs)\n",
      "  File \"/tmp/ipykernel_436/1996192625.py\", line 27, in lnlike\n",
      "    ln_like_func = np.sum(np.log(ni * ri * mu_agn)) - trap_weight(nall * 2 * np.pi * rall, rall, weight=gpf)\n",
      "  File \"/tmp/ipykernel_436/1996192625.py\", line 27, in lnlike\n",
      "    ln_like_func = np.sum(np.log(ni * ri * mu_agn)) - trap_weight(nall * 2 * np.pi * rall, rall, weight=gpf)\n",
      "Traceback (most recent call last):\n",
      "\n",
      "During handling of the above exception, another exception occurred:\n",
      "\n",
      "  File \"/tmp/ipykernel_436/1752279991.py\", line 8, in lnprob\n",
      "    return lnlike(params) + lp\n",
      "  File \"/home/ben-work/.conda/envs/astro/lib/python3.10/site-packages/astropy/units/quantity.py\", line 1121, in __mul__\n",
      "    return super().__mul__(other)\n",
      "Traceback (most recent call last):\n",
      "  File \"/home/ben-work/.conda/envs/astro/lib/python3.10/site-packages/astropy/units/quantity.py\", line 611, in __array_ufunc__\n",
      "    result = super().__array_ufunc__(function, method, *arrays, **kwargs)\n",
      "  File \"/home/ben-work/PycharmProjects/astro-compendium/astro_compendium/utils/custom_math.py\", line 92, in trap_weight\n",
      "    integral = np.add.reduce(sub_integral * weight, axis)\n",
      "ValueError: operands could not be broadcast together with shapes (9999,) (4076,) \n",
      "  File \"/home/ben-work/PycharmProjects/astro-compendium/astro_compendium/utils/custom_math.py\", line 92, in trap_weight\n",
      "    integral = np.add.reduce(sub_integral * weight, axis)\n",
      "Traceback (most recent call last):\n",
      "  File \"/home/ben-work/.conda/envs/astro/lib/python3.10/site-packages/emcee/ensemble.py\", line 624, in __call__\n",
      "    return self.f(x, *self.args, **self.kwargs)\n",
      "  File \"/tmp/ipykernel_436/1996192625.py\", line 27, in lnlike\n",
      "    ln_like_func = np.sum(np.log(ni * ri * mu_agn)) - trap_weight(nall * 2 * np.pi * rall, rall, weight=gpf)\n",
      "  File \"/home/ben-work/.conda/envs/astro/lib/python3.10/site-packages/astropy/units/quantity.py\", line 611, in __array_ufunc__\n",
      "    result = super().__array_ufunc__(function, method, *arrays, **kwargs)\n",
      "  File \"/home/ben-work/.conda/envs/astro/lib/python3.10/site-packages/emcee/ensemble.py\", line 624, in __call__\n",
      "    return self.f(x, *self.args, **self.kwargs)\n",
      "ValueError: operands could not be broadcast together with shapes (9999,) (4076,) \n",
      "ValueError: operands could not be broadcast together with shapes (9999,) (4076,) \n",
      "\n",
      "During handling of the above exception, another exception occurred:\n",
      "\n",
      "  File \"/home/ben-work/.conda/envs/astro/lib/python3.10/site-packages/emcee/ensemble.py\", line 624, in __call__\n",
      "    return self.f(x, *self.args, **self.kwargs)\n",
      "ValueError: operands could not be broadcast together with shapes (9999,) (4076,) \n",
      "  File \"/tmp/ipykernel_436/1752279991.py\", line 8, in lnprob\n",
      "    return lnlike(params) + lp\n",
      "ValueError: operands could not be broadcast together with shapes (9999,) (4076,) \n",
      "  File \"/home/ben-work/PycharmProjects/astro-compendium/astro_compendium/utils/custom_math.py\", line 92, in trap_weight\n",
      "    integral = np.add.reduce(sub_integral * weight, axis)\n",
      "  File \"/tmp/ipykernel_436/1752279991.py\", line 8, in lnprob\n",
      "    return lnlike(params) + lp\n",
      "Traceback (most recent call last):\n",
      "\n",
      "During handling of the above exception, another exception occurred:\n",
      "\n",
      "  File \"/tmp/ipykernel_436/1752279991.py\", line 8, in lnprob\n",
      "    return lnlike(params) + lp\n",
      "\n",
      "During handling of the above exception, another exception occurred:\n",
      "\n",
      "  File \"/tmp/ipykernel_436/1996192625.py\", line 27, in lnlike\n",
      "    ln_like_func = np.sum(np.log(ni * ri * mu_agn)) - trap_weight(nall * 2 * np.pi * rall, rall, weight=gpf)\n",
      "  File \"/tmp/ipykernel_436/1996192625.py\", line 27, in lnlike\n",
      "    ln_like_func = np.sum(np.log(ni * ri * mu_agn)) - trap_weight(nall * 2 * np.pi * rall, rall, weight=gpf)\n",
      "ValueError: operands could not be broadcast together with shapes (9999,) (4076,) \n",
      "  File \"/home/ben-work/.conda/envs/astro/lib/python3.10/site-packages/emcee/ensemble.py\", line 624, in __call__\n",
      "    return self.f(x, *self.args, **self.kwargs)\n",
      "Traceback (most recent call last):\n",
      "  File \"/tmp/ipykernel_436/1996192625.py\", line 27, in lnlike\n",
      "    ln_like_func = np.sum(np.log(ni * ri * mu_agn)) - trap_weight(nall * 2 * np.pi * rall, rall, weight=gpf)\n",
      "Traceback (most recent call last):\n",
      "  File \"/home/ben-work/PycharmProjects/astro-compendium/astro_compendium/utils/custom_math.py\", line 92, in trap_weight\n",
      "    integral = np.add.reduce(sub_integral * weight, axis)\n",
      "  File \"/home/ben-work/PycharmProjects/astro-compendium/astro_compendium/utils/custom_math.py\", line 92, in trap_weight\n",
      "    integral = np.add.reduce(sub_integral * weight, axis)\n",
      "  File \"/tmp/ipykernel_436/1752279991.py\", line 8, in lnprob\n",
      "    return lnlike(params) + lp\n",
      "  File \"/home/ben-work/.conda/envs/astro/lib/python3.10/site-packages/emcee/ensemble.py\", line 624, in __call__\n",
      "    return self.f(x, *self.args, **self.kwargs)\n",
      "ValueError: operands could not be broadcast together with shapes (9999,) (4076,) \n",
      "  File \"/home/ben-work/.conda/envs/astro/lib/python3.10/site-packages/emcee/ensemble.py\", line 624, in __call__\n",
      "    return self.f(x, *self.args, **self.kwargs)\n",
      "  File \"/home/ben-work/PycharmProjects/astro-compendium/astro_compendium/utils/custom_math.py\", line 92, in trap_weight\n",
      "    integral = np.add.reduce(sub_integral * weight, axis)\n",
      "  File \"/tmp/ipykernel_436/1996192625.py\", line 27, in lnlike\n",
      "    ln_like_func = np.sum(np.log(ni * ri * mu_agn)) - trap_weight(nall * 2 * np.pi * rall, rall, weight=gpf)\n",
      "ValueError: operands could not be broadcast together with shapes (9999,) (4076,) \n"
     ]
    }
   ],
   "source": [
    "# Set up walkers\n",
    "ndim = 6\n",
    "nwalkers = 50\n",
    "nsteps = 5000\n",
    "\n",
    "# Initialize walker positions\n",
    "pos0 = np.array([\n",
    "    rng.normal(theta_true, 1e-4, size=nwalkers),\n",
    "    rng.normal(eta_true, 1e-4, size=nwalkers),\n",
    "    rng.normal(zeta_true, 1e-4, size=nwalkers),\n",
    "    rng.normal(beta_true, 1e-4, size=nwalkers),\n",
    "    rng.normal(rc_true, 1e-4, size=nwalkers),\n",
    "    rng.normal(c0_true, 1e-4, size=nwalkers)]).T\n",
    "\n",
    "filename='Data_Repository/Project_Data/SPT-IRAGN/MCMC/Mock_Catalog/Chains/Port_Rebuild_Tests/pure_poisson/emcee_mock_pure_poisson.h5'\n",
    "backend = emcee.backends.HDFBackend(filename=filename, name=f'full_los_{ndim}param_{n_cl}clusters_r500_quarter_masks_gpf')\n",
    "backend.reset(nwalkers, ndim)\n",
    "with MultiPool() as pool:\n",
    "    sampler = emcee.EnsembleSampler(nwalkers=nwalkers, ndim=ndim, log_prob_fn=lnprob, pool=pool, backend=backend)\n",
    "    sampler.run_mcmc(pos0, nsteps=nsteps, progress=True)\n",
    "\n",
    "try:\n",
    "    print(f'Mean autocorrelation time: {(mean_tau := np.mean(sampler.get_autocorr_time())):.2f} steps\\n', f'Mean acceptance fraction: {np.mean(sampler.acceptance_fraction):.3f}')\n",
    "except emcee.autocorr.AutocorrError:\n",
    "    print(f'Mean autocorrelation time: {(mean_tau := np.mean(sampler.get_autocorr_time(quiet=True))):.2f} steps\\n', f'Mean acceptance fraction: {np.mean(sampler.acceptance_fraction):.3f}')"
   ],
   "metadata": {
    "collapsed": false,
    "pycharm": {
     "name": "#%%\n"
    }
   }
  },
  {
   "cell_type": "code",
   "execution_count": null,
   "outputs": [],
   "source": [
    "# Plot chains\n",
    "samples = sampler.get_chain()\n",
    "labels = [r'$\\theta$', r'$\\eta$', r'$\\zeta$', r'$\\beta$', r'$r_c$', r'$C_0$']\n",
    "truths = [theta_true, eta_true, zeta_true, beta_true, rc_true, c0_true]\n",
    "# truth, label = truths[-1], labels[-1]\n",
    "fig, axes = plt.subplots(nrows=ndim, figsize=(10, 7), sharex='col')\n",
    "if ndim == 1:\n",
    "    axes.plot(samples[:, :, 0], 'k', alpha=0.3)\n",
    "    axes.axhline(y=truths[-1], c='b')\n",
    "    axes.set(ylabel=labels[-1], xlim=[0, len(samples)])\n",
    "    axes.set(xlabel='Steps')\n",
    "else:\n",
    "    for i, (ax, label, truth) in enumerate(zip(axes.flatten(), labels, truths)):\n",
    "        ax.plot(samples[:, :, i], 'k', alpha=0.3)\n",
    "        ax.axhline(y=truth, c='b')\n",
    "        ax.set(ylabel=label, xlim=[0, len(samples)])\n",
    "    axes[-1].set(xlabel='Steps')\n",
    "fig.savefig(f'Data_Repository/Project_Data/SPT-IRAGN/MCMC/Mock_Catalog/Plots/Port_Rebuild_Tests/pure_poisson/param_chains_full_los_{ndim}param_{n_cl}clusters_r500_quarter_masks_gpf.pdf')"
   ],
   "metadata": {
    "collapsed": false,
    "pycharm": {
     "name": "#%%\n"
    }
   }
  },
  {
   "cell_type": "code",
   "execution_count": null,
   "outputs": [],
   "source": [
    "# Plot posterior\n",
    "flat_samples = sampler.get_chain(discard=int(3*mean_tau), flat=True)\n",
    "if ndim == 1:\n",
    "    fig = corner.corner(flat_samples, labels=[labels[-1]], truths=[truths[-1]], show_titles=True, quantiles=[0.16, 0.5, 0.84])\n",
    "else:\n",
    "    fig = corner.corner(flat_samples, labels=labels, truths=truths, show_titles=True, quantiles=[0.16, 0.5, 0.84])\n",
    "fig.savefig(f'Data_Repository/Project_Data/SPT-IRAGN/MCMC/Mock_Catalog/Plots/Port_Rebuild_Tests/pure_poisson/corner_full_los_{ndim}param_{n_cl}clusters_r500_quarter_masks_gpf.pdf')"
   ],
   "metadata": {
    "collapsed": false,
    "pycharm": {
     "name": "#%%\n"
    }
   }
  },
  {
   "cell_type": "code",
   "execution_count": null,
   "outputs": [],
   "source": [
    "lnpost = sampler.get_log_prob(flat=True, discard=int(3 * mean_tau))\n",
    "for i in range(flat_samples.shape[-1]):\n",
    "    plt.plot(flat_samples[:, i], lnpost, '.')\n",
    "    plt.show()"
   ],
   "metadata": {
    "collapsed": false,
    "pycharm": {
     "name": "#%%\n"
    }
   }
  },
  {
   "cell_type": "code",
   "execution_count": null,
   "outputs": [],
   "source": [
    "# sampler.__getstate__()"
   ],
   "metadata": {
    "collapsed": false,
    "pycharm": {
     "name": "#%%\n"
    }
   }
  },
  {
   "cell_type": "code",
   "execution_count": null,
   "outputs": [],
   "source": [
    "# import h5py\n",
    "#\n",
    "# with h5py.File('Data_Repository/Project_Data/SPT-IRAGN/MCMC/Mock_Catalog/Chains/Port_Rebuild_Tests/pure_poisson/emcee_mock_pure_poisson.h5', 'w') as f:\n",
    "#     g = f.create_group(name='full_los_308clusters')\n",
    "#     g.attrs['version'] = emcee.__version__\n",
    "#     g.attrs['nwalkers'] = nwalkers\n",
    "#     g.attrs['ndim'] = ndim\n",
    "#     g.attrs['has_blobs'] = False\n",
    "#     g.attrs['iteration'] = sampler.iteration\n",
    "#\n",
    "#     for i, val in enumerate(sampler._random.get_state()):\n",
    "#         g.attrs[f'random_state_{i}'] = val\n",
    "#\n",
    "#     g.create_dataset(name='accepted', data=np.zeros(shape=ndim))\n",
    "#     g.create_dataset(name='chain', data=sampler.get_chain())\n",
    "#     g.create_dataset(name='log_prob', data=sampler.get_log_prob())"
   ],
   "metadata": {
    "collapsed": false,
    "pycharm": {
     "name": "#%%\n"
    }
   }
  },
  {
   "cell_type": "code",
   "execution_count": null,
   "outputs": [],
   "source": [
    "# sampler_readback = emcee.backends.HDFBackend(filename='Data_Repository/Project_Data/SPT-IRAGN/MCMC/Mock_Catalog/Chains/Port_Rebuild_Tests/pure_poisson/emcee_mock_pure_poisson.h5', name='full_los_308clusters')"
   ],
   "metadata": {
    "collapsed": false,
    "pycharm": {
     "name": "#%%\n"
    }
   }
  },
  {
   "cell_type": "code",
   "execution_count": null,
   "outputs": [],
   "source": [],
   "metadata": {
    "collapsed": false,
    "pycharm": {
     "name": "#%%\n"
    }
   }
  }
 ],
 "metadata": {
  "kernelspec": {
   "display_name": "Python 3",
   "language": "python",
   "name": "python3"
  },
  "language_info": {
   "codemirror_mode": {
    "name": "ipython",
    "version": 2
   },
   "file_extension": ".py",
   "mimetype": "text/x-python",
   "name": "python",
   "nbconvert_exporter": "python",
   "pygments_lexer": "ipython2",
   "version": "2.7.6"
  }
 },
 "nbformat": 4,
 "nbformat_minor": 0
}