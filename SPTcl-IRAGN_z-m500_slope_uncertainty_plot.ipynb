{
 "cells": [
  {
   "cell_type": "markdown",
   "source": [
    "# SPTcl-IRAGN $z-M_{500}$ Slope Suite Uncertainty Plot\n",
    "## Author: Benjamin Floyd\n",
    "\n",
    "Creates a visualization of how the uncertainties in the redshift--halo mass covariances vary as a function of the input parameter set."
   ],
   "metadata": {
    "collapsed": false,
    "pycharm": {
     "name": "#%% md\n"
    }
   }
  },
  {
   "cell_type": "code",
   "execution_count": 1,
   "metadata": {
    "collapsed": true,
    "pycharm": {
     "name": "#%%\n"
    }
   },
   "outputs": [],
   "source": [
    "import numpy as np\n",
    "import h5py\n",
    "import emcee\n",
    "import re"
   ]
  },
  {
   "cell_type": "code",
   "execution_count": 2,
   "outputs": [],
   "source": [
    "filename = 'Data_Repository/Project_Data/SPT-IRAGN/MCMC/Mock_Catalog/Chains/Port_Rebuild_Tests/eta-zeta_grid/emcee_chains_eta-zeta_grid_308cl_snr13.h5'\n",
    "\n",
    "# Get a list of the chain runs stored in our file\n",
    "with h5py.File(filename, 'r') as f:\n",
    "    chain_names = list(f.keys())\n",
    "\n",
    "# Load in all samplers from the file\n",
    "sampler_dict = {chain_name: emcee.backends.HDFBackend(filename, name=chain_name) for chain_name in chain_names}"
   ],
   "metadata": {
    "collapsed": false,
    "pycharm": {
     "name": "#%%\n"
    }
   }
  },
  {
   "cell_type": "code",
   "execution_count": null,
   "outputs": [],
   "source": [],
   "metadata": {
    "collapsed": false,
    "pycharm": {
     "name": "#%%\n"
    }
   }
  }
 ],
 "metadata": {
  "kernelspec": {
   "display_name": "Python 3",
   "language": "python",
   "name": "python3"
  },
  "language_info": {
   "codemirror_mode": {
    "name": "ipython",
    "version": 2
   },
   "file_extension": ".py",
   "mimetype": "text/x-python",
   "name": "python",
   "nbconvert_exporter": "python",
   "pygments_lexer": "ipython2",
   "version": "2.7.6"
  }
 },
 "nbformat": 4,
 "nbformat_minor": 0
}