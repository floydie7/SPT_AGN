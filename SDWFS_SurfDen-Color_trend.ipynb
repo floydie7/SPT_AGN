{
 "cells": [
  {
   "cell_type": "markdown",
   "source": [
    "# SDWFS AGN Surface Density--Color Trend Plot\n",
    "## Author: Benjamin Floyd\n",
    "\n",
    "Generates a pubication plot of the AGN surface density as a function of the purity color selection threshold."
   ],
   "metadata": {
    "collapsed": false,
    "pycharm": {
     "name": "#%% md\n"
    }
   }
  },
  {
   "cell_type": "code",
   "execution_count": 1,
   "outputs": [],
   "source": [
    "import json\n",
    "import numpy as np\n",
    "import matplotlib.pyplot as plt\n",
    "import astropy.units as u\n",
    "from astropy.table import Table\n",
    "from astropy.io import fits\n",
    "from astropy.wcs import WCS\n",
    "\n",
    "%matplotlib inline\n",
    "plt.style.use('seaborn-colorblind')\n",
    "plt.rcParams.update({'font.size': 14})"
   ],
   "metadata": {
    "collapsed": false,
    "pycharm": {
     "name": "#%%\n"
    }
   }
  },
  {
   "cell_type": "code",
   "execution_count": 2,
   "outputs": [],
   "source": [
    "# Read in the SDWFS AGN catalog\n",
    "sdwfs_agn = Table.read('Data_Repository/Project_Data/SPT-IRAGN/Output/SDWFS_cutout_IRAGN_purity.fits')\n",
    "\n",
    "# List all mask files\n",
    "mask_files = [cutout['MASK_NAME'][0] for cutout in sdwfs_agn.group_by('CUTOUT_ID').groups]\n",
    "\n",
    "# Get the color thresholds used in catalog creation\n",
    "with open('Data_Repository/Project_Data/SPT-IRAGN/SDWFS_background/SDWFS_purity_color.json', 'r') as f:\n",
    "    color_threshold_data = json.load(f)\n",
    "    color_thresholds = color_threshold_data['purity_90_colors']"
   ],
   "metadata": {
    "collapsed": false,
    "pycharm": {
     "name": "#%%\n"
    }
   }
  },
  {
   "cell_type": "code",
   "execution_count": 3,
   "outputs": [],
   "source": [
    "# Read in each mask file and calculate the allowable area\n",
    "areas = []\n",
    "for mask_file in mask_files:\n",
    "    mask_img, mask_hdr = fits.getdata(mask_file, header=True)\n",
    "    mask_wcs = WCS(mask_hdr)\n",
    "\n",
    "    # Get the area of a pixel in angular units\n",
    "    pixel_area = mask_wcs.proj_plane_pixel_area()\n",
    "\n",
    "    # Find the total area of the image by adding all pixels and multiplying by the pixel area\n",
    "    mask_area = np.count_nonzero(mask_img) * pixel_area\n",
    "    areas.append(mask_area)\n",
    "\n",
    "# Compute total area in sample\n",
    "total_area = u.Quantity(areas).sum()"
   ],
   "metadata": {
    "collapsed": false,
    "pycharm": {
     "name": "#%%\n"
    }
   }
  },
  {
   "cell_type": "code",
   "execution_count": 4,
   "outputs": [],
   "source": [
    "# For each color selection threshold, add all objects applying the appropriate corrections\n",
    "completeness_correction = sdwfs_agn['COMPLETENESS_CORRECTION']\n",
    "selection_membership_columns = [colname for colname in sdwfs_agn.colnames if 'SELECTION_MEMBERSHIP' in colname]\n",
    "\n",
    "# numbers_agn = [np.sum(completeness_correction * sdwfs_agn[selection_membership_column])\n",
    "#                for selection_membership_column in selection_membership_columns]\n",
    "numbers_agn = []\n",
    "for color in color_thresholds[:-1]:\n",
    "    # cat = sdwfs_agn[sdwfs_agn['I1_MAG_APER4'] - sdwfs_agn['I2_MAG_APER4'] >= color]\n",
    "    cat = sdwfs_agn\n",
    "    numbers_agn.append(np.sum(cat['COMPLETENESS_CORRECTION'] * cat[f'SELECTION_MEMBERSHIP_{color:.2f}']))"
   ],
   "metadata": {
    "collapsed": false,
    "pycharm": {
     "name": "#%%\n"
    }
   }
  },
  {
   "cell_type": "code",
   "execution_count": 5,
   "outputs": [],
   "source": [
    "# Create surface density array\n",
    "agn_surf_den = numbers_agn / total_area\n",
    "\n",
    "# Also generate Poisson errors for the surface densities\n",
    "agn_surf_den_err = np.sqrt(numbers_agn) / total_area"
   ],
   "metadata": {
    "collapsed": false,
    "pycharm": {
     "name": "#%%\n"
    }
   }
  },
  {
   "cell_type": "code",
   "execution_count": 7,
   "outputs": [
    {
     "data": {
      "text/plain": "<Figure size 561.6x432 with 1 Axes>",
      "image/png": "[encoded data removed]"
     },
     "metadata": {
      "needs_background": "light"
     },
     "output_type": "display_data"
    }
   ],
   "source": [
    "# Create plot\n",
    "fig, ax = plt.subplots(figsize=(7.8, 6))\n",
    "ax.errorbar(color_thresholds[:-1], agn_surf_den.to_value(u.arcmin**-2), yerr=agn_surf_den_err.to_value(u.arcmin**-2), fmt='.')\n",
    "ax.set(xlabel='[3.6] - [4.5] (Vega)', ylabel=r'$\\Sigma_{\\mathrm{AGN}}$ [arcmin$^{-2}$]')\n",
    "fig.tight_layout()\n",
    "fig.savefig('Data_Repository/Project_Data/SPT-IRAGN/Publication_Plots/SDWFS_AGN_surfden-color_threshold_publication.pdf')"
   ],
   "metadata": {
    "collapsed": false,
    "pycharm": {
     "name": "#%%\n"
    }
   }
  }
 ],
 "metadata": {
  "kernelspec": {
   "display_name": "Python 3",
   "language": "python",
   "name": "python3"
  },
  "language_info": {
   "codemirror_mode": {
    "name": "ipython",
    "version": 2
   },
   "file_extension": ".py",
   "mimetype": "text/x-python",
   "name": "python",
   "nbconvert_exporter": "python",
   "pygments_lexer": "ipython2",
   "version": "2.7.6"
  }
 },
 "nbformat": 4,
 "nbformat_minor": 0
}