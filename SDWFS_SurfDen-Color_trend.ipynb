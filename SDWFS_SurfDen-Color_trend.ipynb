{
 "cells": [
  {
   "cell_type": "code",
   "execution_count": 23,
   "metadata": {
    "collapsed": true,
    "pycharm": {
     "name": "#%%\n"
    }
   },
   "outputs": [],
   "source": [
    "\"\"\"\n",
    "SDWFS_SurfDen-Color_trend.ipynb\n",
    "Author: Benjamin Floyd\n",
    "\n",
    "Generates the plot of how the total AGN surface density changes with selection color threshold.\n",
    "\"\"\"\n",
    "\n",
    "import json\n",
    "import numpy as np\n",
    "import matplotlib.pyplot as plt\n",
    "from astropy.table import Table\n",
    "from astropy.io import fits\n",
    "from astropy.wcs import WCS\n",
    "from astropy.units import Quantity\n",
    "\n",
    "%matplotlib inline"
   ]
  },
  {
   "cell_type": "code",
   "execution_count": 24,
   "outputs": [],
   "source": [
    "# Read in the SDWFS AGN catalog\n",
    "sdwfs_agn = Table.read('Data_Repository/Project_Data/SPT-IRAGN/Output/SDWFS_cutout_IRAGN_purity.fits')\n",
    "\n",
    "# List all mask files\n",
    "mask_files = [cutout['MASK_NAME'][0] for cutout in sdwfs_agn.group_by('CUTOUT_ID').groups]\n",
    "\n",
    "# Get the color thresholds used in catalog creation\n",
    "with open('Data_Repository/Project_Data/SPT-IRAGN/SDWFS_background/SDWFS_purity_color.json', 'r') as f:\n",
    "    color_threshold_data = json.load(f)\n",
    "    color_thresholds = color_threshold_data['purity_90_colors']"
   ],
   "metadata": {
    "collapsed": false,
    "pycharm": {
     "name": "#%%\n"
    }
   }
  },
  {
   "cell_type": "code",
   "execution_count": 25,
   "outputs": [],
   "source": [
    "# Read in each mask file and calculate the allowable area\n",
    "areas = []\n",
    "for mask_file in mask_files:\n",
    "    mask_img, mask_hdr = fits.getdata(mask_file, header=True)\n",
    "    mask_wcs = WCS(mask_hdr)\n",
    "\n",
    "    # Get the area of a pixel in angular units\n",
    "    pixel_area = mask_wcs.proj_plane_pixel_area()\n",
    "\n",
    "    # Find the total area of the image by adding all pixels and multiplying by the pixel area\n",
    "    mask_area = np.count_nonzero(mask_img) * pixel_area\n",
    "    areas.append(mask_area)\n",
    "\n",
    "# Compute total area in sample\n",
    "total_area = Quantity(areas).sum()"
   ],
   "metadata": {
    "collapsed": false,
    "pycharm": {
     "name": "#%%\n"
    }
   }
  },
  {
   "cell_type": "code",
   "execution_count": 26,
   "outputs": [],
   "source": [
    "# For each color selection threshold, add all objects applying the appropriate corrections\n",
    "completeness_correction = sdwfs_agn['COMPLETENESS_CORRECTION']\n",
    "selection_membership_columns = [colname for colname in sdwfs_agn.colnames if 'SELECTION_MEMBERSHIP' in colname]\n",
    "\n",
    "numbers_agn = [np.sum(completeness_correction * sdwfs_agn[selection_membership_column])\n",
    "               for selection_membership_column in selection_membership_columns]"
   ],
   "metadata": {
    "collapsed": false,
    "pycharm": {
     "name": "#%%\n"
    }
   }
  },
  {
   "cell_type": "code",
   "execution_count": 27,
   "outputs": [],
   "source": [
    "# Create surface density array\n",
    "agn_surf_den = numbers_agn / total_area\n",
    "\n",
    "# Also generate Poisson errors for the surface densities\n",
    "agn_surf_den_err = np.sqrt(agn_surf_den) / total_area"
   ],
   "metadata": {
    "collapsed": false,
    "pycharm": {
     "name": "#%%\n"
    }
   }
  },
  {
   "cell_type": "code",
   "execution_count": 37,
   "outputs": [
    {
     "data": {
      "text/plain": "<Figure size 432x288 with 1 Axes>",
      "image/png": "[encoded data removed]"
     },
     "metadata": {
      "needs_background": "light"
     },
     "output_type": "display_data"
    }
   ],
   "source": [
    "# Create plot\n",
    "fig, ax = plt.subplots()\n",
    "ax.errorbar(color_thresholds[:-1], agn_surf_den.value, yerr=agn_surf_den_err.value, fmt='.')\n",
    "ax.set(xlabel='[3.6] - [4.5]', ylabel=r'$\\Sigma_{\\mathrm{AGN}}$ [deg$^2$]', yscale='log')\n",
    "fig.savefig('Data_Repository/Project_Data/SPT-IRAGN/SDWFS_background/Plots/AGN_SurfDen-Color_threshold.pdf')\n",
    "plt.show()"
   ],
   "metadata": {
    "collapsed": false,
    "pycharm": {
     "name": "#%%\n"
    }
   }
  }
 ],
 "metadata": {
  "kernelspec": {
   "display_name": "Python 3",
   "language": "python",
   "name": "python3"
  },
  "language_info": {
   "codemirror_mode": {
    "name": "ipython",
    "version": 2
   },
   "file_extension": ".py",
   "mimetype": "text/x-python",
   "name": "python",
   "nbconvert_exporter": "python",
   "pygments_lexer": "ipython2",
   "version": "2.7.6"
  }
 },
 "nbformat": 4,
 "nbformat_minor": 0
}