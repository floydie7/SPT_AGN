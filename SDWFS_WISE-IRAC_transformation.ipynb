{
 "cells": [
  {
   "cell_type": "markdown",
   "source": [
    "# SDWFS WISE--IRAC Transformation\n",
    "## Author: Benjamin Floyd\n",
    "Creates an analytical transformation from the WISE $dN/dm$ curve to IRAC counterpart "
   ],
   "metadata": {
    "collapsed": false
   },
   "id": "a96f345147ea220c"
  },
  {
   "cell_type": "code",
   "execution_count": 1,
   "id": "initial_id",
   "metadata": {
    "collapsed": true,
    "ExecuteTime": {
     "end_time": "2023-10-02T22:45:03.130106700Z",
     "start_time": "2023-10-02T22:45:02.955932900Z"
    }
   },
   "outputs": [],
   "source": [
    "import sympy as sp"
   ]
  },
  {
   "cell_type": "code",
   "execution_count": 2,
   "outputs": [],
   "source": [
    "x, y = sp.symbols('x, y', cls=sp.Idx)\n",
    "s1 = sp.IndexedBase('s1')\n",
    "s2 = sp.IndexedBase('s2')\n",
    "w1 = sp.IndexedBase('w1')\n",
    "w2 = sp.IndexedBase('w2')\n",
    "T = sp.MatrixSymbol('T', 2, 2)"
   ],
   "metadata": {
    "collapsed": false,
    "ExecuteTime": {
     "end_time": "2023-10-02T22:45:03.134094Z",
     "start_time": "2023-10-02T22:45:03.131731700Z"
    }
   },
   "id": "a0816cccad103cb3"
  },
  {
   "cell_type": "code",
   "execution_count": 3,
   "outputs": [],
   "source": [
    "x_eqs = [T[0,0] * w1[x] + T[0,1] * w1[y] - s1[x], \n",
    "         T[0,0] * w2[x] + T[0,1] * w2[y] - s2[x]]\n",
    "y_eqs = [T[1,0] * w1[x] + T[1,1] * w1[y] - s1[y], \n",
    "         T[1,0] * w2[x] + T[1,1] * w2[y] - s2[y]]"
   ],
   "metadata": {
    "collapsed": false,
    "ExecuteTime": {
     "end_time": "2023-10-02T22:45:03.183510400Z",
     "start_time": "2023-10-02T22:45:03.134817700Z"
    }
   },
   "id": "12649be37f64e5b5"
  },
  {
   "cell_type": "code",
   "execution_count": 4,
   "outputs": [],
   "source": [
    "x_sols = sp.solve(x_eqs, T[0,0], T[0,1], dict=True)\n",
    "y_sols = sp.solve(y_eqs, T[1,0], T[1,1], dict=True)"
   ],
   "metadata": {
    "collapsed": false,
    "ExecuteTime": {
     "end_time": "2023-10-02T22:45:03.265317900Z",
     "start_time": "2023-10-02T22:45:03.183746800Z"
    }
   },
   "id": "b6ecf2f9d6009150"
  },
  {
   "cell_type": "code",
   "execution_count": 5,
   "outputs": [
    {
     "data": {
      "text/plain": "Eq(T, 1/(w1[x]*w2[y] - w1[y]*w2[x])*Matrix([\n[s1[x]*w2[y] - s2[x]*w1[y], -s1[x]*w2[x] + s2[x]*w1[x]],\n[s1[y]*w2[y] - s2[y]*w1[y], -s1[y]*w2[x] + s2[y]*w1[x]]]))",
      "text/latex": "$\\displaystyle T = \\frac{1}{{w_{1}}_{x} {w_{2}}_{y} - {w_{1}}_{y} {w_{2}}_{x}} \\left[\\begin{matrix}{s_{1}}_{x} {w_{2}}_{y} - {s_{2}}_{x} {w_{1}}_{y} & - {s_{1}}_{x} {w_{2}}_{x} + {s_{2}}_{x} {w_{1}}_{x}\\\\{s_{1}}_{y} {w_{2}}_{y} - {s_{2}}_{y} {w_{1}}_{y} & - {s_{1}}_{y} {w_{2}}_{x} + {s_{2}}_{y} {w_{1}}_{x}\\end{matrix}\\right]$"
     },
     "execution_count": 5,
     "metadata": {},
     "output_type": "execute_result"
    }
   ],
   "source": [
    "TT = sp.Matrix(2, 2, [sp.simplify(x_sols[0][T[0,0]]), sp.simplify(x_sols[0][T[0,1]]), sp.simplify(y_sols[0][T[1,0]]), sp.simplify(y_sols[0][T[1,1]])])\n",
    "gtt = sp.gcd(tuple(TT))\n",
    "sp.Eq(T, sp.MatMul(gtt, (TT/gtt)))"
   ],
   "metadata": {
    "collapsed": false,
    "ExecuteTime": {
     "end_time": "2023-10-02T22:45:03.483423300Z",
     "start_time": "2023-10-02T22:45:03.285440800Z"
    }
   },
   "id": "af39705ea213128a"
  }
 ],
 "metadata": {
  "kernelspec": {
   "display_name": "Python 3",
   "language": "python",
   "name": "python3"
  },
  "language_info": {
   "codemirror_mode": {
    "name": "ipython",
    "version": 2
   },
   "file_extension": ".py",
   "mimetype": "text/x-python",
   "name": "python",
   "nbconvert_exporter": "python",
   "pygments_lexer": "ipython2",
   "version": "2.7.6"
  }
 },
 "nbformat": 4,
 "nbformat_minor": 5
}
