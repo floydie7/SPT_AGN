{
 "cells": [
  {
   "cell_type": "markdown",
   "source": [
    "# SDWFS Cutout Footprints\n",
    "## Author: Benjamin Floyd\n",
    "\n",
    "Shows the positions of the SDWFS cutouts used as the background sample in the SPTcl-IRAGN study."
   ],
   "metadata": {
    "collapsed": false
   }
  },
  {
   "cell_type": "code",
   "execution_count": 1,
   "metadata": {
    "collapsed": true,
    "ExecuteTime": {
     "end_time": "2023-06-16T15:41:29.434843383Z",
     "start_time": "2023-06-16T15:41:27.401720822Z"
    }
   },
   "outputs": [],
   "source": [
    "import astropy.units as u\n",
    "import matplotlib.pyplot as plt\n",
    "import numpy as np\n",
    "from astropy.cosmology import FlatLambdaCDM\n",
    "from astropy.io import fits\n",
    "from astropy.table import Table\n",
    "from astropy.visualization import imshow_norm, ZScaleInterval, LinearStretch\n",
    "from astropy.wcs import WCS\n",
    "from matplotlib.collections import PatchCollection\n",
    "from matplotlib.lines import Line2D\n",
    "from matplotlib.patches import Rectangle, Circle\n",
    "from astropy.coordinates import SkyCoord\n",
    "from astroquery.gaia import Gaia\n",
    "\n",
    "cosmo = FlatLambdaCDM(H0=70, Om0=0.3)\n",
    "\n",
    "%matplotlib inline"
   ]
  },
  {
   "cell_type": "code",
   "execution_count": 2,
   "outputs": [],
   "source": [
    "# Read in the full SDWFS image that we will use as the backdrop\n",
    "I1_SDWFS_img, I1_SDWFS_hdr = fits.getdata('Data_Repository/Images/Bootes/SDWFS/I1_bootes.v32.fits', header=True)\n",
    "I1_SDWFS_wcs = WCS(I1_SDWFS_hdr)\n",
    "I1_SDWFS_pixel_scale = I1_SDWFS_wcs.proj_plane_pixel_scales()[0]"
   ],
   "metadata": {
    "collapsed": false,
    "ExecuteTime": {
     "end_time": "2023-06-16T15:41:48.063042487Z",
     "start_time": "2023-06-16T15:41:29.431679746Z"
    }
   }
  },
  {
   "cell_type": "code",
   "execution_count": 3,
   "outputs": [],
   "source": [
    "# Read in the SDWFS-IRAGN catalog\n",
    "sdwfs_iragn = Table.read('Data_Repository/Project_Data/SPT-IRAGN/Output/SDWFS_cutout_IRAGN.fits')\n",
    "sdwfs_iragn_grp = sdwfs_iragn.group_by('CUTOUT_ID')\n",
    "\n",
    "# Get the mask WCSs\n",
    "mask_wcss = [WCS(cutout['MASK_NAME'][0]) for cutout in sdwfs_iragn_grp.groups]\n",
    "\n",
    "# Get the cutout centers\n",
    "cutout_centers = {cutout['CUTOUT_ID'][0]: (cutout['SZ_RA'][0] * u.deg, cutout['SZ_DEC'][0] * u.deg) for cutout in sdwfs_iragn_grp.groups}\n",
    "cutout_anchors = [np.array(I1_SDWFS_wcs.wcs_world2pix(cutout_center[0].value, cutout_center[1].value, 0)) - np.array(mask_wcs.pixel_shape) / 2 for cutout_center, mask_wcs in zip(cutout_centers.values(), mask_wcss)]"
   ],
   "metadata": {
    "collapsed": false,
    "ExecuteTime": {
     "end_time": "2023-06-16T15:43:59.919370635Z",
     "start_time": "2023-06-16T15:41:48.068987307Z"
    }
   }
  },
  {
   "cell_type": "code",
   "execution_count": 4,
   "outputs": [],
   "source": [
    "# Read in the ISCS cluster catalog\n",
    "iscs_clusters = Table.read('Data_Repository/Catalogs/Bootes/ISCS/cluster.list.v10.Nsp1_official.clean_with_Zest.fits')"
   ],
   "metadata": {
    "collapsed": false,
    "ExecuteTime": {
     "end_time": "2023-06-16T15:44:01.750811361Z",
     "start_time": "2023-06-16T15:43:59.961672527Z"
    }
   }
  },
  {
   "cell_type": "code",
   "execution_count": 5,
   "outputs": [],
   "source": [
    "# Generate the quadrangles that are the cutout footprints\n",
    "cutout_footprints = [Rectangle(cutout_anchor, width=mask_wcs.pixel_shape[0], height=mask_wcs.pixel_shape[1]) for mask_wcs, cutout_anchor in zip(mask_wcss, cutout_anchors)]"
   ],
   "metadata": {
    "collapsed": false,
    "ExecuteTime": {
     "end_time": "2023-06-16T15:44:01.775637619Z",
     "start_time": "2023-06-16T15:44:01.768197194Z"
    }
   }
  },
  {
   "cell_type": "code",
   "execution_count": 6,
   "outputs": [],
   "source": [
    "# Generate the cluster exclusion zones\n",
    "exclusion_zones = []\n",
    "for cluster in iscs_clusters:\n",
    "    cluster_center = I1_SDWFS_wcs.wcs_world2pix(cluster['RA'], cluster['DEC'], 0)\n",
    "    cluster_radius = 1 * u.Mpc * cosmo.arcsec_per_kpc_proper(cluster['z2']).to(I1_SDWFS_pixel_scale.unit / u.Mpc) / I1_SDWFS_pixel_scale\n",
    "    exclusion_zones.append(Circle(cluster_center, radius=cluster_radius.value))"
   ],
   "metadata": {
    "collapsed": false,
    "ExecuteTime": {
     "end_time": "2023-06-16T15:44:01.923330027Z",
     "start_time": "2023-06-16T15:44:01.774857885Z"
    }
   }
  },
  {
   "cell_type": "code",
   "execution_count": 7,
   "outputs": [
    {
     "name": "stdout",
     "output_type": "stream",
     "text": [
      "INFO: Query finished. [astroquery.utils.tap.core]\n"
     ]
    }
   ],
   "source": [
    "# Fetch the Gaia catalog of all the stars in the field\n",
    "sdwfs_footprint_coord = SkyCoord(I1_SDWFS_wcs.calc_footprint(), unit=u.deg)\n",
    "sdwfs_width = sdwfs_footprint_coord[0].separation(sdwfs_footprint_coord[1])\n",
    "sdwfs_height = sdwfs_footprint_coord[0].separation(sdwfs_footprint_coord[-1])\n",
    "sdwfs_center = SkyCoord(*I1_SDWFS_wcs.wcs.crval, unit=u.deg)\n",
    "\n",
    "Gaia.ROW_LIMIT = -1\n",
    "stars = Gaia.query_object_async(coordinate=sdwfs_center, width=sdwfs_width, height=sdwfs_height)"
   ],
   "metadata": {
    "collapsed": false,
    "ExecuteTime": {
     "end_time": "2023-06-16T15:44:47.899086582Z",
     "start_time": "2023-06-16T15:44:01.936331791Z"
    }
   }
  },
  {
   "cell_type": "code",
   "execution_count": null,
   "outputs": [],
   "source": [
    "# Make the plot\n",
    "fig, ax = plt.subplots(figsize=(8, 12), subplot_kw=dict(projection=I1_SDWFS_wcs))\n",
    "imshow_norm(I1_SDWFS_img, origin='lower', stretch=LinearStretch(), interval=ZScaleInterval(), cmap='Greys', ax=ax)\n",
    "\n",
    "# Add the cutout footprints and the cluster exclusion zones\n",
    "ax.add_collection(PatchCollection(cutout_footprints, edgecolor='magenta', facecolor='none', lw=1))\n",
    "ax.add_collection(PatchCollection(exclusion_zones, facecolor='none', edgecolor='cyan'))\n",
    "\n",
    "ax.scatter(stars['ra'], stars['dec'], marker='o', edgecolor='limegreen', facecolor='none', label='Gaia Stars', transform=ax.get_transform('world'))\n",
    "\n",
    "legend_elements = [Line2D([0], [0], marker='s', markersize=12, color='none', markeredgecolor='magenta', markerfacecolor='none', label=r'$5^\\prime\\times5^\\prime$ Cutouts'),\n",
    "                   Line2D([0], [0], marker='o', markersize=12, color='none', markeredgecolor='cyan', markerfacecolor='none', label='ISCS Clusters (1 Mpc radius)')]\n",
    "ax.legend(handles=legend_elements, loc='lower left', frameon=False)\n",
    "ax.set(xlabel='Right Ascension', ylabel='Declination')\n",
    "plt.tight_layout()\n",
    "# fig.savefig('Data_Repository/Project_Data/SPT-IRAGN/SDWFS_background/Plots/SDWFS_cutout_footprint_with_ISCS.pdf', dpi=500)"
   ],
   "metadata": {
    "collapsed": false,
    "is_executing": true,
    "ExecuteTime": {
     "start_time": "2023-06-16T21:42:53.633930167Z"
    }
   }
  }
 ],
 "metadata": {
  "kernelspec": {
   "display_name": "Python 3",
   "language": "python",
   "name": "python3"
  },
  "language_info": {
   "codemirror_mode": {
    "name": "ipython",
    "version": 2
   },
   "file_extension": ".py",
   "mimetype": "text/x-python",
   "name": "python",
   "nbconvert_exporter": "python",
   "pygments_lexer": "ipython2",
   "version": "2.7.6"
  }
 },
 "nbformat": 4,
 "nbformat_minor": 0
}
