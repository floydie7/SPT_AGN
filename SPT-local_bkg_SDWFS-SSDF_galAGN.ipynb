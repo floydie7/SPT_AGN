{
 "cells": [
  {
   "cell_type": "code",
   "execution_count": 1,
   "id": "initial_id",
   "metadata": {
    "collapsed": true,
    "ExecuteTime": {
     "end_time": "2024-01-24T09:06:26.028182400Z",
     "start_time": "2024-01-24T09:06:25.012919800Z"
    }
   },
   "outputs": [],
   "source": [
    "import glob\n",
    "import json\n",
    "import re\n",
    "\n",
    "import astropy.units as u\n",
    "import matplotlib.pyplot as plt\n",
    "import numpy as np\n",
    "from astropy.coordinates import SkyCoord\n",
    "from astropy.cosmology import FlatLambdaCDM\n",
    "from astropy.io import fits\n",
    "from astropy.table import QTable, vstack, join\n",
    "from astropy.wcs import WCS\n",
    "from scipy.interpolate import interp1d\n",
    "from tqdm import tqdm\n",
    "from tqdm.contrib import tzip\n",
    "\n",
    "cosmo = FlatLambdaCDM(H0=70, Om0=0.3)\n",
    "cluster_id = re.compile(r'SPT-CLJ\\d+-\\d+')"
   ]
  },
  {
   "cell_type": "code",
   "outputs": [],
   "source": [
    "# Set our selection magnitude ranges\n",
    "ch1_bright_mag = 10.0  # Bright-end 3.6 um magnitude\n",
    "ch1_faint_mag = 18.3  # Faint-end 3.6 um magnitude\n",
    "ch2_bright_mag = 10.45  # Bright-end 4.5 um magnitude\n",
    "ch2_faint_mag = 17.48  # Faint-end 4.5 um magnitude\n",
    "\n",
    "# Set our correction factors needed to be able to use IRAC magnitude cuts\n",
    "w1_correction = -0.11\n",
    "w2_correction = -0.07\n",
    "\n",
    "# Set our magnitude binning\n",
    "mag_bin_width = 0.25\n",
    "magnitude_bins = np.arange(ch2_bright_mag, ch2_faint_mag, mag_bin_width)\n",
    "magnitude_bin_centers = magnitude_bins[:-1] + np.diff(magnitude_bins) / 2"
   ],
   "metadata": {
    "collapsed": false,
    "ExecuteTime": {
     "end_time": "2024-01-24T09:06:26.039152200Z",
     "start_time": "2024-01-24T09:06:26.031088600Z"
    }
   },
   "id": "2c0b370cd245c8d3",
   "execution_count": 2
  },
  {
   "cell_type": "code",
   "outputs": [],
   "source": [
    "# Read in the color threshold--redshift relations\n",
    "with open('Data_Repository/Project_Data/SPT-IRAGN/SDWFS_background/SDWFS_purity_color_4.5_17.48.json', 'r') as f:\n",
    "    sdwfs_purity_data = json.load(f)\n",
    "z_bins = sdwfs_purity_data['redshift_bins'][:-1]\n",
    "agn_purity_color = interp1d(z_bins, sdwfs_purity_data['purity_90_colors'], kind='previous')\n",
    "\n",
    "# Read in the annulus information that we previously calculated\n",
    "with open('Data_Repository/Project_Data/SPT-IRAGN/local_backgrounds/SPTcl-local_bkg_annulus.json', 'r') as f:\n",
    "    spt_wise_annuli_data = json.load(f)"
   ],
   "metadata": {
    "collapsed": false,
    "ExecuteTime": {
     "end_time": "2024-01-24T09:06:26.044972800Z",
     "start_time": "2024-01-24T09:06:26.034619600Z"
    }
   },
   "id": "9256a5c0edd814fa",
   "execution_count": 3
  },
  {
   "cell_type": "code",
   "outputs": [],
   "source": [
    "# Read in the SSDF catalog\n",
    "ssdf_template = QTable.read('Data_Repository/Project_Data/SPT-IRAGN/SPTPol/catalogs/ssdf_table_template.cat',\n",
    "                           format='ascii.sextractor')\n",
    "full_ssdf_irac_gals = QTable.read('Data_Repository/Catalogs/SSDF/SSDF2.20170125.v10.public.cat', format='ascii',\n",
    "                   names=ssdf_template.colnames)\n",
    "full_ssdf_irac_gals['I1_MAG_APER4'] = full_ssdf_irac_gals['I1_MAG_APER4'].value\n",
    "full_ssdf_irac_gals['I2_MAG_APER4'] = full_ssdf_irac_gals['I2_MAG_APER4'].value"
   ],
   "metadata": {
    "collapsed": false,
    "ExecuteTime": {
     "end_time": "2024-01-24T09:08:31.761376300Z",
     "start_time": "2024-01-24T09:06:26.047513100Z"
    }
   },
   "id": "a2187fad8a418bc0",
   "execution_count": 4
  },
  {
   "cell_type": "code",
   "outputs": [],
   "source": [
    "# # Read in the SSDF IRAC galaxy catalogs\n",
    "# ssdf_irac_gals = []\n",
    "ssdf_irac_fnames = glob.glob('Data_Repository/Project_Data/SPT-IRAGN/local_backgrounds/catalogs/ssdf_irac/'\n",
    "                             '*_ssdf-irac_local_bkg.ecsv')\n",
    "ssdf_spt_ids = [cluster_id.search(name).group(0) for name in ssdf_irac_fnames]\n",
    "# for ssdf_irac_fname in tqdm(ssdf_irac_fnames, desc='Reading in SSDF IRAC catalogs'):\n",
    "#     ssdf_irac_gal = QTable.read(ssdf_irac_fname)\n",
    "# \n",
    "#     # Fix magnitude column units\n",
    "#     for mag_colname in [colname for colname in ssdf_irac_gal.colnames if '_MAG' in colname]:\n",
    "#         ssdf_irac_gal[mag_colname] = ssdf_irac_gal[mag_colname].value\n",
    "#     ssdf_irac_gals.append(ssdf_irac_gal)\n",
    "# ssdf_irac_gals = vstack(ssdf_irac_gals)"
   ],
   "metadata": {
    "collapsed": false,
    "ExecuteTime": {
     "end_time": "2024-01-24T09:08:31.796346800Z",
     "start_time": "2024-01-24T09:08:31.763282300Z"
    }
   },
   "id": "d5205a5a5055e964",
   "execution_count": 5
  },
  {
   "cell_type": "code",
   "outputs": [
    {
     "data": {
      "text/plain": "Processing SPT WISE Catalogs:   0%|          | 0/74 [00:00<?, ?it/s]",
      "application/vnd.jupyter.widget-view+json": {
       "version_major": 2,
       "version_minor": 0,
       "model_id": "e43e0d5e0ddd4280a3e91b2ee41a2136"
      }
     },
     "metadata": {},
     "output_type": "display_data"
    }
   ],
   "source": [
    "# Read in and process the SPT WISE galaxy catalogs\n",
    "ssdf_wise_gals = []\n",
    "ssdf_wise_fnames = glob.glob('Data_Repository/Project_Data/SPT-IRAGN/local_backgrounds/catalogs/*_wise_local_bkg.ecsv')\n",
    "ssdf_wise_fnames = [wise_fname for wise_fname in ssdf_wise_fnames\n",
    "                    if any(irac_fname in wise_fname for irac_fname in ssdf_spt_ids)]\n",
    "for cluster_name, ssdf_wise_fname in tzip(ssdf_spt_ids, ssdf_wise_fnames, desc='Processing SPT WISE Catalogs'):\n",
    "    ssdf_wise_gal = QTable.read(ssdf_wise_fname)\n",
    "\n",
    "    # Remove the problematic units on the flux columns\n",
    "    for flux_colname in [colname for colname in ssdf_wise_gal.colnames if 'flux' in colname]:\n",
    "        ssdf_wise_gal[flux_colname] = ssdf_wise_gal[flux_colname].value\n",
    "\n",
    "    # Excise the cluster and only select objects in our chosen annulus\n",
    "    # spt_wise_gal_cluster_coord = SkyCoord(ssdf_wise_gal['SZ_RA'][0], ssdf_wise_gal['SZ_DEC'][0], unit=u.deg)\n",
    "    # spt_wise_gal_coords = SkyCoord(ssdf_wise_gal['ra'], ssdf_wise_gal['dec'], unit=u.deg)\n",
    "    # spt_wise_gal_sep_deg = spt_wise_gal_cluster_coord.separation(spt_wise_gal_coords)\n",
    "    ssdf_wise_gals.append(ssdf_wise_gal)\n",
    "ssdf_wise_gals = vstack(ssdf_wise_gals)"
   ],
   "metadata": {
    "collapsed": false,
    "ExecuteTime": {
     "end_time": "2024-01-24T09:14:12.371821400Z",
     "start_time": "2024-01-24T09:12:04.309430600Z"
    }
   },
   "id": "e3311d913deb0d43",
   "execution_count": 7
  },
  {
   "cell_type": "code",
   "outputs": [],
   "source": [
    "# Select clusters within 0.6 < z <= 0.8\n",
    "ssdf_wise_gals = ssdf_wise_gals[(0.6 < ssdf_wise_gals['REDSHIFT']) & (ssdf_wise_gals['REDSHIFT'] <= 0.8)]\n",
    "\n",
    "# Convert the R200 radii to degrees so we can easily do cuts\n",
    "ssdf_wise_gals['R200_deg'] = ssdf_wise_gals['R200'] * cosmo.arcsec_per_kpc_proper(ssdf_wise_gals['REDSHIFT']).to(u.deg/u.Mpc)\n",
    "\n",
    "# Compute separations within each cluster\n",
    "wise_clusters = []\n",
    "for cluster in ssdf_wise_gals.group_by('SPT_ID').groups:\n",
    "    center_coord = SkyCoord(cluster['SZ_RA'][0], cluster['SZ_DEC'][0], unit=u.deg)\n",
    "    coords = SkyCoord(cluster['ra'], cluster['dec'], unit=u.deg)\n",
    "    \n",
    "    cluster['cluster_radial_sep'] = center_coord.separation(coords)\n",
    "    wise_clusters.append(cluster)\n",
    "ssdf_wise_gals = vstack(wise_clusters)\n",
    "    "
   ],
   "metadata": {
    "collapsed": false,
    "ExecuteTime": {
     "end_time": "2024-01-24T09:14:14.225967800Z",
     "start_time": "2024-01-24T09:14:12.371408300Z"
    }
   },
   "id": "59e232bba85864f6",
   "execution_count": 8
  },
  {
   "cell_type": "code",
   "outputs": [],
   "source": [
    "# create versions of the catalog for different radial bins\n",
    "ssdf_wise_gals_inner_r200 = ssdf_wise_gals[ssdf_wise_gals['cluster_radial_sep'] < ssdf_wise_gals['R200_deg']]\n",
    "ssdf_wise_gals_1_3r200 = ssdf_wise_gals[(ssdf_wise_gals['R200_deg'] < ssdf_wise_gals['cluster_radial_sep']) & (ssdf_wise_gals['cluster_radial_sep'] <= 3 * ssdf_wise_gals['R200_deg'])]\n",
    "ssdf_wise_gals_3_5r200 = ssdf_wise_gals[(3 * ssdf_wise_gals['R200_deg'] < ssdf_wise_gals['cluster_radial_sep']) & (ssdf_wise_gals['cluster_radial_sep'] <= 5 * ssdf_wise_gals['R200_deg'])]\n",
    "ssdf_wise_gals_5_7r200 = ssdf_wise_gals[(5 * ssdf_wise_gals['R200_deg'] < ssdf_wise_gals['cluster_radial_sep']) & (ssdf_wise_gals['cluster_radial_sep'] < 7 * ssdf_wise_gals['R200_deg'])]"
   ],
   "metadata": {
    "collapsed": false,
    "ExecuteTime": {
     "end_time": "2024-01-24T09:14:14.281199300Z",
     "start_time": "2024-01-24T09:14:14.228616400Z"
    }
   },
   "id": "3965512d71dda31a",
   "execution_count": 9
  },
  {
   "cell_type": "code",
   "outputs": [],
   "source": [
    "# Read in the full SDWFS IRAC galaxy catalog\n",
    "sdwfs_irac_gal = QTable.read(\n",
    "    'Data_Repository/Catalogs/Bootes/SDWFS/ch2v33_sdwfs_2009mar3_apcorr_matched_ap4_Main_v0.4.cat.gz',\n",
    "    format='ascii', names=['ID', 'ALPHA_J2000', 'DELTA_J2000',\n",
    "                           'B_APFLUX4', 'R_APFLUX4', 'I_APFLUX4',\n",
    "                           'B_APFLUXERR4', 'R_APFLUXERR4', 'I_APFLUXERR4',\n",
    "                           'B_APMAG4', 'R_APMAG4', 'I_APMAG4',\n",
    "                           'B_APMAGERR4', 'R_APMAGERR4', 'I_APMAGERR4',\n",
    "                           'I1_FLUX_APER4', 'I2_FLUX_APER4', 'I3_FLUX_APER4', 'I4_FLUX_APER4',\n",
    "                           'I1_FLUXERR_APER4', 'I2_FLUXERR_APER4', 'I3_FLUXERR_APER4', 'I4_FLUXERR_APER4',\n",
    "                           'I1_FLUX_APER4_BROWN', 'I2_FLUX_APER4_BROWN', 'I3_FLUX_APER4_BROWN',\n",
    "                           'I4_FLUX_APER4_BROWN',\n",
    "                           'I1_MAG_APER4', 'I2_MAG_APER4', 'I3_MAG_APER4', 'I4_MAG_APER4',\n",
    "                           'I1_MAGERR_APER4', 'I2_MAGERR_APER4', 'I3_MAGERR_APER4', 'I4_MAGERR_APER4',\n",
    "                           'I1_MAGERR_APER4_BROWN', 'I2_MAGERR_APER4_BROWN', 'I3_MAGERR_APER4_BROWN',\n",
    "                           'I4_MAGERR_APER4_BROWN',\n",
    "                           'STARS_COLOR', 'STARS_MORPH', 'CLASS_STAR', 'MBZ_FLAG_4_4_4'])\n",
    "# Read in the SDWFS Photo-z catalog\n",
    "sdwfs_photo_z_catalog = QTable.read('Data_Repository/Catalogs/Bootes/SDWFS/mbz_v0.06_prior_bri12_18p8.cat.gz',\n",
    "                                    names=['ID', 'REDSHIFT', 'col3', 'col4', 'col5', 'col6', 'col7'],\n",
    "                                    format='ascii',\n",
    "                                    include_names=['ID', 'REDSHIFT'])\n",
    "# Merge the redshift information into the full catalog\n",
    "sdwfs_irac_gals = join(sdwfs_irac_gal, sdwfs_photo_z_catalog, keys='ID')"
   ],
   "metadata": {
    "collapsed": false,
    "ExecuteTime": {
     "end_time": "2024-01-24T09:14:39.444594200Z",
     "start_time": "2024-01-24T09:14:14.283331800Z"
    }
   },
   "id": "572b7eb358ad8495",
   "execution_count": 10
  },
  {
   "cell_type": "code",
   "outputs": [],
   "source": [
    "# Read in the SDWFS WISE galaxy catalog\n",
    "sdwfs_wise_gals = QTable.read('Data_Repository/Catalogs/Bootes/SDWFS/SDWFS_catWISE.ecsv')\n",
    "\n",
    "# Read in the SDWFS mask image and WCS\n",
    "sdwfs_mask_img, sdwfs_mask_hdr = fits.getdata('Data_Repository/Project_Data/SPT-IRAGN/Masks/SDWFS/'\n",
    "                                              'SDWFS_full-field_cov_mask11_11.fits', header=True)\n",
    "sdwfs_wcs = WCS(sdwfs_mask_hdr)\n",
    "\n",
    "# Convert the mask image into a boolean mask\n",
    "sdwfs_mask_img = sdwfs_mask_img.astype(bool)\n",
    "\n",
    "xy_coords = np.array(sdwfs_wcs.world_to_array_index(SkyCoord(sdwfs_wise_gals['ra'], sdwfs_wise_gals['dec'],\n",
    "                                                             unit=u.deg)))\n",
    "\n",
    "# Filter the WISE galaxies using the mask\n",
    "sdwfs_wise_gals = sdwfs_wise_gals[sdwfs_mask_img[*xy_coords]]"
   ],
   "metadata": {
    "collapsed": false,
    "ExecuteTime": {
     "end_time": "2024-01-24T09:15:59.433693600Z",
     "start_time": "2024-01-24T09:14:39.447602400Z"
    }
   },
   "id": "c4ca2b5b5de67a3d",
   "execution_count": 11
  },
  {
   "cell_type": "code",
   "outputs": [],
   "source": [
    "# Correct the photometry on the WISE catalogs to be aligned with the IRAC photometry\n",
    "ssdf_wise_gals['w1mpro'] += w1_correction * u.mag\n",
    "ssdf_wise_gals['w2mpro'] += w2_correction * u.mag\n",
    "\n",
    "sdwfs_wise_gals['w1mpro'] += w1_correction * u.mag\n",
    "sdwfs_wise_gals['w2mpro'] += w2_correction * u.mag\n",
    "\n",
    "ssdf_wise_gals_inner_r200['w1mpro'] += w1_correction * u.mag\n",
    "ssdf_wise_gals_inner_r200['w2mpro'] += w2_correction * u.mag\n",
    "\n",
    "ssdf_wise_gals_1_3r200['w1mpro'] += w1_correction * u.mag\n",
    "ssdf_wise_gals_1_3r200['w2mpro'] += w2_correction * u.mag\n",
    "\n",
    "ssdf_wise_gals_3_5r200['w1mpro'] += w1_correction * u.mag\n",
    "ssdf_wise_gals_3_5r200['w2mpro'] += w2_correction * u.mag\n",
    "\n",
    "ssdf_wise_gals_5_7r200['w1mpro'] += w1_correction * u.mag\n",
    "ssdf_wise_gals_5_7r200['w2mpro'] += w2_correction * u.mag"
   ],
   "metadata": {
    "collapsed": false,
    "ExecuteTime": {
     "end_time": "2024-01-24T09:15:59.445670600Z",
     "start_time": "2024-01-24T09:15:59.435404200Z"
    }
   },
   "id": "1ac37dec5ad54d28",
   "execution_count": 12
  },
  {
   "cell_type": "code",
   "outputs": [],
   "source": [
    "# Apply the magnitude cuts to all four catalogs\n",
    "# ssdf_irac_gals = ssdf_irac_gals[(ch1_bright_mag < ssdf_irac_gals['I1_MAG_APER4']) &\n",
    "#                                 (ssdf_irac_gals['I1_MAG_APER4'] <= ch1_faint_mag) &\n",
    "#                                 (ch2_bright_mag < ssdf_irac_gals['I2_MAG_APER4']) &\n",
    "#                                 (ssdf_irac_gals['I2_MAG_APER4'] <= ch2_faint_mag)]\n",
    "ssdf_wise_gals = ssdf_wise_gals[(ch1_bright_mag < ssdf_wise_gals['w1mpro'].value) &\n",
    "                                (ssdf_wise_gals['w1mpro'].value <= ch1_faint_mag) &\n",
    "                                (ch2_bright_mag < ssdf_wise_gals['w2mpro'].value) &\n",
    "                                (ssdf_wise_gals['w2mpro'].value <= ch2_faint_mag)]\n",
    "sdwfs_irac_gals = sdwfs_irac_gals[(ch1_bright_mag < sdwfs_irac_gals['I1_MAG_APER4']) &\n",
    "                                  (sdwfs_irac_gals['I1_MAG_APER4'] <= ch1_faint_mag) &\n",
    "                                  (ch2_bright_mag < sdwfs_irac_gals['I2_MAG_APER4']) &\n",
    "                                  (sdwfs_irac_gals['I2_MAG_APER4'] <= ch2_faint_mag)]\n",
    "sdwfs_wise_gals = sdwfs_wise_gals[(ch1_bright_mag < sdwfs_wise_gals['w1mpro'].value) &\n",
    "                                  (sdwfs_wise_gals['w1mpro'].value <= ch1_faint_mag) &\n",
    "                                  (ch2_bright_mag < sdwfs_wise_gals['w2mpro'].value) &\n",
    "                                  (sdwfs_wise_gals['w2mpro'].value <= ch2_faint_mag)]\n",
    "\n",
    "full_ssdf_irac_gals = full_ssdf_irac_gals[(ch1_bright_mag < full_ssdf_irac_gals['I1_MAG_APER4']) &\n",
    "                                          (full_ssdf_irac_gals['I1_MAG_APER4'] <= ch1_faint_mag) &\n",
    "                                          (ch2_bright_mag < full_ssdf_irac_gals['I2_MAG_APER4']) &\n",
    "                                          (full_ssdf_irac_gals['I2_MAG_APER4'] <= ch2_faint_mag)]\n",
    "\n",
    "ssdf_wise_gals_inner_r200 = ssdf_wise_gals_inner_r200[(ch1_bright_mag < ssdf_wise_gals_inner_r200['w1mpro'].value) &\n",
    "                                                      (ssdf_wise_gals_inner_r200['w1mpro'].value <= ch1_faint_mag) &\n",
    "                                                      (ch2_bright_mag < ssdf_wise_gals_inner_r200['w2mpro'].value) &\n",
    "                                                      (ssdf_wise_gals_inner_r200['w2mpro'].value <= ch2_faint_mag)]\n",
    "ssdf_wise_gals_1_3r200 = ssdf_wise_gals_1_3r200[(ch1_bright_mag < ssdf_wise_gals_1_3r200['w1mpro'].value) &\n",
    "                                                      (ssdf_wise_gals_1_3r200['w1mpro'].value <= ch1_faint_mag) &\n",
    "                                                      (ch2_bright_mag < ssdf_wise_gals_1_3r200['w2mpro'].value) &\n",
    "                                                      (ssdf_wise_gals_1_3r200['w2mpro'].value <= ch2_faint_mag)]\n",
    "ssdf_wise_gals_3_5r200 = ssdf_wise_gals_3_5r200[(ch1_bright_mag < ssdf_wise_gals_3_5r200['w1mpro'].value) &\n",
    "                                                      (ssdf_wise_gals_3_5r200['w1mpro'].value <= ch1_faint_mag) &\n",
    "                                                      (ch2_bright_mag < ssdf_wise_gals_3_5r200['w2mpro'].value) &\n",
    "                                                      (ssdf_wise_gals_3_5r200['w2mpro'].value <= ch2_faint_mag)]\n",
    "ssdf_wise_gals_5_7r200 = ssdf_wise_gals_5_7r200[(ch1_bright_mag < ssdf_wise_gals_5_7r200['w1mpro'].value) &\n",
    "                                                      (ssdf_wise_gals_5_7r200['w1mpro'].value <= ch1_faint_mag) &\n",
    "                                                      (ch2_bright_mag < ssdf_wise_gals_5_7r200['w2mpro'].value) &\n",
    "                                                      (ssdf_wise_gals_5_7r200['w2mpro'].value <= ch2_faint_mag)]\n",
    "\n",
    "\n",
    "# sdwfs_wise_agn = sdwfs_wise_gals[sdwfs_wise_gals['w1mpro'].value - sdwfs_wise_gals['w2mpro'].value >= agn_purity_color(0.8)]\n",
    "# sdwfs_irac_agn = sdwfs_irac_gals[sdwfs_irac_gals['I1_MAG_APER4'] - sdwfs_irac_gals['I2_MAG_APER4'] >= agn_purity_color(0.8)]\n",
    "# ssdf_wise_agn = ssdf_wise_gals[ssdf_wise_gals['w1mpro'].value - ssdf_wise_gals['w2mpro'].value >= agn_purity_color(0.8)]\n",
    "# ssdf_irac_agn = ssdf_irac_gals[ssdf_irac_gals['I1_MAG_APER4'] - ssdf_irac_gals['I2_MAG_APER4'] >= agn_purity_color(0.8)]"
   ],
   "metadata": {
    "collapsed": false,
    "ExecuteTime": {
     "end_time": "2024-01-24T09:16:00.388687300Z",
     "start_time": "2024-01-24T09:15:59.450589Z"
    }
   },
   "id": "4c3366f031bc3f92",
   "execution_count": 13
  },
  {
   "cell_type": "code",
   "outputs": [],
   "source": [
    "# We will need the total areas for both of the fields used\n",
    "ssdf_area = np.sum([data['annulus_area'] for data in spt_wise_annuli_data.values()]) * u.deg**2\n",
    "sdwfs_area = np.count_nonzero(sdwfs_mask_img) * sdwfs_wcs.proj_plane_pixel_area()\n",
    "full_ssdf_area = 94 * u.deg**2 # Ashby+13\n",
    "\n",
    "# Calculate our weighting factors\n",
    "ssdf_dndm_weight = ssdf_area.value * mag_bin_width\n",
    "sdwfs_dndm_weight = sdwfs_area.value * mag_bin_width\n",
    "full_ssdf_weight = full_ssdf_area * mag_bin_width"
   ],
   "metadata": {
    "collapsed": false,
    "ExecuteTime": {
     "end_time": "2024-01-24T09:16:00.408525600Z",
     "start_time": "2024-01-24T09:16:00.389201500Z"
    }
   },
   "id": "f8a317b758d772f1",
   "execution_count": 14
  },
  {
   "cell_type": "code",
   "outputs": [],
   "source": [
    "# Calculate the areas for each of the radial versions of th ssdf wise catalog\n",
    "ssdf_wise_gals_inner_r200_area = np.sum([np.pi * cluster['R200_deg'][0].value**2 for cluster in ssdf_wise_gals_inner_r200.group_by('SPT_ID').groups])\n",
    "ssdf_wise_gals_1_3r200_area = np.sum([np.pi * (3 * cluster['R200_deg'][0].value**2 - cluster['R200_deg'][0].value**2) for cluster in ssdf_wise_gals_1_3r200.group_by('SPT_ID').groups])\n",
    "ssdf_wise_gals_3_5r200_area = np.sum([np.pi * (5 * cluster['R200_deg'][0].value**2 - 3 * cluster['R200_deg'][0].value**2) for cluster in ssdf_wise_gals_3_5r200.group_by('SPT_ID').groups])\n",
    "ssdf_wise_gals_5_7r200_area = np.sum([np.pi * (7 * cluster['R200_deg'][0].value**2 - 5 * cluster['R200_deg'][0].value**2) for cluster in ssdf_wise_gals_5_7r200.group_by('SPT_ID').groups])\n",
    "\n",
    "# Calculate weighting factors\n",
    "ssdf_wise_gals_inner_r200_weight = ssdf_wise_gals_inner_r200_area * mag_bin_width\n",
    "ssdf_wise_gals_1_3r200_weight = ssdf_wise_gals_1_3r200_area * mag_bin_width\n",
    "ssdf_wise_gals_3_5r200_weight = ssdf_wise_gals_3_5r200_area * mag_bin_width\n",
    "ssdf_wise_gals_5_7r200_weight = ssdf_wise_gals_5_7r200_area * mag_bin_width"
   ],
   "metadata": {
    "collapsed": false,
    "ExecuteTime": {
     "end_time": "2024-01-24T09:18:30.187557200Z",
     "start_time": "2024-01-24T09:18:30.119221400Z"
    }
   },
   "id": "69d39f9442bf8e5d",
   "execution_count": 20
  },
  {
   "cell_type": "code",
   "outputs": [
    {
     "data": {
      "text/plain": "<Quantity [382.45727285, 764.91454569, 764.91454569, 764.91454569] arcmin2>",
      "text/latex": "$[382.45727,~764.91455,~764.91455,~764.91455] \\; \\mathrm{arcmin^{2}}$"
     },
     "execution_count": 28,
     "metadata": {},
     "output_type": "execute_result"
    }
   ],
   "source": [
    "u.Quantity([ssdf_wise_gals_inner_r200_area, ssdf_wise_gals_1_3r200_area, ssdf_wise_gals_3_5r200_area, ssdf_wise_gals_5_7r200_area], unit=u.deg**2).to(u.arcmin**2)"
   ],
   "metadata": {
    "collapsed": false,
    "ExecuteTime": {
     "end_time": "2024-01-24T09:22:47.905694900Z",
     "start_time": "2024-01-24T09:22:47.901621700Z"
    }
   },
   "id": "75fc6619fb6ae3b",
   "execution_count": 28
  },
  {
   "cell_type": "code",
   "outputs": [],
   "source": [
    "full_ssdf_irac_agn = full_ssdf_irac_gals[full_ssdf_irac_gals['I1_MAG_APER4'] - full_ssdf_irac_gals['I2_MAG_APER4'] >= agn_purity_color(0.6)]\n",
    "sdwfs_irac_agn = sdwfs_irac_gals[sdwfs_irac_gals['I1_MAG_APER4'] - sdwfs_irac_gals['I2_MAG_APER4'] >= agn_purity_color(0.6)]"
   ],
   "metadata": {
    "collapsed": false,
    "ExecuteTime": {
     "end_time": "2024-01-24T09:38:08.084082200Z",
     "start_time": "2024-01-24T09:38:07.861159700Z"
    }
   },
   "id": "a95e2a2ad87b85f8",
   "execution_count": 36
  },
  {
   "cell_type": "code",
   "outputs": [],
   "source": [
    "# Compute the histograms\n",
    "# ssdf_irac_dndm, _ = np.histogram(ssdf_irac_gals['I2_MAG_APER4'], bins=magnitude_bins)\n",
    "# ssdf_irac_dndm_weighted = ssdf_irac_dndm / ssdf_dndm_weight\n",
    "\n",
    "ssdf_wise_dndm, _ = np.histogram(ssdf_wise_gals['w2mpro'].value, bins=magnitude_bins)\n",
    "ssdf_wise_dndm_weighted = ssdf_wise_dndm / ssdf_dndm_weight\n",
    "\n",
    "sdwfs_irac_dndm, _ = np.histogram(sdwfs_irac_gals['I2_MAG_APER4'], bins=magnitude_bins)\n",
    "sdwfs_irac_dndm_weighted = sdwfs_irac_dndm / sdwfs_dndm_weight\n",
    "\n",
    "sdwfs_wise_dndm, _ = np.histogram(sdwfs_wise_gals['w2mpro'].value, bins=magnitude_bins)\n",
    "sdwfs_wise_dndm_weighted = sdwfs_wise_dndm / sdwfs_dndm_weight\n",
    "\n",
    "full_ssdf_irac_gals_dndm, _ = np.histogram(full_ssdf_irac_gals['I2_MAG_APER4'], bins=magnitude_bins)\n",
    "full_ssdf_irac_gals_dndm_weighted = full_ssdf_irac_gals_dndm / full_ssdf_weight\n",
    "\n",
    "full_ssdf_irac_agn_dndm, _ = np.histogram(full_ssdf_irac_agn['I2_MAG_APER4'], bins=magnitude_bins)\n",
    "full_ssdf_irac_agn_dndm_weighted = full_ssdf_irac_agn_dndm / full_ssdf_weight\n",
    "\n",
    "sdwfs_irac_agn_dndm, _ = np.histogram(sdwfs_irac_agn['I2_MAG_APER4'], bins=magnitude_bins)\n",
    "sdwfs_irac_agn_dndm_weighted = sdwfs_irac_agn_dndm / sdwfs_dndm_weight\n",
    "\n",
    "# sdwfs_wise_agn_dndm, _ = np.histogram(sdwfs_wise_agn['w2mpro'].value, bins=magnitude_bins)\n",
    "# sdwfs_wise_agn_dndm_weighted = sdwfs_wise_agn_dndm / sdwfs_dndm_weight\n",
    "# \n",
    "# sdwfs_irac_agn_dndm, _ = np.histogram(sdwfs_irac_agn['I2_MAG_APER4'], bins=magnitude_bins)\n",
    "# sdwfs_irac_agn_dndm_weighted = sdwfs_irac_agn_dndm / sdwfs_dndm_weight\n",
    "# \n",
    "# ssdf_wise_agn_dndm, _ = np.histogram(ssdf_wise_agn['w2mpro'].value, bins=magnitude_bins)\n",
    "# ssdf_wise_agn_dndm_weighted = ssdf_wise_agn_dndm / ssdf_dndm_weight\n",
    "# \n",
    "# ssdf_irac_agn_dndm, _ = np.histogram(ssdf_irac_agn['I2_MAG_APER4'], bins=magnitude_bins)\n",
    "# ssdf_irac_agn_dndm_weighted = ssdf_irac_agn_dndm / ssdf_dndm_weight\n",
    "\n",
    "ssdf_wise_gals_inner_r200_dndm, _ = np.histogram(ssdf_wise_gals_inner_r200['w2mpro'].value, bins=magnitude_bins)\n",
    "ssdf_wise_gals_inner_r200_dndm_weighted = ssdf_wise_gals_inner_r200_dndm / ssdf_wise_gals_inner_r200_weight\n",
    "\n",
    "ssdf_wise_gals_1_3r200_dndm, _ = np.histogram(ssdf_wise_gals_1_3r200['w2mpro'].value, bins=magnitude_bins)\n",
    "ssdf_wise_gals_1_3r200_dndm_weighted = ssdf_wise_gals_1_3r200_dndm / ssdf_wise_gals_1_3r200_weight\n",
    "\n",
    "ssdf_wise_gals_3_5r200_dndm, _ = np.histogram(ssdf_wise_gals_3_5r200['w2mpro'].value, bins=magnitude_bins)\n",
    "ssdf_wise_gals_3_5r200_dndm_weighted = ssdf_wise_gals_3_5r200_dndm / ssdf_wise_gals_3_5r200_weight\n",
    "\n",
    "ssdf_wise_gals_5_7r200_dndm, _ = np.histogram(ssdf_wise_gals_5_7r200['w2mpro'].value, bins=magnitude_bins)\n",
    "ssdf_wise_gals_5_7r200_dndm_weighted = ssdf_wise_gals_5_7r200_dndm / ssdf_wise_gals_5_7r200_weight"
   ],
   "metadata": {
    "collapsed": false,
    "ExecuteTime": {
     "end_time": "2024-01-24T09:40:01.565511700Z",
     "start_time": "2024-01-24T09:40:01.433531400Z"
    }
   },
   "id": "f75dcbd165ea6961",
   "execution_count": 37
  },
  {
   "cell_type": "code",
   "outputs": [],
   "source": [
    "# Calculate the errors\n",
    "# ssdf_irac_dndm_err = np.sqrt(ssdf_irac_dndm) / ssdf_dndm_weight\n",
    "ssdf_wise_dndm_err = np.sqrt(sdwfs_wise_dndm) / ssdf_dndm_weight\n",
    "\n",
    "sdwfs_irac_dndm_err = np.sqrt(sdwfs_irac_dndm) / sdwfs_dndm_weight\n",
    "sdwfs_wise_dndm_err = np.sqrt(sdwfs_wise_dndm) / sdwfs_dndm_weight\n",
    "\n",
    "full_ssdf_irac_gals_dndm_err = np.sqrt(full_ssdf_irac_gals_dndm) / full_ssdf_weight\n",
    "\n",
    "full_ssdf_irac_agn_dndm_err = np.sqrt(full_ssdf_irac_agn_dndm) / full_ssdf_weight\n",
    "\n",
    "sdwfs_irac_agn_dndm_err = np.sqrt(sdwfs_irac_agn_dndm) / sdwfs_dndm_weight\n",
    "\n",
    "# sdwfs_irac_agn_dndm_err = np.sqrt(sdwfs_irac_agn_dndm) / sdwfs_dndm_weight\n",
    "# sdwfs_wise_agn_dndm_err = np.sqrt(sdwfs_wise_agn_dndm) / sdwfs_dndm_weight\n",
    "# \n",
    "# ssdf_irac_agn_dndm_err = np.sqrt(ssdf_irac_agn_dndm) / ssdf_dndm_weight\n",
    "# ssdf_wise_agn_dndm_err = np.sqrt(ssdf_wise_agn_dndm) / ssdf_dndm_weight\n",
    "\n",
    "ssdf_wise_gals_inner_r200_dndm_err = np.sqrt(ssdf_wise_gals_inner_r200_dndm) / ssdf_wise_gals_inner_r200_weight\n",
    "ssdf_wise_gals_1_3r200_dndm_err = np.sqrt(ssdf_wise_gals_1_3r200_dndm) / ssdf_wise_gals_1_3r200_weight\n",
    "ssdf_wise_gals_3_5r200_dndm_err = np.sqrt(ssdf_wise_gals_3_5r200_dndm) / ssdf_wise_gals_3_5r200_weight\n",
    "ssdf_wise_gals_5_7r200_dndm_err = np.sqrt(ssdf_wise_gals_5_7r200_dndm) / ssdf_wise_gals_5_7r200_weight"
   ],
   "metadata": {
    "collapsed": false,
    "ExecuteTime": {
     "end_time": "2024-01-24T09:40:31.490138200Z",
     "start_time": "2024-01-24T09:40:31.484794200Z"
    }
   },
   "id": "92a35e0fb4742e47",
   "execution_count": 38
  },
  {
   "cell_type": "code",
   "outputs": [
    {
     "data": {
      "text/plain": "[Text(0.5, 0, '[4.5] or W2 (Vega)'),\n Text(0, 0.5, '$dN/dm$ [deg$^{-2}$ mag$^{-1}$]'),\n None]"
     },
     "execution_count": 39,
     "metadata": {},
     "output_type": "execute_result"
    },
    {
     "data": {
      "text/plain": "<Figure size 640x480 with 1 Axes>",
      "image/png": "[encoded data removed]"
     },
     "metadata": {},
     "output_type": "display_data"
    }
   ],
   "source": [
    "fig, ax = plt.subplots()\n",
    "ax.errorbar(magnitude_bin_centers, sdwfs_irac_dndm_weighted, yerr=sdwfs_irac_dndm_err, xerr=mag_bin_width/2, fmt='.', label='SDWFS IRAC galaxies')\n",
    "ax.errorbar(magnitude_bin_centers, full_ssdf_irac_gals_dndm_weighted, yerr=full_ssdf_irac_gals_dndm_err, xerr=mag_bin_width/2, fmt='.', label='Full SSDF IRAC galaxies')\n",
    "ax.errorbar(magnitude_bin_centers, sdwfs_wise_dndm_weighted, xerr=mag_bin_width/2, fmt='.', label='SDWFS WISE galaxies')\n",
    "ax.errorbar(magnitude_bin_centers, full_ssdf_irac_agn_dndm_weighted, yerr=full_ssdf_irac_gals_dndm_err, xerr=mag_bin_width/2,\n",
    "            fmt='.', label='Full SSDF IRAC AGN')\n",
    "\n",
    "ax.errorbar(magnitude_bin_centers, sdwfs_irac_agn_dndm_weighted, yerr=sdwfs_irac_agn_dndm_err, xerr=mag_bin_width/2,\n",
    "            fmt='.', label='SDWFS IRAC AGN')\n",
    "# ax.errorbar(magnitude_bin_centers, ssdf_wise_gals_inner_r200_dndm_weighted, yerr=ssdf_wise_gals_inner_r200_dndm_err, xerr=mag_bin_width/2, fmt='.', label=r'SSDF WISE galaxies $< r_{200}$')\n",
    "# ax.errorbar(magnitude_bin_centers, ssdf_wise_gals_1_3r200_dndm_weighted, yerr=ssdf_wise_gals_1_3r200_dndm_err, xerr=mag_bin_width/2, fmt='.', label=r'SSDF WISE galaxies $1 < r/r_{200} \\leq 3$')\n",
    "# ax.errorbar(magnitude_bin_centers, ssdf_wise_gals_3_5r200_dndm_weighted, yerr=ssdf_wise_gals_3_5r200_dndm_err, xerr=mag_bin_width/2, fmt='.', label=r'SSDF WISE galaxies $3 < r/r_{200} \\leq 5$')\n",
    "# ax.errorbar(magnitude_bin_centers, ssdf_wise_gals_5_7r200_dndm_weighted, yerr=ssdf_wise_gals_5_7r200_dndm_err, xerr=mag_bin_width/2, fmt='.', label=r'SSDF WISE galaxies $5 < r/r_{200} \\leq 7$')\n",
    "ax.legend()\n",
    "ax.set(xlabel='[4.5] or W2 (Vega)', ylabel=r'$dN/dm$ [deg$^{-2}$ mag$^{-1}$]', yscale='log')"
   ],
   "metadata": {
    "collapsed": false,
    "ExecuteTime": {
     "end_time": "2024-01-24T09:40:58.733881100Z",
     "start_time": "2024-01-24T09:40:58.379373900Z"
    }
   },
   "id": "f9cc6921afad7ae2",
   "execution_count": 39
  }
 ],
 "metadata": {
  "kernelspec": {
   "display_name": "Python 3",
   "language": "python",
   "name": "python3"
  },
  "language_info": {
   "codemirror_mode": {
    "name": "ipython",
    "version": 2
   },
   "file_extension": ".py",
   "mimetype": "text/x-python",
   "name": "python",
   "nbconvert_exporter": "python",
   "pygments_lexer": "ipython2",
   "version": "2.7.6"
  }
 },
 "nbformat": 4,
 "nbformat_minor": 5
}
