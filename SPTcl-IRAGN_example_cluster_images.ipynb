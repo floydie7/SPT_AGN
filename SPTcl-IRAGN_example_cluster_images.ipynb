{
 "cells": [
  {
   "cell_type": "markdown",
   "source": [
    "# SPTcl-IRAGN Example Cluster Images Figure\n",
    "## Author: Benjamin Floyd\n",
    "\n",
    "Creates a publication figure of two example clusters near the median redshift at the extreme mass scales."
   ],
   "metadata": {
    "collapsed": false,
    "pycharm": {
     "name": "#%% md\n"
    }
   }
  },
  {
   "cell_type": "code",
   "execution_count": null,
   "metadata": {
    "collapsed": true,
    "pycharm": {
     "name": "#%%\n"
    }
   },
   "outputs": [],
   "source": [
    "import matplotlib.pyplot as plt\n",
    "import numpy as np\n",
    "from astropy.io import fits\n",
    "from astropy.table import Table\n",
    "from astropy.visualization import imshow_norm, ZScaleInterval, LinearStretch\n",
    "from astropy.wcs import WCS\n",
    "from astropy.cosmology import FlatLambdaCDM\n",
    "import astropy.units as u\n",
    "\n",
    "%matplotlib inline\n",
    "plt.style.use('seaborn-colorblind')\n",
    "cosmo = FlatLambdaCDM(H0=70, Om0=0.3)"
   ]
  },
  {
   "cell_type": "code",
   "execution_count": null,
   "outputs": [],
   "source": [
    "# Read in the catalog\n",
    "sptcl_iragn = Table.read('Data_Repository/Project_Data/SPT-IRAGN/Output/SPTcl_IRAGN.fits')"
   ],
   "metadata": {
    "collapsed": false,
    "pycharm": {
     "name": "#%%\n"
    }
   }
  },
  {
   "cell_type": "code",
   "execution_count": null,
   "outputs": [],
   "source": [
    "# Get the median redshift of the sample\n",
    "med_z = np.median(sptcl_iragn['REDSHIFT'])\n",
    "\n",
    "# Select clusters near the median redshift\n",
    "med_z_clusters = sptcl_iragn[np.abs(sptcl_iragn['REDSHIFT'] - med_z) <= 0.05]"
   ],
   "metadata": {
    "collapsed": false,
    "pycharm": {
     "name": "#%%\n"
    }
   }
  },
  {
   "cell_type": "code",
   "execution_count": null,
   "outputs": [],
   "source": [
    "# Print the SPT IDs of the most and least massive cluster in our list\n",
    "# Most massive cluster: SPT-CLJ0212-4657 (SPT-SZ; IRAC obs id: SPT-CLJ0212-4656)\n",
    "# Least massive cluster: SPT-CLJ2314-5554 (SPTpol 100d)\n",
    "max_cluster_idx, min_cluster_idx = med_z_clusters['M500'].argmax(), med_z_clusters['M500'].argmin()\n",
    "max_cluster_id = med_z_clusters['SPT_ID'][max_cluster_idx]\n",
    "max_cluser_mass = med_z_clusters['M500'][max_cluster_idx]\n",
    "max_cluster_z = med_z_clusters['REDSHIFT'][max_cluster_idx]\n",
    "min_cluster_id = med_z_clusters['SPT_ID'][min_cluster_idx]\n",
    "min_cluser_mass = med_z_clusters['M500'][min_cluster_idx]\n",
    "min_cluster_z = med_z_clusters['REDSHIFT'][min_cluster_idx]\n",
    "print(f\"\"\"Most massive cluster\n",
    "{max_cluster_id}\\tM500 = {max_cluser_mass:.2e} Msun\\tz = {max_cluster_z:.2f}\\trichness = {len(med_z_clusters[med_z_clusters['SPT_ID'] == max_cluster_id])}\n",
    "Least massive cluster\n",
    "{min_cluster_id}\\tM500 = {min_cluser_mass:.2e} Msun\\tz = {min_cluster_z:.2f}\\trichness = {len(med_z_clusters[med_z_clusters['SPT_ID'] == min_cluster_id])}\"\"\")"
   ],
   "metadata": {
    "collapsed": false,
    "pycharm": {
     "name": "#%%\n"
    }
   }
  },
  {
   "cell_type": "code",
   "execution_count": null,
   "outputs": [],
   "source": [
    "# Get the catalogs for each of the clusters\n",
    "spt0212_cat = sptcl_iragn[(sptcl_iragn['SPT_ID'] == f'{max_cluster_id}') & (sptcl_iragn['SELECTION_MEMBERSHIP'] >= 0.5)]\n",
    "spt2314_cat = sptcl_iragn[(sptcl_iragn['SPT_ID'] == f'{min_cluster_id}') & (sptcl_iragn['SELECTION_MEMBERSHIP'] >= 0.5)]"
   ],
   "metadata": {
    "collapsed": false,
    "pycharm": {
     "name": "#%%\n"
    }
   }
  },
  {
   "cell_type": "code",
   "execution_count": null,
   "outputs": [],
   "source": [
    "# Read in the 3.6um images\n",
    "spt0212_img, spt0212_hdr = fits.getdata('Data_Repository/Images/SPT/Spitzer_IRAC/SPT-SZ_2500d/I1_SPT-CLJ0212-4656_mosaic.cutout.fits', header=True)\n",
    "spt2314_img, spt2314_hdr = fits.getdata('Data_Repository/Images/SPT/Spitzer_IRAC/SPTpol_100d/I1_SPT-CLJ2314-5554_mosaic.cutout.fits',header=True)\n",
    "\n",
    "# Get WCSs\n",
    "spt0212_wcs = WCS(spt0212_hdr)\n",
    "spt2314_wcs = WCS(spt2314_hdr)"
   ],
   "metadata": {
    "collapsed": false,
    "pycharm": {
     "name": "#%%\n"
    }
   }
  },
  {
   "cell_type": "code",
   "execution_count": null,
   "outputs": [],
   "source": [
    "# Make plots\n",
    "fig = plt.figure(figsize=(16, 8), tight_layout=dict(w_pad=2))\n",
    "spt0212_ax = fig.add_subplot(121, projection=spt0212_wcs)\n",
    "spt2314_ax = fig.add_subplot(122, projection=spt2314_wcs)\n",
    "spt0212_ax.set(xlabel='Right Ascension', ylabel='Declination')\n",
    "spt2314_ax.set(xlabel='Right Ascension', ylabel=' ')\n",
    "spt2314_ax.coords[0].set_auto_axislabel(False)\n",
    "\n",
    "# Plot the images\n",
    "imshow_norm(spt0212_img, ax=spt0212_ax, origin='lower', cmap='Greys', interval=ZScaleInterval(),\n",
    "            stretch=LinearStretch())\n",
    "imshow_norm(spt2314_img, ax=spt2314_ax, origin='lower', cmap='Greys', interval=ZScaleInterval(),\n",
    "            stretch=LinearStretch())\n",
    "\n",
    "# Plot the AGN\n",
    "spt0212_ax.scatter(spt0212_cat['ALPHA_J2000'], spt0212_cat['DELTA_J2000'], marker='s',\n",
    "                   edgecolor='magenta', facecolor='none', s=300, linewidths=3,\n",
    "                   transform=spt0212_ax.get_transform('world'))\n",
    "spt2314_ax.scatter(spt2314_cat['ALPHA_J2000'], spt2314_cat['DELTA_J2000'], marker='s',\n",
    "                   edgecolor='magenta', facecolor='none', s=300, linewidths=3,\n",
    "                   transform=spt2314_ax.get_transform('world'))\n",
    "# # Add compasses\n",
    "# compass(0.9, 0.1, size=0.1, color='y', ax=spt0212_ax)\n",
    "# compass(0.9, 0.1, size=0.1, color='y', ax=spt2314_ax)\n",
    "# plt.tight_layout()\n",
    "\n",
    "# Add scale bars\n",
    "spt0212_scale = (500 * u.kpc * cosmo.arcsec_per_kpc_proper(max_cluster_z).to(u.deg / u.kpc)\n",
    "                 / spt0212_wcs.proj_plane_pixel_scales()[0])\n",
    "spt2314_scale = (500 * u.kpc * cosmo.arcsec_per_kpc_proper(min_cluster_z).to(u.deg / u.kpc)\n",
    "                 / spt2314_wcs.proj_plane_pixel_scales()[0])\n",
    "spt0212_scale_point = spt0212_ax.transLimits.inverted().transform((0.7, 0.85))\n",
    "spt2314_scale_point = spt2314_ax.transLimits.inverted().transform((0.7, 0.85))\n",
    "spt0212_width = 2 / spt0212_wcs.proj_plane_pixel_scales()[0].to_value(u.arcsec)\n",
    "spt2314_width = 2 / spt2314_wcs.proj_plane_pixel_scales()[0].to_value(u.arcsec)\n",
    "spt0212_offset = 4 / spt0212_wcs.proj_plane_pixel_scales()[0].to_value(u.arcsec)\n",
    "spt2314_offset = 4 / spt2314_wcs.proj_plane_pixel_scales()[0].to_value(u.arcsec)\n",
    "\n",
    "spt0212_ax.arrow(spt0212_scale_point[0], spt0212_scale_point[1], dx=spt0212_scale.value, dy=0,\n",
    "                 head_width=0, head_length=0, fc='white', ec='white', width=spt0212_width)\n",
    "spt2314_ax.arrow(spt2314_scale_point[0], spt2314_scale_point[1], dx=spt2314_scale.value, dy=0,\n",
    "                 head_width=0, head_length=0, fc='white', ec='white', width=spt2314_width)\n",
    "spt0212_ax.text(spt0212_scale_point[0], spt0212_scale_point[1] + spt0212_offset, '500 kpc',\n",
    "                color='white', fontsize='xx-large', fontweight='bold')\n",
    "spt2314_ax.text(spt2314_scale_point[0], spt2314_scale_point[1] + spt0212_offset, '500 kpc',\n",
    "                color='white', fontsize='xx-large', fontweight='bold')\n",
    "plt.tight_layout()\n",
    "fig.savefig('Data_Repository/Project_Data/SPT-IRAGN/Publication_Plots/SPTcl-IRAGN_example_clusters_SPT0212_SPT2314_publication.png')\n",
    "# fig.savefig('Data/Plots/Example_clusters_SPT0212_SPT2314.pdf')\n",
    "plt.show()"
   ],
   "metadata": {
    "collapsed": false,
    "pycharm": {
     "name": "#%%\n"
    }
   }
  }
 ],
 "metadata": {
  "kernelspec": {
   "display_name": "Python 3",
   "language": "python",
   "name": "python3"
  },
  "language_info": {
   "codemirror_mode": {
    "name": "ipython",
    "version": 2
   },
   "file_extension": ".py",
   "mimetype": "text/x-python",
   "name": "python",
   "nbconvert_exporter": "python",
   "pygments_lexer": "ipython2",
   "version": "2.7.6"
  }
 },
 "nbformat": 4,
 "nbformat_minor": 0
}