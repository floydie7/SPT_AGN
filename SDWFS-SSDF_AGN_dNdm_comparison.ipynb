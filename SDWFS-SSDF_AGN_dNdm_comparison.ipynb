{
 "cells": [
  {
   "cell_type": "markdown",
   "id": "e5914367-87c6-44a0-ab96-ebc9ab948809",
   "metadata": {},
   "source": [
    "# SDWFS–SSDF AGN $dN/dm$ Curves\n",
    "Author: Benjamin Floyd\n",
    "\n",
    "Compares the number count distribution curves for both the SDWFS and SSDF IRAC fields"
   ]
  },
  {
   "cell_type": "code",
   "execution_count": 1,
   "id": "356495a2-d90c-4504-b7fc-20f46da24307",
   "metadata": {},
   "outputs": [],
   "source": [
    "import json\n",
    "import numpy as np\n",
    "import astropy.units as u\n",
    "import matplotlib.pyplot as plt\n",
    "from astropy.table import Table, setdiff\n",
    "from astropy.io import fits\n",
    "from astropy.wcs import WCS\n",
    "from scipy.interpolate import interp1d\n",
    "from astropy.coordinates import SkyCoord\n",
    "from matplotlib.colors import TABLEAU_COLORS\n",
    "import matplotlib as mpl"
   ]
  },
  {
   "cell_type": "code",
   "execution_count": 2,
   "id": "25fa1728-6123-4d9c-ae6b-b4a366826418",
   "metadata": {},
   "outputs": [],
   "source": [
    "# Set our selection magnitude ranges\n",
    "ch1_bright_mag = 10.0  # Bright-end 3.6 um magnitude\n",
    "ch1_faint_mag = 18.3  # Faint-end 3.6 um magnitude\n",
    "ch2_bright_mag = 10.45  # Bright-end 4.5 um magnitude\n",
    "ch2_faint_mag = 17.48  # Faint-end 4.5 um magnitude\n",
    "\n",
    "# Set our magnitude binning\n",
    "mag_bin_width = 0.25\n",
    "magnitude_bins = np.arange(10., 18., mag_bin_width)\n",
    "magnitude_bin_centers = magnitude_bins[:-1] + np.diff(magnitude_bins) / 2"
   ]
  },
  {
   "cell_type": "code",
   "execution_count": 3,
   "id": "7050cfd0-028a-4bff-9f89-f59cf3855aca",
   "metadata": {},
   "outputs": [],
   "source": [
    "# Read in the color threshold--redshift relations\n",
    "with open('Data_Repository/Project_Data/SPT-IRAGN/SDWFS_background/SDWFS_purity_color_4.5_17.48.json', 'r') as f:\n",
    "    sdwfs_purity_data = json.load(f)\n",
    "z_bins = sdwfs_purity_data['redshift_bins'][:-1]\n",
    "agn_purity_color = interp1d(z_bins, sdwfs_purity_data['purity_90_colors'], kind='previous')\n",
    "\n",
    "selection_colors = np.array([agn_purity_color(z) for z in z_bins])"
   ]
  },
  {
   "cell_type": "code",
   "execution_count": 4,
   "id": "54b2103f-3b5b-48c6-b800-495fd73530af",
   "metadata": {},
   "outputs": [],
   "source": [
    "# Read in the SDWFS IRAGN catalog\n",
    "sdwfs_agn = Table.read('Data_Repository/Project_Data/SPT-IRAGN/Output/SDWFS_full-field_IRAGN.fits')\n",
    "\n",
    "# Read in the SSDF IRAC catalog\n",
    "ssdf_template = Table.read('Data_Repository/Project_Data/SPT-IRAGN/SPTPol/catalogs/ssdf_table_template.cat', format='ascii.sextractor')\n",
    "ssdf_gals = Table.read('Data_Repository/Catalogs/SSDF/SSDF2.20170125.v10.public.cat', format='ascii', names=ssdf_template.colnames)"
   ]
  },
  {
   "cell_type": "code",
   "execution_count": 5,
   "id": "fb29ce40-26aa-4725-bf1b-87de44a142ba",
   "metadata": {},
   "outputs": [],
   "source": [
    "# Read in the Gaia catalogs for both fields\n",
    "sdwfs_gaia = Table.read('Data_Repository/Catalogs/Bootes/SDWFS/SDWFS_Gaia.fits')\n",
    "ssdf_gaia = Table.read('Data_Repository/Catalogs/SSDF/SSDF_Gaia_sources.fits')\n",
    "\n",
    "sdwfs_gaia = sdwfs_gaia[~(sdwfs_gaia['in_qso_candidates'] | sdwfs_gaia['in_galaxy_candidates'])]\n",
    "ssdf_gaia = ssdf_gaia[~(ssdf_gaia['in_qso_candidates'] | ssdf_gaia['in_galaxy_candidates'])]"
   ]
  },
  {
   "cell_type": "code",
   "execution_count": 6,
   "id": "d017eb41-df24-4add-a8f5-9d6d9c5ef3f5",
   "metadata": {},
   "outputs": [],
   "source": [
    "# Match the Gaia sources to the catalogs\n",
    "sdwfs_agn_coords = SkyCoord(sdwfs_agn['ALPHA_J2000'], sdwfs_agn['DELTA_J2000'], unit=u.deg)\n",
    "sdwfs_gaia_coords = SkyCoord(sdwfs_gaia['ra'], sdwfs_gaia['dec'], unit=u.deg)\n",
    "\n",
    "ssdf_gal_coords = SkyCoord(ssdf_gals['ALPHA_J2000'], ssdf_gals['DELTA_J2000'], unit=u.deg)\n",
    "ssdf_gaia_coords = SkyCoord(ssdf_gaia['ra'], ssdf_gaia['dec'], unit=u.deg)\n",
    "\n",
    "sdwfs_idx, sdwfs_sep, _ = sdwfs_gaia_coords.match_to_catalog_sky(sdwfs_agn_coords)\n",
    "ssdf_idx, ssdf_sep, _ = ssdf_gaia_coords.match_to_catalog_sky(ssdf_gal_coords)\n",
    "\n",
    "sdwfs_agn = setdiff(sdwfs_agn, sdwfs_agn[sdwfs_idx[sdwfs_sep <= 1. * u.arcsec]])\n",
    "ssdf_gals = setdiff(ssdf_gals, ssdf_gals[ssdf_idx[ssdf_sep <= 1 * u.arcsec]])"
   ]
  },
  {
   "cell_type": "code",
   "execution_count": 7,
   "id": "00c7ede6-f888-44dc-8a9a-689357661669",
   "metadata": {},
   "outputs": [],
   "source": [
    "# We need to select the AGN in the SSDF catalog\n",
    "ssdf_agn = ssdf_gals[(ch1_bright_mag < ssdf_gals['I1_MAG_APER4']) & (ssdf_gals['I1_MAG_APER4'] <= ch1_faint_mag) &\n",
    "                      (ch2_bright_mag < ssdf_gals['I2_MAG_APER4']) & (ssdf_gals['I2_MAG_APER4'] <= ch2_faint_mag)]\n",
    "\n",
    "# Instead of running the selection membership values for all 9 thresholds we will simply take a color cut and create columns with flags designating\n",
    "# if the galaxy would be an agn or not using that threshold\n",
    "for selection_color in selection_colors:\n",
    "    ssdf_agn[f'is_agn_{selection_color:.2f}'] = ssdf_agn['I1_MAG_APER4'] - ssdf_agn['I2_MAG_APER4'] >= selection_color"
   ]
  },
  {
   "cell_type": "code",
   "execution_count": 8,
   "id": "3f0ecb74-4122-4b8d-acaa-eb541d9d1db8",
   "metadata": {},
   "outputs": [],
   "source": [
    "# Read in the SDWFS mask image and WCS\n",
    "sdwfs_mask_img, sdwfs_mask_hdr = fits.getdata('Data_Repository/Project_Data/SPT-IRAGN/Masks/SDWFS/'\n",
    "                                              'SDWFS_full-field_cov_mask11_11.fits', header=True)\n",
    "sdwfs_wcs = WCS(sdwfs_mask_hdr)\n",
    "\n",
    "# Determine the area of the mask\n",
    "sdwfs_area = np.count_nonzero(sdwfs_mask_img) * sdwfs_wcs.proj_plane_pixel_area()\n",
    "\n",
    "# For SSDF, we will just use the approximate area as reported in Ashby+13\n",
    "ssdf_area = 94 * u.deg**2\n",
    "\n",
    "# Set the weights\n",
    "sdwfs_weight = sdwfs_area.value * mag_bin_width\n",
    "ssdf_weight = ssdf_area.value * mag_bin_width"
   ]
  },
  {
   "cell_type": "code",
   "execution_count": 9,
   "id": "8eef905f-ff21-475e-8fad-4d86a5d381e2",
   "metadata": {},
   "outputs": [],
   "source": [
    "# Cycle through the color selections to build the dN/dm distributions\n",
    "dndm_dists = {}\n",
    "for selection_color in selection_colors:\n",
    "    # Isolate the AGN for the selection threshold\n",
    "    sdwfs_agn_z = sdwfs_agn[sdwfs_agn[f'SELECTION_MEMBERSHIP_{selection_color:.2f}'] >= 0.5]\n",
    "    ssdf_agn_z = ssdf_agn[ssdf_agn[f'is_agn_{selection_color:.2f}']]\n",
    "\n",
    "    # Compute the number count distributions\n",
    "    sdwfs_dndm, _ = np.histogram(sdwfs_agn_z['I2_MAG_APER4'], bins=magnitude_bins, weights=sdwfs_agn_z['COMPLETENESS_CORRECTION'])\n",
    "    sdwfs_dndm_weighted = sdwfs_dndm / sdwfs_weight\n",
    "\n",
    "    ssdf_dndm, _ = np.histogram(ssdf_agn_z['I2_MAG_APER4'], bins=magnitude_bins)\n",
    "    ssdf_dndm_weighted = ssdf_dndm / ssdf_weight\n",
    "\n",
    "    # Compute the associated errors\n",
    "    sdwfs_dndm_err = np.sqrt(sdwfs_dndm) / sdwfs_weight\n",
    "    ssdf_dndm_err = np.sqrt(ssdf_dndm) / ssdf_weight\n",
    "\n",
    "    dndm_dists[f'color_{selection_color:.2f}'] = {'sdwfs_dndm': sdwfs_dndm_weighted, 'sdwfs_dndm_err': sdwfs_dndm_err,\n",
    "                                                  'ssdf_dndm': ssdf_dndm_weighted, 'ssdf_dndm_err': ssdf_dndm_err}"
   ]
  },
  {
   "cell_type": "code",
   "execution_count": 13,
   "id": "2b0f8745-7b4d-4ccf-96f8-0b8b3c931365",
   "metadata": {},
   "outputs": [],
   "source": [
    "with mpl.rc_context({'font.size': 20}):\n",
    "    fig, axarr = plt.subplots(nrows=5, ncols=2, sharex='col', sharey='row', figsize=(20, 50), tight_layout=True)\n",
    "    for ax, selection_color, plot_color in zip(axarr.flatten(), selection_colors, list(TABLEAU_COLORS.keys())):\n",
    "        dndm_data = dndm_dists[f'color_{selection_color:.2f}']\n",
    "        ax.errorbar(magnitude_bin_centers, dndm_data['sdwfs_dndm'], yerr=dndm_data['sdwfs_dndm_err'], xerr=mag_bin_width/2, fmt='o', markersize=10, \n",
    "                    color=plot_color, label=fr'SDWFS')\n",
    "        ax.errorbar(magnitude_bin_centers, dndm_data['ssdf_dndm'], yerr=dndm_data['ssdf_dndm_err'], xerr=mag_bin_width/2, fmt='^', markersize=10, \n",
    "                    color=plot_color, label=fr'SSDF')\n",
    "        ax.set(xlabel='[4.5] (Vega)', ylabel=r'$dN/dm$ [deg$^{-2}$ mag$^{-1}$]', yscale='log', title=fr'$[3.6] - [4.5] \\geq {selection_color:.2f}$')\n",
    "        ax.legend()\n",
    "        ax.label_outer()\n",
    "    fig.savefig('Data_Repository/Project_Data/SPT-IRAGN/local_backgrounds/plots/SDWFS/SDWFS-SSDF_dndm_all_color_thresholds.pdf')"
   ]
  }
 ],
 "metadata": {
  "kernelspec": {
   "display_name": "Python 3 (ipykernel)",
   "language": "python",
   "name": "python3"
  },
  "language_info": {
   "codemirror_mode": {
    "name": "ipython",
    "version": 3
   },
   "file_extension": ".py",
   "mimetype": "text/x-python",
   "name": "python",
   "nbconvert_exporter": "python",
   "pygments_lexer": "ipython3",
   "version": "3.11.7"
  }
 },
 "nbformat": 4,
 "nbformat_minor": 5
}
