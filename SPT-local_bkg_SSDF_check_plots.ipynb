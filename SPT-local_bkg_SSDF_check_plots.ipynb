{
 "cells": [
  {
   "cell_type": "code",
   "execution_count": 1,
   "id": "initial_id",
   "metadata": {
    "collapsed": true,
    "ExecuteTime": {
     "end_time": "2024-01-22T15:02:44.400027900Z",
     "start_time": "2024-01-22T15:02:43.751503Z"
    }
   },
   "outputs": [],
   "source": [
    "import json\n",
    "import matplotlib.pyplot as plt\n",
    "import numpy as np\n",
    "import astropy.units as u\n",
    "from astropy.table import QTable, join, vstack\n",
    "from scipy.interpolate import interp1d"
   ]
  },
  {
   "cell_type": "code",
   "outputs": [],
   "source": [
    "# Read in both the WISE-method and direct SSDF local background measurements\n",
    "with (open('Data_Repository/Project_Data/SPT-IRAGN/local_backgrounds/SPTcl-local_bkg_frac_err.json') as f,\n",
    "    open('Data_Repository/Project_Data/SPT-IRAGN/local_backgrounds/SPT-SSDF_local_bkg_fixed_cols.json') as g):\n",
    "    spt_sdwfs = json.load(f)\n",
    "    spt_ssdf = json.load(g)"
   ],
   "metadata": {
    "collapsed": false,
    "ExecuteTime": {
     "end_time": "2024-01-22T15:02:45.354766700Z",
     "start_time": "2024-01-22T15:02:45.348463900Z"
    }
   },
   "id": "e631b4c8ddaec320",
   "execution_count": 2
  },
  {
   "cell_type": "code",
   "outputs": [],
   "source": [
    "# Read in the SPTpol 100d IR-AGN catalog (this way we only work on clusters that reside within the SSDF footprint)\n",
    "sptpol_100d = QTable.read('Data_Repository/Project_Data/SPT-IRAGN/Output/SPTpol_100d_IRAGN.fits')\n",
    "\n",
    "# Group to only have cluster information\n",
    "sptpol_100d_grp = sptpol_100d.group_by('SPT_ID')\n",
    "sptpol_100d = vstack([QTable(cluster['SPT_ID', 'SZ_RA', 'SZ_DEC', 'REDSHIFT', 'M500', 'R500'][0]) for cluster in sptpol_100d_grp.groups])"
   ],
   "metadata": {
    "collapsed": false,
    "ExecuteTime": {
     "end_time": "2024-01-22T15:03:03.128738500Z",
     "start_time": "2024-01-22T15:03:02.979560100Z"
    }
   },
   "id": "f01dc2916c6fa6ef",
   "execution_count": 5
  },
  {
   "cell_type": "code",
   "outputs": [],
   "source": [
    "# Recast the results into tables\n",
    "spt_sdwfs_table = QTable(rows=[[cluster_name, bkg_value] for cluster_name, bkg_value in spt_sdwfs.items()],\n",
    "                    names=['SPT_ID', 'local_bkg_sdwfs'], units=[None, u.deg ** -2])\n",
    "spt_ssdf_table = QTable(rows=[[cluster_name, bkg_value] for cluster_name, bkg_value in spt_ssdf.items()],\n",
    "                  names=['SPT_ID', 'local_bkg_ssdf'], units=[None, u.deg ** -2])\n",
    "sptpol_100d = join(sptpol_100d, spt_sdwfs_table, keys='SPT_ID', join_type='left')\n",
    "sptpol_100d = join(sptpol_100d, spt_ssdf_table, keys='SPT_ID', join_type='left')"
   ],
   "metadata": {
    "collapsed": false,
    "ExecuteTime": {
     "end_time": "2024-01-22T15:05:39.286515Z",
     "start_time": "2024-01-22T15:05:39.267452300Z"
    }
   },
   "id": "9681c59213c5028f",
   "execution_count": 11
  },
  {
   "cell_type": "code",
   "outputs": [
    {
     "data": {
      "text/plain": "(<Quantity 0.58494414 1 / arcmin2>, <Quantity 0.21218614 1 / arcmin2>)"
     },
     "execution_count": 13,
     "metadata": {},
     "output_type": "execute_result"
    }
   ],
   "source": [
    "np.mean(sptpol_100d['local_bkg_ssdf'].to(u.arcmin**-2)), np.std(sptpol_100d['local_bkg_ssdf'].to(u.arcmin**-2))"
   ],
   "metadata": {
    "collapsed": false,
    "ExecuteTime": {
     "end_time": "2024-01-22T15:06:24.262463800Z",
     "start_time": "2024-01-22T15:06:24.255378900Z"
    }
   },
   "id": "9210ab47cfe688c6",
   "execution_count": 13
  },
  {
   "cell_type": "code",
   "outputs": [
    {
     "data": {
      "text/plain": "(<Quantity 0.59154441 1 / arcmin2>, <Quantity 0.18772119 1 / arcmin2>)"
     },
     "execution_count": 14,
     "metadata": {},
     "output_type": "execute_result"
    }
   ],
   "source": [
    "np.mean(sptpol_100d['local_bkg_sdwfs'].to(u.arcmin**-2)), np.std(sptpol_100d['local_bkg_sdwfs'].to(u.arcmin**-2))"
   ],
   "metadata": {
    "collapsed": false,
    "ExecuteTime": {
     "end_time": "2024-01-22T15:06:25.699430400Z",
     "start_time": "2024-01-22T15:06:25.696071800Z"
    }
   },
   "id": "2a585f26bdb79a27",
   "execution_count": 14
  },
  {
   "cell_type": "code",
   "outputs": [
    {
     "data": {
      "text/plain": "(<Quantity -0.00660026 1 / arcmin2>, <Quantity 0.16215378 1 / arcmin2>)"
     },
     "execution_count": 15,
     "metadata": {},
     "output_type": "execute_result"
    }
   ],
   "source": [
    "np.mean((sptpol_100d['local_bkg_ssdf'] - sptpol_100d['local_bkg_sdwfs']).to(u.arcmin**-2)), np.std((sptpol_100d['local_bkg_ssdf'] - sptpol_100d['local_bkg_sdwfs']).to(u.arcmin**-2))"
   ],
   "metadata": {
    "collapsed": false,
    "ExecuteTime": {
     "end_time": "2024-01-22T15:06:26.730552600Z",
     "start_time": "2024-01-22T15:06:26.724989500Z"
    }
   },
   "id": "9c026bbf546fc52f",
   "execution_count": 15
  },
  {
   "cell_type": "code",
   "outputs": [
    {
     "data": {
      "text/plain": "[Text(0.5, 1.0, 'SPTpol 100d Clusters'),\n Text(0, 0.5, '$\\\\Sigma_{\\\\rm AGN, SSDF} - \\\\Sigma_{\\\\rm AGN, SDWFS}$ [arcmin$^{-2}$]')]"
     },
     "execution_count": 16,
     "metadata": {},
     "output_type": "execute_result"
    },
    {
     "data": {
      "text/plain": "<Figure size 640x480 with 1 Axes>",
      "image/png": "[encoded data removed]"
     },
     "metadata": {},
     "output_type": "display_data"
    }
   ],
   "source": [
    "fig, ax = plt.subplots()\n",
    "ax.scatter(np.arange(len(sptpol_100d)), (sptpol_100d['local_bkg_ssdf'] - sptpol_100d['local_bkg_sdwfs']).to(u.arcmin**-2), marker='.')\n",
    "ax.axhline(y=0., ls='--', color='k')\n",
    "ax.set(title='SPTpol 100d Clusters', ylabel=r'$\\Sigma_{\\rm AGN, SSDF} - \\Sigma_{\\rm AGN, SDWFS}$ [arcmin$^{-2}$]')\n",
    "# fig.savefig('Data_Repository/Project_Data/SPT-IRAGN/local_backgrounds/plots/cluster_agn_surf_den/local_bkg_surf_den_SSDF_check_updatedSDWFS-WISE_fixedcols.pdf')"
   ],
   "metadata": {
    "collapsed": false,
    "ExecuteTime": {
     "end_time": "2024-01-22T15:06:30.260591400Z",
     "start_time": "2024-01-22T15:06:30.094404800Z"
    }
   },
   "id": "f6ba3b310591fbe",
   "execution_count": 16
  },
  {
   "cell_type": "code",
   "outputs": [],
   "source": [
    "# Read in both scaling relations\n",
    "with (open('Data_Repository/Project_Data/SPT-IRAGN/SDWFS_background/'\n",
    "          'SDWFS_WISEgal-IRACagn_scaling_factors.json', 'r') as f,\n",
    "    open('Data_Repository/Project_Data/SPT-IRAGN/SDWFS_background/'\n",
    "              'SPT_WISEgal-SDWFS_WISEgal_scaling_factors.json', 'r') as g):\n",
    "    sdwfs_wise_irac_scaling_data = json.load(f)\n",
    "    spt_wise_sdwfs_wise_scaling_data = json.load(g)\n",
    "for d in sdwfs_wise_irac_scaling_data.values():\n",
    "    for k, v in d.items():\n",
    "        d[k] = np.array(v)\n",
    "spt_wise_sdwfs_wise_scaling_data = {k: v for k, v in spt_wise_sdwfs_wise_scaling_data.items()}"
   ],
   "metadata": {
    "collapsed": false,
    "ExecuteTime": {
     "end_time": "2024-01-22T15:06:52.643145800Z",
     "start_time": "2024-01-22T15:06:52.633422300Z"
    }
   },
   "id": "2ee32c837eecfe9a",
   "execution_count": 17
  },
  {
   "cell_type": "code",
   "outputs": [],
   "source": [
    "# Read in the color threshold--redshift relations\n",
    "with open('Data_Repository/Project_Data/SPT-IRAGN/SDWFS_background/SDWFS_purity_color_4.5_17.48.json', 'r') as f:\n",
    "    sdwfs_purity_data = json.load(f)\n",
    "z_bins = sdwfs_purity_data['redshift_bins'][:-1]\n",
    "agn_purity_color = interp1d(z_bins, sdwfs_purity_data['purity_90_colors'], kind='previous')"
   ],
   "metadata": {
    "collapsed": false,
    "ExecuteTime": {
     "end_time": "2024-01-22T15:06:55.628094200Z",
     "start_time": "2024-01-22T15:06:55.620395100Z"
    }
   },
   "id": "b010876763ee25de",
   "execution_count": 18
  },
  {
   "cell_type": "code",
   "outputs": [],
   "source": [
    "wise_wise_scaling = QTable(rows=[[cluster_name, scaling] for cluster_name, scaling in spt_wise_sdwfs_wise_scaling_data.items()], names=['SPT_ID', 'local-to-sdwfs_wise'])\n",
    "\n",
    "cluster_wise_irac_scaling = []\n",
    "for cluster in sptpol_100d:\n",
    "    selection_color = agn_purity_color(cluster[\"REDSHIFT\"])\n",
    "    scaling = sdwfs_wise_irac_scaling_data[f'SELECTION_MEMBERSHIP_{selection_color:.2f}']['scaling_frac']\n",
    "    cluster_wise_irac_scaling.append([cluster['SPT_ID'], scaling])\n",
    "wise_irac_scaling = QTable(rows=cluster_wise_irac_scaling, names=['SPT_ID', 'sdwfs_wise-to-irac'])\n",
    "\n",
    "sptpol_100d = join(sptpol_100d, wise_wise_scaling, keys='SPT_ID', join_type='left')\n",
    "sptpol_100d = join(sptpol_100d, wise_irac_scaling, keys='SPT_ID', join_type='left')"
   ],
   "metadata": {
    "collapsed": false,
    "ExecuteTime": {
     "end_time": "2024-01-22T15:07:27.198234700Z",
     "start_time": "2024-01-22T15:07:27.185867Z"
    }
   },
   "id": "8f726414949cc4f6",
   "execution_count": 20
  },
  {
   "cell_type": "code",
   "outputs": [
    {
     "data": {
      "text/plain": "<QTable length=74>\n     SPT_ID        SZ_RA    ...     sdwfs_wise-to-irac    \n                            ...                           \n     str16        float64   ...        float64[28]        \n---------------- ---------- ... --------------------------\nSPT-CLJ0000-5748 0.24786825 ...  0.0 .. 0.1668630265252242\nSPT-CLJ0001-5440 0.41316548 ...  0.0 .. 0.3874194169823918\nSPT-CLJ0001-5614 0.48618379 ...  0.0 .. 0.2936109096674432\nSPT-CLJ2259-5301  344.82845 ... 0.0 .. 0.42113800756435976\nSPT-CLJ2259-5349  344.79407 ... 0.0 .. 0.21923595645511265\nSPT-CLJ2259-5431  344.97834 ... 0.0 .. 0.21923595645511265\nSPT-CLJ2300-5331  345.17486 ... 0.0 .. 0.21923595645511265\nSPT-CLJ2300-5617  345.00029 ... 0.0 .. 0.06817783527959977\nSPT-CLJ2301-5317  345.33706 ... 0.0 .. 0.21923595645511265\n             ...        ... ...                        ...\nSPT-CLJ2354-5632  358.71908 ...  0.0 .. 0.2936109096674432\nSPT-CLJ2355-5055  358.94638 ... 0.0 .. 0.21923595645511265\nSPT-CLJ2355-5156  358.84822 ...  0.0 .. 0.1668630265252242\nSPT-CLJ2355-5258  358.93719 ...  0.0 .. 0.1668630265252242\nSPT-CLJ2355-5514  358.86685 ...  0.0 .. 0.2936109096674432\nSPT-CLJ2355-5850   358.9619 ...  0.0 .. 0.3874194169823918\nSPT-CLJ2355-6002   358.7942 ...  0.0 .. 0.2936109096674432\nSPT-CLJ2357-5421   359.2691 ...  0.0 .. 0.3874194169823918\nSPT-CLJ2358-5229  359.53181 ...  0.0 .. 0.1668630265252242\nSPT-CLJ2359-5010  359.93024 ...  0.0 .. 0.1668630265252242",
      "text/html": "<div><i>QTable length=74</i>\n<table id=\"table140076317848400\" class=\"table-striped table-bordered table-condensed\">\n<thead><tr><th>SPT_ID</th><th>SZ_RA</th><th>SZ_DEC</th><th>REDSHIFT</th><th>M500</th><th>R500</th><th>local_bkg_sdwfs</th><th>local_bkg_ssdf</th><th>local-to-sdwfs_wise</th><th>sdwfs_wise-to-irac</th></tr></thead>\n<thead><tr><th></th><th></th><th></th><th></th><th></th><th>Mpc</th><th>1 / deg2</th><th>1 / deg2</th><th></th><th></th></tr></thead>\n<thead><tr><th>str16</th><th>float64</th><th>float64</th><th>float64</th><th>float64</th><th>float64</th><th>float64</th><th>float64</th><th>float64[28]</th><th>float64[28]</th></tr></thead>\n<tr><td>SPT-CLJ0000-5748</td><td>0.24786825</td><td>-57.808061</td><td>0.7019</td><td>472150135450000.0</td><td>0.9129060803550026</td><td>1318.251992082763</td><td>1217.7135706621928</td><td>inf .. 1.0668711857852253</td><td>0.0 .. 0.1668630265252242</td></tr>\n<tr><td>SPT-CLJ0001-5440</td><td>0.41316548</td><td>-54.669517</td><td>0.82</td><td>336869876236000.0</td><td>0.778311823339727</td><td>3093.722079036079</td><td>1308.1436805729222</td><td>inf .. 0.9486861931295021</td><td>0.0 .. 0.3874194169823918</td></tr>\n<tr><td>SPT-CLJ0001-5614</td><td>0.48618379</td><td>-56.240999</td><td>0.428054</td><td>255464109480000.0</td><td>0.8291103066620903</td><td>2318.5829715538616</td><td>2383.0578805075493</td><td>inf .. 0.8959427055378913</td><td>0.0 .. 0.2936109096674432</td></tr>\n<tr><td>SPT-CLJ2259-5301</td><td>344.82845</td><td>-53.030793</td><td>1.16</td><td>198313530220000.0</td><td>0.5718508394379285</td><td>3394.301699853033</td><td>1853.5063656550042</td><td>inf .. 0.7816222769856553</td><td>0.0 .. 0.42113800756435976</td></tr>\n<tr><td>SPT-CLJ2259-5349</td><td>344.79407</td><td>-53.823576</td><td>0.25754</td><td>328246991570000.0</td><td>0.9614780773856458</td><td>1718.0794887855395</td><td>1347.2195013995874</td><td>inf .. 0.9751532422313653</td><td>0.0 .. 0.21923595645511265</td></tr>\n<tr><td>SPT-CLJ2259-5431</td><td>344.97834</td><td>-54.526029</td><td>0.39</td><td>338128683594000.0</td><td>0.923827521398295</td><td>1718.0794887855395</td><td>1657.4845917415237</td><td>0.0016900478045781195 .. 0.8658146790548134</td><td>0.0 .. 0.21923595645511265</td></tr>\n<tr><td>SPT-CLJ2300-5331</td><td>345.17486</td><td>-53.520842</td><td>0.262</td><td>431443010283000.0</td><td>1.0514875046834316</td><td>1718.0794887855395</td><td>1992.0809318769898</td><td>inf .. 0.8780723440315552</td><td>0.0 .. 0.21923595645511265</td></tr>\n<tr><td>SPT-CLJ2300-5617</td><td>345.00029</td><td>-56.284869</td><td>0.152787</td><td>410613240637000.06</td><td>1.0752714318276173</td><td>588.3918098169139</td><td>565.2439977717129</td><td>inf .. 0.8763328579098049</td><td>0.0 .. 0.06817783527959977</td></tr>\n<tr><td>SPT-CLJ2301-5317</td><td>345.33706</td><td>-53.284278</td><td>0.348124</td><td>254188111595000.0</td><td>0.8535692801500384</td><td>1718.0794887855395</td><td>1761.9848306740068</td><td>inf .. 0.8745986242361798</td><td>0.0 .. 0.21923595645511265</td></tr>\n<tr><td>...</td><td>...</td><td>...</td><td>...</td><td>...</td><td>...</td><td>...</td><td>...</td><td>...</td><td>...</td></tr>\n<tr><td>SPT-CLJ2354-5632</td><td>358.71908</td><td>-56.549851</td><td>0.563</td><td>336947274970000.0</td><td>0.8622310519286355</td><td>2318.5829715538616</td><td>2276.9903366464555</td><td>inf .. 1.4150000962808935</td><td>0.0 .. 0.2936109096674432</td></tr>\n<tr><td>SPT-CLJ2355-5055</td><td>358.94638</td><td>-50.932517</td><td>0.3196</td><td>363598017098000.0</td><td>0.972173006935151</td><td>1718.0794887855395</td><td>2453.1074436608997</td><td>inf .. 0.6818800324801296</td><td>0.0 .. 0.21923595645511265</td></tr>\n<tr><td>SPT-CLJ2355-5156</td><td>358.84822</td><td>-51.947449</td><td>0.703813</td><td>324265074828000.0</td><td>0.8048250056422329</td><td>1318.251992082763</td><td>1437.9697898156762</td><td>inf .. 1.0904947038654154</td><td>0.0 .. 0.1668630265252242</td></tr>\n<tr><td>SPT-CLJ2355-5258</td><td>358.93719</td><td>-52.983254</td><td>0.711617</td><td>286707988141000.0</td><td>0.7700694047230215</td><td>1318.251992082763</td><td>937.1257271929602</td><td>inf .. 0.8635534466610364</td><td>0.0 .. 0.1668630265252242</td></tr>\n<tr><td>SPT-CLJ2355-5514</td><td>358.86685</td><td>-55.249732</td><td>1.32</td><td>184397175916000.0</td><td>0.5260960471110824</td><td>2318.5829715538616</td><td>1914.1006227225557</td><td>inf .. 0.9433156512874804</td><td>0.0 .. 0.2936109096674432</td></tr>\n<tr><td>SPT-CLJ2355-5850</td><td>358.9619</td><td>-58.846784</td><td>0.97</td><td>204246552542000.0</td><td>0.6210521641274276</td><td>3093.722079036079</td><td>2448.329200888853</td><td>inf .. 1.0469011622075985</td><td>0.0 .. 0.3874194169823918</td></tr>\n<tr><td>SPT-CLJ2355-6002</td><td>358.7942</td><td>-60.042788</td><td>1.22</td><td>185283160651000.0</td><td>0.5466488877662541</td><td>2318.5829715538616</td><td>915.6791567659826</td><td>inf .. 0.9115342031295924</td><td>0.0 .. 0.2936109096674432</td></tr>\n<tr><td>SPT-CLJ2357-5421</td><td>359.2691</td><td>-54.359372</td><td>0.92</td><td>274831249686000.0</td><td>0.6991568605659194</td><td>3093.722079036079</td><td>2766.8468401753257</td><td>inf .. 1.135722603254668</td><td>0.0 .. 0.3874194169823918</td></tr>\n<tr><td>SPT-CLJ2358-5229</td><td>359.53181</td><td>-52.483996</td><td>0.6377</td><td>314580329023000.0</td><td>0.8180219697841901</td><td>1318.251992082763</td><td>1255.008029108943</td><td>inf .. 1.0551650516271727</td><td>0.0 .. 0.1668630265252242</td></tr>\n<tr><td>SPT-CLJ2359-5010</td><td>359.93024</td><td>-50.170776</td><td>0.775</td><td>354786359576000.0</td><td>0.8061412476769761</td><td>1318.251992082763</td><td>1995.044713687856</td><td>inf .. 1.1316151089676894</td><td>0.0 .. 0.1668630265252242</td></tr>\n</table></div>"
     },
     "execution_count": 21,
     "metadata": {},
     "output_type": "execute_result"
    }
   ],
   "source": [
    "sptpol_100d"
   ],
   "metadata": {
    "collapsed": false,
    "ExecuteTime": {
     "end_time": "2024-01-22T15:07:37.058569600Z",
     "start_time": "2024-01-22T15:07:37.051912200Z"
    }
   },
   "id": "ad586ac69c076ec6",
   "execution_count": 21
  }
 ],
 "metadata": {
  "kernelspec": {
   "display_name": "Python 3",
   "language": "python",
   "name": "python3"
  },
  "language_info": {
   "codemirror_mode": {
    "name": "ipython",
    "version": 2
   },
   "file_extension": ".py",
   "mimetype": "text/x-python",
   "name": "python",
   "nbconvert_exporter": "python",
   "pygments_lexer": "ipython2",
   "version": "2.7.6"
  }
 },
 "nbformat": 4,
 "nbformat_minor": 5
}
