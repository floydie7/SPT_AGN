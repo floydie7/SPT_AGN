{
 "cells": [
  {
   "cell_type": "markdown",
   "source": [
    "# SDWFS AGN Color--Redshift Plane with AGN Purity Color Thresholds Plot\n",
    "## Author: Benjamin Floyd\n",
    "\n",
    "Generates a publication plot showing the SDWFS color--redshift plane with the AGN purity color threshold lines shown."
   ],
   "metadata": {
    "collapsed": false,
    "pycharm": {
     "name": "#%% md\n"
    }
   }
  },
  {
   "cell_type": "code",
   "execution_count": null,
   "metadata": {
    "collapsed": true,
    "pycharm": {
     "name": "#%%\n"
    }
   },
   "outputs": [],
   "source": [
    "import json\n",
    "import numpy as np\n",
    "import matplotlib.pyplot as plt\n",
    "import astropy.units as u\n",
    "from astropy.cosmology import z_at_value, FlatLambdaCDM\n",
    "from astropy.table import Table, join\n",
    "from matplotlib.lines import Line2D\n",
    "from matplotlib.ticker import AutoMinorLocator\n",
    "\n",
    "%matplotlib inline\n",
    "plt.style.use('seaborn-colorblind')\n",
    "cosmo = FlatLambdaCDM(H0=70, Om0=0.3)"
   ]
  },
  {
   "cell_type": "code",
   "execution_count": null,
   "outputs": [],
   "source": [
    "# Read in the SDWFS photometric catalog\n",
    "sdwfs_main = Table.read('Data_Repository/Catalogs/Bootes/SDWFS/ch2v33_sdwfs_2009mar3_apcorr_matched_ap4_Main_v0.4.cat.gz',\n",
    "                        names=['ID', 'IRAC_RA', 'IRAC_DEC', 'B_APFLUX4', 'R_APFLUX4', 'I_APFLUX4', 'B_APFLUXERR4',\n",
    "                               'R_APFLUXERR4', 'I_APFLUXERR4', 'B_APMAG4', 'R_APMAG4', 'I_APMAG4', 'B_APMAGERR4',\n",
    "                               'R_APMAGERR4', 'I_APMAGERR4', 'CH1_APFLUX4', 'CH2_APFLUX4', 'CH3_APFLUX4', 'CH4_APFLUX4',\n",
    "                               'CH1_APFLUXERR4', 'CH2_APFLUXERR4', 'CH3_APFLUXERR4', 'CH4_APFLUXERR4',\n",
    "                               'CH1_APFLUXERR4_BROWN', 'CH2_APFLUXERR4_BROWN', 'CH3_APFLUXERR4_BROWN',\n",
    "                               'CH4_APFLUXERR4_BROWN', 'CH1_APMAG4', 'CH2_APMAG4', 'CH3_APMAG4', 'CH4_APMAG4',\n",
    "                               'CH1_APMAGERR4', 'CH2_APMAGERR4', 'CH3_APMAGERR4', 'CH4_APMAGERR4',\n",
    "                               'CH1_APMAGERR4_BROWN', 'CH2_APMAGERR4_BROWN', 'CH3_APMAGERR4_BROWN',\n",
    "                               'CH4_APMAGERR4_BROWN', 'STARS_COLOR', 'STARS_MORPH', 'CLASS_STAR', 'MBZ_FLAG_4_4_4'],\n",
    "                        format='ascii')\n",
    "\n",
    "# Read in the photometric redshift catalog\n",
    "sdwfs_photz = Table.read('Data_Repository/Catalogs/Bootes/SDWFS/mbz_v0.06_prior_bri12_18p8.cat.gz',\n",
    "                         names=['ID', 'PHOT_Z', 'col3', 'col4', 'col5', 'col6', 'col7'],\n",
    "                         format='ascii',\n",
    "                         include_names=['ID', 'PHOT_Z'])\n",
    "\n",
    "# Join the two catalogs together\n",
    "sdwfs_cat = join(sdwfs_main, sdwfs_photz, keys='ID')"
   ],
   "metadata": {
    "collapsed": false,
    "pycharm": {
     "name": "#%%\n"
    }
   }
  },
  {
   "cell_type": "code",
   "execution_count": null,
   "outputs": [],
   "source": [
    "# For convenience, add columns for the two colors\n",
    "sdwfs_cat['CH1_CH2_COLOR'] = sdwfs_cat['CH1_APMAG4'] - sdwfs_cat['CH2_APMAG4']\n",
    "sdwfs_cat['CH3_CH4_COLOR'] = sdwfs_cat['CH3_APMAG4'] - sdwfs_cat['CH4_APMAG4']\n",
    "\n",
    "# And add columns for the log flux ratios\n",
    "sdwfs_cat['CH3_CH1_LOG_FLUX'] = np.log10(sdwfs_cat['CH3_APFLUX4'] / sdwfs_cat['CH1_APFLUX4'])\n",
    "sdwfs_cat['CH4_CH2_LOG_FLUX'] = np.log10(sdwfs_cat['CH4_APFLUX4'] / sdwfs_cat['CH2_APFLUX4'])"
   ],
   "metadata": {
    "collapsed": false,
    "pycharm": {
     "name": "#%%\n"
    }
   }
  },
  {
   "cell_type": "code",
   "execution_count": null,
   "outputs": [],
   "source": [
    "# Require SNR cuts of > 5 in all bands for a clean sample\n",
    "sdwfs_cat = sdwfs_cat[(sdwfs_cat['CH1_APFLUX4'] / sdwfs_cat['CH1_APFLUXERR4'] >= 5) &\n",
    "                      (sdwfs_cat['CH2_APFLUX4'] / sdwfs_cat['CH2_APFLUXERR4'] >= 5) &\n",
    "                      (sdwfs_cat['CH3_APFLUX4'] / sdwfs_cat['CH3_APFLUXERR4'] >= 5) &\n",
    "                      (sdwfs_cat['CH4_APFLUX4'] / sdwfs_cat['CH4_APFLUXERR4'] >= 5)]"
   ],
   "metadata": {
    "collapsed": false,
    "pycharm": {
     "name": "#%%\n"
    }
   }
  },
  {
   "cell_type": "code",
   "execution_count": null,
   "outputs": [],
   "source": [
    "# Make AGN selections using the Stern+05 wedge selection\n",
    "stern_agn = sdwfs_cat[(sdwfs_cat['CH3_CH4_COLOR'] > 0.6) &\n",
    "                      (sdwfs_cat['CH1_CH2_COLOR'] > 0.2 * sdwfs_cat['CH3_CH4_COLOR'] + 0.18) &\n",
    "                      (sdwfs_cat['CH1_CH2_COLOR'] > 2.5 * sdwfs_cat['CH3_CH4_COLOR'] - 3.5)]\n",
    "\n",
    "# donley_agn = sdwfs_cat[(sdwfs_cat['CH3_CH1_LOG_FLUX'] >= 0.08) & (sdwfs_cat['CH4_CH2_LOG_FLUX'] >= 0.15) &\n",
    "#                        (sdwfs_cat['CH4_CH2_LOG_FLUX'] >= 1.21 * sdwfs_cat['CH3_CH1_LOG_FLUX'] - 0.27) &\n",
    "#                        (sdwfs_cat['CH4_CH2_LOG_FLUX'] <= 1.21 * sdwfs_cat['CH3_CH1_LOG_FLUX'] + 0.27) &\n",
    "#                        (sdwfs_cat['CH2_APFLUX4'] > sdwfs_cat['CH1_APFLUX4']) &\n",
    "#                        (sdwfs_cat['CH3_APFLUX4'] > sdwfs_cat['CH2_APFLUX4']) &\n",
    "#                        (sdwfs_cat['CH4_APFLUX4'] > sdwfs_cat['CH3_APFLUX4'])]"
   ],
   "metadata": {
    "collapsed": false,
    "pycharm": {
     "name": "#%%\n"
    }
   }
  },
  {
   "cell_type": "code",
   "execution_count": null,
   "outputs": [],
   "source": [
    "# Identify the IDs of the objects outside the Stern-wedge selection to create a sample of non-AGN.\n",
    "stern_complement_ids = list(set(sdwfs_cat['ID']) - set(stern_agn['ID']))\n",
    "non_agn = sdwfs_cat[np.in1d(sdwfs_cat['ID'], stern_complement_ids)]"
   ],
   "metadata": {
    "collapsed": false,
    "pycharm": {
     "name": "#%%\n"
    }
   }
  },
  {
   "cell_type": "code",
   "execution_count": null,
   "outputs": [],
   "source": [
    "# Read in the file with stored purity color threshold data\n",
    "with open('Data_Repository/Project_Data/SPT-IRAGN/SDWFS_background/SDWFS_purity_color.json', 'r') as f:\n",
    "    purity_data = json.load(f)\n",
    "z_bins = purity_data['z_bins']\n",
    "color_bins = purity_data['color_bins']\n",
    "purity_90_color = purity_data['purity_90_colors']\n",
    "purity_95_color = purity_data['purity_95_colors']"
   ],
   "metadata": {
    "collapsed": false,
    "pycharm": {
     "name": "#%%\n"
    }
   }
  },
  {
   "cell_type": "code",
   "execution_count": null,
   "outputs": [],
   "source": [
    "# Make main plot only\n",
    "z_bin_centers = np.diff(z_bins) + z_bins[:-1]\n",
    "fig = plt.figure(figsize=(8, 6))\n",
    "gs = fig.add_gridspec(nrows=1, ncols=2, width_ratios=(8, 3), wspace=0)\n",
    "\n",
    "# Main panel plot\n",
    "ax = fig.add_subplot(gs[0])\n",
    "ax.hexbin(non_agn['PHOT_Z'], non_agn['CH1_CH2_COLOR'], gridsize=50, extent=(0., 1.8, 0., 1.5),\n",
    "          cmap='Blues', bins=None, mincnt=1)\n",
    "ax.hexbin(stern_agn['PHOT_Z'], stern_agn['CH1_CH2_COLOR'], gridsize=50, extent=(0., 1.8, 0., 1.5), cmap='Reds',\n",
    "          bins=None, mincnt=1, alpha=0.6)\n",
    "ax.step(z_bins[:-1], purity_90_color, color='tab:orange', lw=2, label='90% threshold')\n",
    "# ax.step(z_bins[:-1], purity_92_color, color='tab:green', lw=2, label='92% threshold')\n",
    "ax.step(z_bins[:-1], purity_95_color, color='tab:cyan', lw=2, label='95% threshold')\n",
    "# ax.axhline(y=0.7, color='k', lw=2, ls='--', label=r'$[3.6] - [4.5] \\geq 0.7$')\n",
    "\n",
    "# Main panel axes and legend\n",
    "ax.yaxis.set_minor_locator(AutoMinorLocator(2))\n",
    "ax.xaxis.set_minor_locator(AutoMinorLocator(2))\n",
    "handles, labels = ax.get_legend_handles_labels()\n",
    "handles.extend([Line2D([0], [0], marker='h', color='w', markerfacecolor='lightcoral', markeredgecolor='firebrick',\n",
    "                       markersize=10),\n",
    "                Line2D([0], [0], marker='h', color='w', markerfacecolor='lightblue', markeredgecolor='steelblue',\n",
    "                       markersize=10)])\n",
    "labels.extend(['Stern Wedge AGN', 'Non-Active Galaxies'])\n",
    "plt.legend(handles, labels, frameon=False)\n",
    "ax.set(xlabel='Photometric Redshift', ylabel='[3.6] - [4.5] (Vega)', ylim=[0, 1.5], xlim=[0, 1.8])\n",
    "fig.savefig('Data_Repository/Project_Data/SPT-IRAGN/Publication_Plots/SDWFS_AGN_color-redshift_color_thresholds_publication.pdf')\n",
    "fig.show()"
   ],
   "metadata": {
    "collapsed": false,
    "pycharm": {
     "name": "#%%\n"
    }
   }
  },
  {
   "cell_type": "code",
   "execution_count": null,
   "outputs": [],
   "source": [
    "# Make plot with side histogram\n",
    "fig = plt.figure(figsize=(8, 6))\n",
    "gs = fig.add_gridspec(nrows=1, ncols=2, width_ratios=(8, 3), wspace=0)\n",
    "\n",
    "# Main panel plot\n",
    "ax = fig.add_subplot(gs[0])\n",
    "ax.hexbin(non_agn['PHOT_Z'], non_agn['CH1_CH2_COLOR'], gridsize=50, extent=(0., 1.8, 0., 1.5),\n",
    "          cmap='Blues', bins=None, mincnt=1)\n",
    "ax.hexbin(stern_agn['PHOT_Z'], stern_agn['CH1_CH2_COLOR'], gridsize=50, extent=(0., 1.8, 0., 1.5), cmap='Reds',\n",
    "          bins=None, mincnt=1, alpha=0.6)\n",
    "ax.step(z_bins[:-1], purity_90_color, color='tab:orange', lw=2, label='90% threshold')\n",
    "# ax.step(z_bins[:-1], purity_92_color, color='tab:green', lw=2, label='92% threshold')\n",
    "ax.step(z_bins[:-1], purity_95_color, color='tab:cyan', lw=2, label='95% threshold')\n",
    "# ax.axhline(y=0.7, color='k', lw=2, ls='--', label=r'$[3.6] - [4.5] \\geq 0.7$')\n",
    "\n",
    "# Main panel axes and legend\n",
    "ax.yaxis.set_minor_locator(AutoMinorLocator(2))\n",
    "ax.xaxis.set_minor_locator(AutoMinorLocator(2))\n",
    "handles, labels = ax.get_legend_handles_labels()\n",
    "handles.extend([Line2D([0], [0], marker='h', color='w', markerfacecolor='lightcoral', markeredgecolor='firebrick',\n",
    "                       markersize=10),\n",
    "                Line2D([0], [0], marker='h', color='w', markerfacecolor='lightblue', markeredgecolor='steelblue',\n",
    "                       markersize=10)])\n",
    "labels.extend(['Stern Wedge AGN', 'Non-Active Galaxies'])\n",
    "plt.legend(handles, labels, frameon=False)\n",
    "ax.set(xlabel='Photometric Redshift', ylabel='[3.6] - [4.5] (Vega)', ylim=[0, 1.5], xlim=[0, 1.8])\n",
    "\n",
    "# Main panel lookback time top axis\n",
    "min_z, max_z = ax.get_xlim()\n",
    "ax1 = ax.twiny()\n",
    "lb_time = np.arange(cosmo.lookback_time(min_z).value, cosmo.lookback_time(max_z).value) * u.Gyr\n",
    "lb_time_ticks = [z_at_value(cosmo.lookback_time, lbt) for lbt in lb_time[1:]]\n",
    "lb_time_ticks.insert(0, 0)\n",
    "ax1.set_xticks(lb_time_ticks)\n",
    "ax1.set_xticklabels([f'{lbt:.1f}' for lbt in lb_time.value])\n",
    "ax1.set(xlabel='Lookback Time (Gyr)')\n",
    "\n",
    "# Side panel histogram\n",
    "ax_hist = fig.add_subplot(gs[1], sharey=ax)\n",
    "ax_hist.tick_params(axis='y', labelleft=False)\n",
    "binwidth = 0.05\n",
    "bins_nonAGN = np.arange(non_agn['CH1_CH2_COLOR'].min(), non_agn['CH1_CH2_COLOR'].max() + binwidth, binwidth)\n",
    "bins_AGN = np.arange(stern_agn['CH1_CH2_COLOR'].min(), stern_agn['CH1_CH2_COLOR'].max() + binwidth, binwidth)\n",
    "ax_hist.hist(stern_agn['CH1_CH2_COLOR'][(stern_agn['PHOT_Z'] > min_z) & (stern_agn['PHOT_Z'] < max_z)], bins=bins_AGN,\n",
    "             orientation='horizontal', color='lightcoral', alpha=0.6)\n",
    "ax_hist.hist(non_agn['CH1_CH2_COLOR'][(non_agn['PHOT_Z'] > min_z) & (non_agn['PHOT_Z'] < max_z)], bins=bins_nonAGN,\n",
    "             orientation='horizontal', color='lightblue', alpha=0.6)\n",
    "# ax_hist.axhline(y=0.7, color='k', linewidth=2)\n",
    "ax_hist.set(xlabel=r'$N$', xscale='log')\n",
    "\n",
    "fig.savefig('Data_Repository/Project_Data/SPT-IRAGN/Publication_Plots/SDWFS_AGN_color-redshift_color_thresholds_with_hist_publication.pdf')\n",
    "fig.show()"
   ],
   "metadata": {
    "collapsed": false,
    "pycharm": {
     "name": "#%%\n"
    }
   }
  }
 ],
 "metadata": {
  "kernelspec": {
   "display_name": "Python 3",
   "language": "python",
   "name": "python3"
  },
  "language_info": {
   "codemirror_mode": {
    "name": "ipython",
    "version": 2
   },
   "file_extension": ".py",
   "mimetype": "text/x-python",
   "name": "python",
   "nbconvert_exporter": "python",
   "pygments_lexer": "ipython2",
   "version": "2.7.6"
  }
 },
 "nbformat": 4,
 "nbformat_minor": 0
}