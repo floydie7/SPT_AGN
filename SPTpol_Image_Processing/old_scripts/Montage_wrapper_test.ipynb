{
 "cells": [
  {
   "cell_type": "code",
   "execution_count": 1,
   "metadata": {
    "collapsed": true
   },
   "outputs": [],
   "source": [
    "import os\n",
    "import shutil\n",
    "import glob\n",
    "import types\n",
    "import MontagePy.main as m\n",
    "from functools import wraps"
   ]
  },
  {
   "cell_type": "code",
   "execution_count": 2,
   "metadata": {
    "collapsed": true
   },
   "outputs": [],
   "source": [
    "class MontageError(Exception):\n",
    "    pass\n",
    "\n",
    "def decorate_montage(module, decorator):\n",
    "    for name in dir(module):\n",
    "        obj = getattr(module, name)\n",
    "        if isinstance(obj, types.BuiltinFunctionType):\n",
    "            setattr(module, name, decorator(obj))\n",
    "\n",
    "def montage_exception(func):\n",
    "    @wraps(func)\n",
    "    def wrapper(*args, **kwargs):\n",
    "        rtn = func(*args, **kwargs)\n",
    "        if rtn['status'] == '1':\n",
    "            raise MontageError(rtn['msg'].decode('utf-8'))\n",
    "        else:\n",
    "            print(func.__name__, rtn)\n",
    "    return wrapper\n",
    "\n",
    "decorate_montage(m, montage_exception)"
   ]
  },
  {
   "cell_type": "code",
   "execution_count": 3,
   "metadata": {
    "collapsed": true
   },
   "outputs": [],
   "source": [
    "def montage_mosaic(tiles, out_file, quick_proj=False, coadd_type='average', correct_bg=True, workdir=None,\n",
    "                   clean_workdir=True):\n",
    "    \"\"\"\n",
    "    Automates the Montage mosaicking process on the input tiles.\n",
    "\n",
    "    Parameters\n",
    "    ----------\n",
    "    tiles : list-like\n",
    "        Input images to be mosaicked.\n",
    "    out_file : str\n",
    "        File name of the output mosaic image.\n",
    "    quick_proj : bool, optional\n",
    "        Flag to use the Quick Look projection method. Defaults to `False`.\n",
    "    coadd_type : {'average', 'median', 'sum'}, optional\n",
    "        Defines the coaddition type in stacking. Defaults to `'average'`.\n",
    "    correct_bg : bool, optional\n",
    "        Determines if we should background correct the images before coadding. Defaults to `True`.\n",
    "    workdir : str, optional\n",
    "        Name for temporary work directory. If not provided defaults to `'montage_workdir'`.\n",
    "    clean_workdir : bool, optional\n",
    "        Removes the temporary work directory structure once complete. Defaults to `True`.\n",
    "\n",
    "    \"\"\"\n",
    "\n",
    "    coadd_dict = {'average': 0,\n",
    "                  'median': 1,\n",
    "                  'sum': 2}\n",
    "\n",
    "    # Build the temporary work directory structure\n",
    "    if workdir is None:\n",
    "        workdir = 'montage_workdir'\n",
    "\n",
    "    raw_dir = workdir + '/raw'\n",
    "    projected_dir = workdir + '/projected'\n",
    "    diff_dir = workdir + '/diffs'\n",
    "    corrected_dir = workdir + '/corrected'\n",
    "\n",
    "    os.makedirs(raw_dir, exist_ok=True)\n",
    "    os.makedirs(projected_dir, exist_ok=True)\n",
    "    os.makedirs(diff_dir, exist_ok=True)\n",
    "    os.makedirs(corrected_dir, exist_ok=True)\n",
    "\n",
    "    # Symlink the files into the raw directory\n",
    "    for tile in tiles:\n",
    "        os.symlink(tile, os.path.join(raw_dir, os.path.basename(tile)))\n",
    "#         shutil.copy(tile, raw_dir)\n",
    "\n",
    "    # Generate the metatable for the raw images\n",
    "    raw_metatable = workdir + '/rImages.tbl'\n",
    "    m.mImgtbl(raw_dir, raw_metatable)\n",
    "\n",
    "    # Create the region header to cover the mosaic area\n",
    "    region_hdr = workdir + '/region.hdr'\n",
    "    m.mMakeHdr(raw_metatable, region_hdr)\n",
    "\n",
    "    # Perform reprojectioning\n",
    "    m.mProjExec(raw_dir, raw_metatable, region_hdr, projdir=projected_dir, quickMode=quick_proj)\n",
    "\n",
    "    # Generate the metatable for the projected images\n",
    "    projected_metatable = workdir + '/pImages.tbl'\n",
    "    m.mImgtbl(projected_dir, projected_metatable)\n",
    "\n",
    "    if correct_bg:\n",
    "        # Determine overlaps between the tiles\n",
    "        diff_table = workdir + '/diffs.tbl'\n",
    "        m.mOverlaps(projected_metatable, diff_table)\n",
    "\n",
    "        # Generate the difference images and fit them\n",
    "        diff_fit_table = workdir + '/fits.tbl'\n",
    "        m.mDiffFitExec(projected_dir, diff_table, region_hdr, diff_dir, diff_fit_table)\n",
    "\n",
    "        # Model the background corrections\n",
    "        corrections_table = workdir + '/corrections.tbl'\n",
    "        m.mBgModel(projected_metatable, diff_fit_table, corrections_table)\n",
    "\n",
    "        # Background correct the projected images\n",
    "        m.mBgExec(projected_dir, projected_metatable, corrections_table, corrected_dir)\n",
    "\n",
    "        # Create the metatable for the corrected images\n",
    "        corrected_metatable = workdir + '/cImages.tbl'\n",
    "        m.mImgtbl(corrected_dir, corrected_metatable)\n",
    "\n",
    "        # Coadd the background-corrected, projected images\n",
    "        m.mAdd(corrected_dir, corrected_metatable, region_hdr, out_file)\n",
    "\n",
    "    else:\n",
    "        # Coadd the projected images without background corrections\n",
    "        m.mAdd(projected_dir, projected_metatable, region_hdr, out_file, coadd=coadd_dict[coadd_type])\n",
    "\n",
    "    # Clean up the work directory\n",
    "    if clean_workdir:\n",
    "        shutil.rmtree(workdir)"
   ]
  },
  {
   "cell_type": "code",
   "execution_count": 4,
   "metadata": {},
   "outputs": [
    {
     "data": {
      "text/plain": [
       "['/lustre/work/mei/bfloyd/SPT_AGN/Data/SPTPol/images/ssdf_tiles/I1_SSDF4.0_mosaic.fits',\n",
       " '/lustre/work/mei/bfloyd/SPT_AGN/Data/SPTPol/images/ssdf_tiles/I1_SSDF4.1_mosaic.fits']"
      ]
     },
     "execution_count": 4,
     "metadata": {},
     "output_type": "execute_result"
    }
   ],
   "source": [
    "tiles = glob.glob('SPT_AGN/Data/SPTPol/images/ssdf_tiles/I1_SSDF4.*_mosaic.fits')\n",
    "tiles = [os.path.abspath(tile) for tile in tiles if '4.0' in tile or '4.1' in tile]\n",
    "tiles"
   ]
  },
  {
   "cell_type": "code",
   "execution_count": 5,
   "metadata": {},
   "outputs": [
    {
     "name": "stdout",
     "output_type": "stream",
     "text": [
      "mImgtbl {'status': '0', 'count': 2, 'badfits': 0, 'badwcs': 0}\n",
      "mMakeHdr {'status': '0', 'count': 2, 'ncube': 0, 'naxis1': 14705, 'naxis2': 13955, 'clon': 358.7904474840388, 'clat': -50.86220132116989, 'lonsize': 2.450838235, 'latsize': 2.325837985, 'posang': 0.22720678363638785, 'lon1': 0.7880122828242975, 'lat1': -52.00319877001041, 'lon2': 356.8074255480142, 'lat2': -52.013160146173334, 'lon3': 356.8896325290504, 'lat3': -49.688751936431906, 'lon4': 0.6766364871069754, 'lat4': -49.679274825650424}\n",
      "mProjExec {'status': '0', 'count': 2, 'failed': 0, 'nooverlap': 0}\n",
      "mImgtbl {'status': '0', 'count': 2, 'badfits': 0, 'badwcs': 0}\n"
     ]
    },
    {
     "ename": "MontageError",
     "evalue": "b'error reading from FITS file'",
     "output_type": "error",
     "traceback": [
      "\u001b[0;31m---------------------------------------------------------------------------\u001b[0m",
      "\u001b[0;31mMontageError\u001b[0m                              Traceback (most recent call last)",
      "\u001b[0;32m<ipython-input-5-bb7b6b4e531f>\u001b[0m in \u001b[0;36m<module>\u001b[0;34m\u001b[0m\n\u001b[0;32m----> 1\u001b[0;31m \u001b[0mmontage_mosaic\u001b[0m\u001b[0;34m(\u001b[0m\u001b[0mtiles\u001b[0m\u001b[0;34m,\u001b[0m \u001b[0;34m'montage_test_conserved.fits'\u001b[0m\u001b[0;34m,\u001b[0m \u001b[0mcorrect_bg\u001b[0m\u001b[0;34m=\u001b[0m\u001b[0;32mFalse\u001b[0m\u001b[0;34m)\u001b[0m\u001b[0;34m\u001b[0m\u001b[0;34m\u001b[0m\u001b[0m\n\u001b[0m",
      "\u001b[0;32m<ipython-input-3-19f130652282>\u001b[0m in \u001b[0;36mmontage_mosaic\u001b[0;34m(tiles, out_file, quick_proj, coadd_type, correct_bg, workdir, clean_workdir)\u001b[0m\n\u001b[1;32m     86\u001b[0m     \u001b[0;32melse\u001b[0m\u001b[0;34m:\u001b[0m\u001b[0;34m\u001b[0m\u001b[0;34m\u001b[0m\u001b[0m\n\u001b[1;32m     87\u001b[0m         \u001b[0;31m# Coadd the projected images without background corrections\u001b[0m\u001b[0;34m\u001b[0m\u001b[0;34m\u001b[0m\u001b[0;34m\u001b[0m\u001b[0m\n\u001b[0;32m---> 88\u001b[0;31m         \u001b[0mm\u001b[0m\u001b[0;34m.\u001b[0m\u001b[0mmAdd\u001b[0m\u001b[0;34m(\u001b[0m\u001b[0mprojected_dir\u001b[0m\u001b[0;34m,\u001b[0m \u001b[0mprojected_metatable\u001b[0m\u001b[0;34m,\u001b[0m \u001b[0mregion_hdr\u001b[0m\u001b[0;34m,\u001b[0m \u001b[0mout_file\u001b[0m\u001b[0;34m,\u001b[0m \u001b[0mcoadd\u001b[0m\u001b[0;34m=\u001b[0m\u001b[0mcoadd_dict\u001b[0m\u001b[0;34m[\u001b[0m\u001b[0mcoadd_type\u001b[0m\u001b[0;34m]\u001b[0m\u001b[0;34m)\u001b[0m\u001b[0;34m\u001b[0m\u001b[0;34m\u001b[0m\u001b[0m\n\u001b[0m\u001b[1;32m     89\u001b[0m \u001b[0;34m\u001b[0m\u001b[0m\n\u001b[1;32m     90\u001b[0m     \u001b[0;31m# Clean up the work directory\u001b[0m\u001b[0;34m\u001b[0m\u001b[0;34m\u001b[0m\u001b[0;34m\u001b[0m\u001b[0m\n",
      "\u001b[0;32m<ipython-input-2-457a42bdb912>\u001b[0m in \u001b[0;36mwrapper\u001b[0;34m(*args, **kwargs)\u001b[0m\n\u001b[1;32m     13\u001b[0m         \u001b[0mrtn\u001b[0m \u001b[0;34m=\u001b[0m \u001b[0mfunc\u001b[0m\u001b[0;34m(\u001b[0m\u001b[0;34m*\u001b[0m\u001b[0margs\u001b[0m\u001b[0;34m,\u001b[0m \u001b[0;34m**\u001b[0m\u001b[0mkwargs\u001b[0m\u001b[0;34m)\u001b[0m\u001b[0;34m\u001b[0m\u001b[0;34m\u001b[0m\u001b[0m\n\u001b[1;32m     14\u001b[0m         \u001b[0;32mif\u001b[0m \u001b[0mrtn\u001b[0m\u001b[0;34m[\u001b[0m\u001b[0;34m'status'\u001b[0m\u001b[0;34m]\u001b[0m \u001b[0;34m==\u001b[0m \u001b[0;34m'1'\u001b[0m\u001b[0;34m:\u001b[0m\u001b[0;34m\u001b[0m\u001b[0;34m\u001b[0m\u001b[0m\n\u001b[0;32m---> 15\u001b[0;31m             \u001b[0;32mraise\u001b[0m \u001b[0mMontageError\u001b[0m\u001b[0;34m(\u001b[0m\u001b[0mrtn\u001b[0m\u001b[0;34m[\u001b[0m\u001b[0;34m'msg'\u001b[0m\u001b[0;34m]\u001b[0m\u001b[0;34m)\u001b[0m\u001b[0;34m\u001b[0m\u001b[0;34m\u001b[0m\u001b[0m\n\u001b[0m\u001b[1;32m     16\u001b[0m         \u001b[0;32melse\u001b[0m\u001b[0;34m:\u001b[0m\u001b[0;34m\u001b[0m\u001b[0;34m\u001b[0m\u001b[0m\n\u001b[1;32m     17\u001b[0m             \u001b[0mprint\u001b[0m\u001b[0;34m(\u001b[0m\u001b[0mfunc\u001b[0m\u001b[0;34m.\u001b[0m\u001b[0m__name__\u001b[0m\u001b[0;34m,\u001b[0m \u001b[0mrtn\u001b[0m\u001b[0;34m)\u001b[0m\u001b[0;34m\u001b[0m\u001b[0;34m\u001b[0m\u001b[0m\n",
      "\u001b[0;31mMontageError\u001b[0m: b'error reading from FITS file'"
     ]
    }
   ],
   "source": [
    "montage_mosaic(tiles, 'montage_test_conserved.fits', correct_bg=False)"
   ]
  },
  {
   "cell_type": "code",
   "execution_count": null,
   "metadata": {},
   "outputs": [],
   "source": [
    "from astropy.io import fits\n",
    "from astropy.visualization import imshow_norm, ZScaleInterval\n",
    "import matplotlib.pyplot as plt\n",
    "%matplotlib inline\n",
    "\n",
    "final_image = fits.getdata('montage_test_conserved.fits')\n",
    "imshow_norm(final_image, origin='lower', cmap='gray_r', interval=ZScaleInterval())\n",
    "plt.show()"
   ]
  }
 ],
 "metadata": {
  "kernelspec": {
   "display_name": "Python (astro3)",
   "language": "python",
   "name": "astro3"
  },
  "language_info": {
   "codemirror_mode": {
    "name": "ipython",
    "version": 3
   },
   "file_extension": ".py",
   "mimetype": "text/x-python",
   "name": "python",
   "nbconvert_exporter": "python",
   "pygments_lexer": "ipython3",
   "version": "3.7.1"
  }
 },
 "nbformat": 4,
 "nbformat_minor": 2
}
