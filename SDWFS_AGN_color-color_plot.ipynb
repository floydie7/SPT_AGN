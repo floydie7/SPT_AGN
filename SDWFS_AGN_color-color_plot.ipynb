{
 "cells": [
  {
   "cell_type": "markdown",
   "source": [
    "# SDWFS AGN Color--Color Plane Plot\n",
    "## Author: Benjamin Floyd\n",
    "\n",
    "Generates a publication plot of the SDWFS AGN color--color plane showing both Stern+05 and Donley+12 selections"
   ],
   "metadata": {
    "collapsed": false,
    "pycharm": {
     "name": "#%% md\n"
    }
   }
  },
  {
   "cell_type": "code",
   "execution_count": 1,
   "outputs": [],
   "source": [
    "import numpy as np\n",
    "import matplotlib.pyplot as plt\n",
    "from astropy.table import Table, join\n",
    "from matplotlib.lines import Line2D\n",
    "from matplotlib.patches import Polygon\n",
    "\n",
    "%matplotlib inline\n",
    "plt.style.use('seaborn-colorblind')"
   ],
   "metadata": {
    "collapsed": false,
    "pycharm": {
     "name": "#%%\n"
    }
   }
  },
  {
   "cell_type": "code",
   "execution_count": null,
   "outputs": [],
   "source": [
    "# Read in the SDWFS photometric catalog\n",
    "sdwfs_main = Table.read('Data_Repository/Catalogs/Bootes/SDWFS/ch2v33_sdwfs_2009mar3_apcorr_matched_ap4_Main_v0.4.cat.gz',\n",
    "                        names=['ID', 'IRAC_RA', 'IRAC_DEC', 'B_APFLUX4', 'R_APFLUX4', 'I_APFLUX4', 'B_APFLUXERR4',\n",
    "                               'R_APFLUXERR4', 'I_APFLUXERR4', 'B_APMAG4', 'R_APMAG4', 'I_APMAG4', 'B_APMAGERR4',\n",
    "                               'R_APMAGERR4', 'I_APMAGERR4', 'CH1_APFLUX4', 'CH2_APFLUX4', 'CH3_APFLUX4', 'CH4_APFLUX4',\n",
    "                               'CH1_APFLUXERR4', 'CH2_APFLUXERR4', 'CH3_APFLUXERR4', 'CH4_APFLUXERR4',\n",
    "                               'CH1_APFLUXERR4_BROWN', 'CH2_APFLUXERR4_BROWN', 'CH3_APFLUXERR4_BROWN',\n",
    "                               'CH4_APFLUXERR4_BROWN', 'CH1_APMAG4', 'CH2_APMAG4', 'CH3_APMAG4', 'CH4_APMAG4',\n",
    "                               'CH1_APMAGERR4', 'CH2_APMAGERR4', 'CH3_APMAGERR4', 'CH4_APMAGERR4',\n",
    "                               'CH1_APMAGERR4_BROWN', 'CH2_APMAGERR4_BROWN', 'CH3_APMAGERR4_BROWN',\n",
    "                               'CH4_APMAGERR4_BROWN', 'STARS_COLOR', 'STARS_MORPH', 'CLASS_STAR', 'MBZ_FLAG_4_4_4'],\n",
    "                        format='ascii')\n",
    "\n",
    "# Read in the photometric redshift catalog\n",
    "sdwfs_photz = Table.read('Data_Repository/Catalogs/Bootes/SDWFS/mbz_v0.06_prior_bri12_18p8.cat.gz',\n",
    "                         names=['ID', 'PHOT_Z', 'col3', 'col4', 'col5', 'col6', 'col7'],\n",
    "                         format='ascii',\n",
    "                         include_names=['ID', 'PHOT_Z'])\n",
    "\n",
    "# Join the two catalogs together\n",
    "sdwfs_cat = join(sdwfs_main, sdwfs_photz, keys='ID')"
   ],
   "metadata": {
    "collapsed": false,
    "pycharm": {
     "name": "#%%\n"
    }
   }
  },
  {
   "cell_type": "code",
   "execution_count": null,
   "outputs": [],
   "source": [
    "# For convenience, add columns for the two colors\n",
    "sdwfs_cat['CH1_CH2_COLOR'] = sdwfs_cat['CH1_APMAG4'] - sdwfs_cat['CH2_APMAG4']\n",
    "sdwfs_cat['CH3_CH4_COLOR'] = sdwfs_cat['CH3_APMAG4'] - sdwfs_cat['CH4_APMAG4']\n",
    "\n",
    "# And add columns for the log flux ratios\n",
    "sdwfs_cat['CH3_CH1_LOG_FLUX'] = np.log10(sdwfs_cat['CH3_APFLUX4'] / sdwfs_cat['CH1_APFLUX4'])\n",
    "sdwfs_cat['CH4_CH2_LOG_FLUX'] = np.log10(sdwfs_cat['CH4_APFLUX4'] / sdwfs_cat['CH2_APFLUX4'])"
   ],
   "metadata": {
    "collapsed": false,
    "pycharm": {
     "name": "#%%\n"
    }
   }
  },
  {
   "cell_type": "code",
   "execution_count": null,
   "outputs": [],
   "source": [
    "# Require SNR cuts of > 5 in all bands for a clean sample\n",
    "sdwfs_cat = sdwfs_cat[(sdwfs_cat['CH1_APFLUX4'] / sdwfs_cat['CH1_APFLUXERR4'] >= 5) &\n",
    "                      (sdwfs_cat['CH2_APFLUX4'] / sdwfs_cat['CH2_APFLUXERR4'] >= 5) &\n",
    "                      (sdwfs_cat['CH3_APFLUX4'] / sdwfs_cat['CH3_APFLUXERR4'] >= 5) &\n",
    "                      (sdwfs_cat['CH4_APFLUX4'] / sdwfs_cat['CH4_APFLUXERR4'] >= 5)]"
   ],
   "metadata": {
    "collapsed": false,
    "pycharm": {
     "name": "#%%\n"
    }
   }
  },
  {
   "cell_type": "code",
   "execution_count": null,
   "outputs": [],
   "source": [
    "# Make AGN selections using the Stern+05 wedge selection\n",
    "stern_agn = sdwfs_cat[(sdwfs_cat['CH3_CH4_COLOR'] > 0.6) &\n",
    "                      (sdwfs_cat['CH1_CH2_COLOR'] > 0.2 * sdwfs_cat['CH3_CH4_COLOR'] + 0.18) &\n",
    "                      (sdwfs_cat['CH1_CH2_COLOR'] > 2.5 * sdwfs_cat['CH3_CH4_COLOR'] - 3.5)]\n",
    "\n",
    "donley_agn = sdwfs_cat[(sdwfs_cat['CH3_CH1_LOG_FLUX'] >= 0.08) & (sdwfs_cat['CH4_CH2_LOG_FLUX'] >= 0.15) &\n",
    "                       (sdwfs_cat['CH4_CH2_LOG_FLUX'] >= 1.21 * sdwfs_cat['CH3_CH1_LOG_FLUX'] - 0.27) &\n",
    "                       (sdwfs_cat['CH4_CH2_LOG_FLUX'] <= 1.21 * sdwfs_cat['CH3_CH1_LOG_FLUX'] + 0.27) &\n",
    "                       (sdwfs_cat['CH2_APFLUX4'] > sdwfs_cat['CH1_APFLUX4']) &\n",
    "                       (sdwfs_cat['CH3_APFLUX4'] > sdwfs_cat['CH2_APFLUX4']) &\n",
    "                       (sdwfs_cat['CH4_APFLUX4'] > sdwfs_cat['CH3_APFLUX4'])]"
   ],
   "metadata": {
    "collapsed": false,
    "pycharm": {
     "name": "#%%\n"
    }
   }
  },
  {
   "cell_type": "code",
   "execution_count": null,
   "outputs": [],
   "source": [
    "# Identify the IDs of the objects outside the Stern-wedge selection to create a sample of non-AGN.\n",
    "stern_complement_ids = list(set(sdwfs_cat['ID']) - set(stern_agn['ID']))\n",
    "non_agn = sdwfs_cat[np.in1d(sdwfs_cat['ID'], stern_complement_ids)]"
   ],
   "metadata": {
    "collapsed": false,
    "pycharm": {
     "name": "#%%\n"
    }
   }
  },
  {
   "cell_type": "code",
   "execution_count": null,
   "outputs": [],
   "source": [
    "# Make plot\n",
    "fig, ax = plt.subplots()\n",
    "# Sample hexbins\n",
    "ax.hexbin(non_agn['CH3_CH4_COLOR'], non_agn['CH1_CH2_COLOR'], gridsize=50, extent=(0., 3., 0., 1.5), cmap='Blues', bins=None, mincnt=1)\n",
    "ax.hexbin(stern_agn['CH3_CH4_COLOR'], stern_agn['CH1_CH2_COLOR'], gridsize=50, extent=(0., 3., 0., 1.5), cmap='Oranges', bins=None, mincnt=1, alpha=0.6)\n",
    "ax.hexbin(donley_agn['CH3_CH4_COLOR'], donley_agn['CH1_CH2_COLOR'], gridsize=50, extent=(0., 3., 0., 1.5), cmap='Greens', bins=None, mincnt=1, alpha=0.3)\n",
    "\n",
    "# Stern wedge bounds\n",
    "ymin, ymax = ax.get_ylim()\n",
    "ax.add_patch(Polygon([(0.6, ymax), (0.6, 0.3), (1.6, 0.5), ((ymax + 3.5) / 2.5, ymax)], closed=False))\n",
    "\n",
    "# Donley Power-law Locus line\n",
    "# ax.plot()\n",
    "\n",
    "# Make legend\n",
    "handles, labels = ax.get_legend_handles_labels()\n",
    "handles.extend([Line2D([0], [0], marker='h', color='w', markerfacecolor='lightcoral', markeredgecolor='firebrick', markersize=10),\n",
    "                Line2D([0], [0], marker='h', color='w', markerfacecolor='lightgreen', markeredgecolor='seagreen', markersize=10),\n",
    "                Line2D([0], [0], marker='h', color='w', markerfacecolor='lightblue', markeredgecolor='steelblue', markersize=10)])\n",
    "labels.extend(['Stern Wedge AGN', 'Donley Power-Law Locus AGN', 'Non-Active Galaxies'])\n",
    "ax.legend(handles, labels, frameon=False)\n",
    "\n",
    "ax.set(xlabel='[5.8] - [8.0] (Vega)', ylabel='[3.6] - [4.5] (Vega)')\n",
    "fig.savefig('Data_Repository/Project_Data/SPT-IRAGN/Publication_Plots/SDWFS_AGN_color-color_publication.pdf')\n",
    "plt.show()"
   ],
   "metadata": {
    "collapsed": false,
    "pycharm": {
     "name": "#%%\n"
    }
   }
  }
 ],
 "metadata": {
  "kernelspec": {
   "display_name": "Python 3",
   "language": "python",
   "name": "python3"
  },
  "language_info": {
   "codemirror_mode": {
    "name": "ipython",
    "version": 2
   },
   "file_extension": ".py",
   "mimetype": "text/x-python",
   "name": "python",
   "nbconvert_exporter": "python",
   "pygments_lexer": "ipython2",
   "version": "2.7.6"
  }
 },
 "nbformat": 4,
 "nbformat_minor": 0
}