{
 "cells": [
  {
   "cell_type": "markdown",
   "source": [
    "# SPTcl-IRAGN Number-Signal Radial Plot\n",
    "### Author: Benjamin Floyd\n",
    "\n",
    "Generates a publication plot showing how the number counts change as a function of signal both inside the cluster and outside. This should show a discrepancy of number counts due to the presence of the cluster over the field AGN."
   ],
   "metadata": {
    "collapsed": false,
    "pycharm": {
     "name": "#%% md\n"
    }
   }
  },
  {
   "cell_type": "code",
   "execution_count": 1,
   "metadata": {
    "collapsed": true,
    "pycharm": {
     "name": "#%%\n"
    }
   },
   "outputs": [],
   "source": [
    "import numpy as np\n",
    "import json\n",
    "from astropy.table import Table\n",
    "import matplotlib.pyplot as plt\n",
    "from scipy.interpolate import interp1d\n",
    "from astropy.cosmology import FlatLambdaCDM\n",
    "import astropy.units as u\n",
    "cosmo = FlatLambdaCDM(H0=70, Om0=0.3)\n",
    "\n",
    "%matplotlib inline\n",
    "plt.style.use('seaborn-colorblind')\n",
    "plt.rcParams.update({'font.size': 14})"
   ]
  },
  {
   "cell_type": "code",
   "execution_count": 2,
   "outputs": [],
   "source": [
    "# Read in the AGN catalogs\n",
    "sdwfs_agn = Table.read('Data_Repository/Project_Data/SPT-IRAGN/Output/SDWFS_cutout_IRAGN.fits')\n",
    "sptcl_agn = Table.read('Data_Repository/Project_Data/SPT-IRAGN/Output/SPTcl_IRAGN.fits')"
   ],
   "metadata": {
    "collapsed": false,
    "pycharm": {
     "name": "#%%\n"
    }
   }
  },
  {
   "cell_type": "code",
   "execution_count": 3,
   "outputs": [],
   "source": [
    "# Read in the AGN color-redshift threshold data\n",
    "with open('Data_Repository/Project_Data/SPT-IRAGN/SDWFS_background/SDWFS_purity_color.json', 'r') as f:\n",
    "    sdwfs_purity_data = json.load(f)\n",
    "\n",
    "# Create interpolator\n",
    "agn_purity_color = interp1d(sdwfs_purity_data['redshift_bins'][:-1], sdwfs_purity_data['purity_90_colors'], kind='previous')"
   ],
   "metadata": {
    "collapsed": false,
    "pycharm": {
     "name": "#%%\n"
    }
   }
  },
  {
   "cell_type": "code",
   "execution_count": 4,
   "outputs": [],
   "source": [
    "# Select the AGN using a hard selection membership cut\n",
    "sptcl_agn = sptcl_agn[sptcl_agn['SELECTION_MEMBERSHIP'] >= 0.5]"
   ],
   "metadata": {
    "collapsed": false,
    "pycharm": {
     "name": "#%%\n"
    }
   }
  },
  {
   "cell_type": "code",
   "execution_count": 5,
   "outputs": [],
   "source": [
    "# Find the largest common radius in r500 units for all clusters\n",
    "max_angular_radius = 2.5 * u.arcmin\n",
    "\n",
    "cluster_z = [cat['REDSHIFT'][0] for cat in sptcl_agn.group_by('SPT_ID').groups]\n",
    "cluster_r500 = [cat['R500'][0] for cat in sptcl_agn.group_by('SPT_ID').groups] * u.Mpc\n",
    "\n",
    "max_physical_radius = u.Quantity([max_angular_radius * cosmo.kpc_proper_per_arcmin(z).to(u.Mpc / u.arcmin) for z in cluster_z])\n",
    "max_r500_radius = max_physical_radius / cluster_r500\n",
    "common_radius = max_r500_radius.min()"
   ],
   "metadata": {
    "collapsed": false,
    "pycharm": {
     "name": "#%%\n"
    }
   }
  },
  {
   "cell_type": "code",
   "execution_count": 6,
   "outputs": [],
   "source": [
    "# Separate the cluster into inner and outer samples\n",
    "inner_cluster = sptcl_agn[sptcl_agn['RADIAL_SEP_R500'] <= common_radius]\n",
    "outer_cluster = sptcl_agn[sptcl_agn['RADIAL_SEP_R500'] > common_radius]"
   ],
   "metadata": {
    "collapsed": false,
    "pycharm": {
     "name": "#%%\n"
    }
   }
  },
  {
   "cell_type": "code",
   "execution_count": 7,
   "outputs": [],
   "source": [
    "# Bin the cluster data by the 4.5 um magnitudes\n",
    "magnitude_bins = np.linspace(sptcl_agn['I2_MAG_APER4'].min(), sptcl_agn['I2_MAG_APER4'].max(), num=200)\n",
    "inner_mag_binning = np.digitize(inner_cluster['I2_MAG_APER4'], magnitude_bins)\n",
    "outer_mag_binning = np.digitize(outer_cluster['I2_MAG_APER4'], magnitude_bins)\n",
    "\n",
    "inner_cluster_mag_binned = inner_cluster.group_by(inner_mag_binning)\n",
    "outer_cluster_mag_binned = outer_cluster.group_by(outer_mag_binning)"
   ],
   "metadata": {
    "collapsed": false,
    "pycharm": {
     "name": "#%%\n"
    }
   }
  },
  {
   "cell_type": "code",
   "execution_count": 8,
   "outputs": [],
   "source": [
    "# Count the number of objects brighter than the magnitude\n",
    "inner_n, outer_n = [], []\n",
    "for upper_mag in magnitude_bins[1:]:\n",
    "    inner_n.append(inner_cluster[inner_cluster['I2_MAG_APER4'] < upper_mag]['COMPLETENESS_CORRECTION'].sum())\n",
    "    outer_n.append(outer_cluster[outer_cluster['I2_MAG_APER4'] < upper_mag]['COMPLETENESS_CORRECTION'].sum())"
   ],
   "metadata": {
    "collapsed": false,
    "pycharm": {
     "name": "#%%\n"
    }
   }
  },
  {
   "cell_type": "code",
   "execution_count": 9,
   "outputs": [
    {
     "name": "stderr",
     "output_type": "stream",
     "text": [
      "/tmp/ipykernel_3781/105393957.py:2: RuntimeWarning: divide by zero encountered in log10\n",
      "  ax.step(magnitude_bins[1:], np.log10(inner_n), label=fr'$\\leq {common_radius:.2f} r_{{500}}$', where='post')\n"
     ]
    },
    {
     "data": {
      "text/plain": "<Figure size 432x288 with 1 Axes>",
      "image/png": "[encoded data removed]"
     },
     "metadata": {
      "needs_background": "light"
     },
     "output_type": "display_data"
    }
   ],
   "source": [
    "fig, ax = plt.subplots()\n",
    "ax.step(magnitude_bins[1:], np.log10(inner_n), label=fr'$\\leq {common_radius:.2f} r_{{500}}$', where='post')\n",
    "ax.step(magnitude_bins[1:], np.log10(outer_n), label=fr'$> {common_radius:.2f} r_{{500}}$', where='post')\n",
    "ax.legend()\n",
    "ax.invert_xaxis()\n",
    "ax.set(xlabel='[4.5] (Vega Magnitude)', ylabel=r'$\\log N(<[4.5])$')\n",
    "plt.show()"
   ],
   "metadata": {
    "collapsed": false,
    "pycharm": {
     "name": "#%%\n"
    }
   }
  }
 ],
 "metadata": {
  "kernelspec": {
   "display_name": "Python 3",
   "language": "python",
   "name": "python3"
  },
  "language_info": {
   "codemirror_mode": {
    "name": "ipython",
    "version": 2
   },
   "file_extension": ".py",
   "mimetype": "text/x-python",
   "name": "python",
   "nbconvert_exporter": "python",
   "pygments_lexer": "ipython2",
   "version": "2.7.6"
  }
 },
 "nbformat": 4,
 "nbformat_minor": 0
}